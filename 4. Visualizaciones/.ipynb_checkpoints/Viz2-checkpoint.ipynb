{
 "cells": [
  {
   "cell_type": "code",
   "execution_count": null,
   "id": "6ae839f5-e0c3-45f4-b443-0cefcb2cbe65",
   "metadata": {},
   "outputs": [],
   "source": [
    "if (!require('forecast')) {\n",
    "  install.packages('forecast')\n",
    "  library('forecast')\n",
    "} else {\n",
    "  library('forecast')\n",
    "}\n",
    "\n",
    "if (!require('transformeR')) {\n",
    "  install_github('SantanderMetGroup/transformeR')\n",
    "  library('transformeR')\n",
    "} else {\n",
    "  library('transformeR')\n",
    "}"
   ]
  },
  {
   "cell_type": "code",
   "execution_count": 2,
   "id": "84326f61-c3bf-4905-9058-a9b92a654aa9",
   "metadata": {},
   "outputs": [
    {
     "name": "stdout",
     "output_type": "stream",
     "text": [
      "Loading objects:\n",
      "  ba.mergeGrid5\n",
      "Loading objects:\n",
      "  df.seriesTemporales_conCoords\n"
     ]
    }
   ],
   "source": [
    "load('../1.Upscaling/upscaling_ba/ba_grid_5.Rdata',verbose = TRUE)\n",
    "load('../3.Datos generados/dataframes/df.series_grid_5.Rdata',verbose = TRUE)"
   ]
  },
  {
   "cell_type": "code",
   "execution_count": 3,
   "id": "a93f6622-5784-458a-9afa-2f82e2a471f0",
   "metadata": {},
   "outputs": [],
   "source": [
    "df_sinCeros <- data.frame()\n",
    "for (i in 1:nrow(df.seriesTemporales_conCoords)){\n",
    "    if (all(unlist(df.seriesTemporales_conCoords[i,3:14]) != 0)){\n",
    "        df_sinCeros <- rbind(df_sinCeros, df.seriesTemporales_conCoords[i,])\n",
    "    }\n",
    "}"
   ]
  },
  {
   "cell_type": "code",
   "execution_count": 4,
   "id": "dd6d8a28-d6ee-4599-b60f-9eaaaccd98af",
   "metadata": {},
   "outputs": [],
   "source": [
    "x = df_sinCeros$'coord_x'[3]\n",
    "y = df_sinCeros$'coord_y'[3]\n",
    "\n",
    "df <- data.frame()\n",
    "for (year in 2001:2022){\n",
    "    new_grid <- subsetGrid(grid = ba.mergeGrid5, year = year, lonLim  = x, latLim  = y)\n",
    "    df <- rbind(df, new_grid$Data)\n",
    "}\n",
    "colnames(df) <- c(1:12)\n",
    "rownames(df) <- c(2001:2022)"
   ]
  },
  {
   "cell_type": "code",
   "execution_count": 5,
   "id": "b9f7c611-9769-4edb-b94c-45d6d67a1cef",
   "metadata": {},
   "outputs": [],
   "source": [
    "z = as.vector(unlist(df))"
   ]
  },
  {
   "cell_type": "code",
   "execution_count": null,
   "id": "49b76b6c-097f-4d97-bd8f-86e51317c132",
   "metadata": {},
   "outputs": [],
   "source": [
    " y <- ts(z, start=2001, frequency=12)"
   ]
  },
  {
   "cell_type": "code",
   "execution_count": null,
   "id": "f2e95285-2edc-4f4e-902f-10fed32956d6",
   "metadata": {},
   "outputs": [],
   "source": [
    "ggseasonplot(y)\n",
    "ggseasonplot(y, polar=TRUE)"
   ]
  }
 ],
 "metadata": {
  "kernelspec": {
   "display_name": "climate4R",
   "language": "R",
   "name": "climate4r"
  },
  "language_info": {
   "codemirror_mode": "r",
   "file_extension": ".r",
   "mimetype": "text/x-r-source",
   "name": "R",
   "pygments_lexer": "r",
   "version": "3.6.3"
  }
 },
 "nbformat": 4,
 "nbformat_minor": 5
}
