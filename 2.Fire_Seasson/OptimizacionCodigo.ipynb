{
 "cells": [
  {
   "cell_type": "code",
   "execution_count": 1,
   "id": "9ac65e92-939b-4a5f-8168-fe7e35d39369",
   "metadata": {},
   "outputs": [],
   "source": [
    "grid = get(load(\"../1.Upscaling/upscaling_ba/ba_grid_5.Rdata\"))"
   ]
  },
  {
   "cell_type": "code",
   "execution_count": 4,
   "id": "3fb60a84-6ad4-4cf5-94af-759e00022385",
   "metadata": {},
   "outputs": [
    {
     "name": "stdout",
     "output_type": "stream",
     "text": [
      "\n",
      "    _______   ____  ___________________  __  ________ \n",
      "   / ___/ /  / /  |/  / __  /_  __/ __/ / / / / __  / \n",
      "  / /  / /  / / /|_/ / /_/ / / / / __/ / /_/ / /_/_/  \n",
      " / /__/ /__/ / /  / / __  / / / / /__ /___  / / \\ \\ \n",
      " \\___/____/_/_/  /_/_/ /_/ /_/  \\___/    /_/\\/   \\_\\ \n",
      " \n",
      "      github.com/SantanderMetGroup/climate4R\n",
      "\n"
     ]
    },
    {
     "name": "stderr",
     "output_type": "stream",
     "text": [
      "transformeR version 2.1.3 (2021-08-04) is loaded\n",
      "\n",
      "WARNING: Your current version of transformeR (v2.1.3) is not up-to-date\n",
      "\n",
      "Get the latest stable version (2.1.5) using <devtools::install_github('SantanderMetGroup/transformeR')>\n",
      "\n",
      "Please see 'citation(\"transformeR\")' to cite this package.\n",
      "\n",
      "Warning message:\n",
      "“no DISPLAY variable so Tk is not available”\n",
      "visualizeR version 1.6.1 (2021-03-11) is loaded\n",
      "\n",
      "WARNING: Your current version of visualizeR (v1.6.1) is not up-to-date\n",
      "\n",
      "Get the latest stable version (1.6.3) using <devtools::install_github('SantanderMetGroup/visualizeR')>\n",
      "\n",
      "Please see 'citation(\"visualizeR\")' to cite this package.\n",
      "\n"
     ]
    }
   ],
   "source": [
    "source(\"Funciones_FS.r\")"
   ]
  },
  {
   "cell_type": "code",
   "execution_count": 214,
   "id": "b0b83eb5-79f5-44aa-9d2a-a9168b5790d1",
   "metadata": {},
   "outputs": [],
   "source": [
    "func.applyDataFrame <- function (row, func = mean){\n",
    "    subgrid <- subsetGrid(grid, season = row[\"Mes\"], lonLim = row[\"X\"], latLim  = row[\"Y\"])\n",
    "    serie <- func(subgrid$Data)\n",
    "    return (serie)\n",
    "}"
   ]
  },
  {
   "cell_type": "code",
   "execution_count": null,
   "id": "7cee7e86-b23d-4db3-952c-c192068f0a30",
   "metadata": {},
   "outputs": [],
   "source": [
    "parallel_apply <- function(i) {\n",
    "  inicio <- filas_df_params_mes_inicios[i]\n",
    "  final <- filas_df_params_mes_finales[i]\n",
    "  parametros_mes <- df_params[inicio:final, ]\n",
    "  resultado_mes <- apply(parametros_mes, 1, func.applyDataFrame)\n",
    "  return(resultado_mes)\n",
    "}"
   ]
  },
  {
   "cell_type": "code",
   "execution_count": 239,
   "id": "341bf3ab-26db-4cdc-b22b-2f428a170e67",
   "metadata": {},
   "outputs": [],
   "source": [
    "func.toDataFrame <- function(grid, func = mean){\n",
    "    lon = grid$xyCoords$x\n",
    "    lat = grid$xyCoords$y\n",
    "    df_params <- expand.grid( \"X\" = lon, \"Y\" = lat, \"Mes\" = c(1:12))\n",
    "    df.seriesTemporales <-  expand.grid( \"X\" = lon, \"Y\" = lat)\n",
    "    vector_mes <- rep(0, nrow(df.seriesTemporales))\n",
    "    df.seriesTemporales <- cbind(df.seriesTemporales, '1'=vector_mes, '2'=vector_mes, '3'=vector_mes, '4'=vector_mes, '5'=vector_mes, '6'=vector_mes, '7'=vector_mes, '8'=vector_mes,'9'=vector_mes,'10'=vector_mes,'11'=vector_mes, '12'=vector_mes)\n",
    "    filas_df_params_mes <- (seq(0, nrow(df_params), length(lon) * length(lat)))\n",
    "    filas_df_params_mes <- (seq(0, nrow(df_params), length(lon) * length(lat)))\n",
    "    filas_df_params_mes_finales = c()\n",
    "    for (i in filas_df_params_mes[2:length(filas_df_params_mes)]){\n",
    "        filas_df_params_mes_finales = c(filas_df_params_mes_finales, i)\n",
    "    }\n",
    "\n",
    "    filas_df_params_mes_inicios = c(1)\n",
    "    for (i in seq(1,12)){\n",
    "            lista_finales = filas_df_params_mes_finales[2:length(filas_df_params_mes_finales)-1]\n",
    "            filas_df_params_mes_inicios = c(filas_df_params_mes_inicios, lista_finales[i]+1)    \n",
    "    }\n",
    "    filas_df_params_mes_inicios = na.omit(filas_df_params_mes_inicios)\n",
    "    progreso_total <- 12\n",
    "    progreso <- 0\n",
    "    progreso_pct <- (progreso / progreso_total) * 100\n",
    "    cat(sprintf(\"\\r%.2f%% completado\", progreso_pct))\n",
    "    for (i in seq(1,12)){\n",
    "        inicio <- filas_df_params_mes_inicios[i]\n",
    "        final <- filas_df_params_mes_finales[i]\n",
    "        parametros_mes <- df_params[inicio:final,]\n",
    "        resultado_mes <- apply(parametros_mes, 1, func.applyDataFrame)\n",
    "        df.seriesTemporales[[as.character(i)]] <- resultado_mes\n",
    "        progreso <- progreso + 1\n",
    "        progreso_pct <- (progreso / progreso_total) * 100\n",
    "        cat(sprintf(\"\\r%.2f%% completado\", progreso_pct))\n",
    "        flush.console()\n",
    "    }\n",
    "    return(df.seriesTemporales)\n",
    "    \n",
    "}"
   ]
  },
  {
   "cell_type": "code",
   "execution_count": 240,
   "id": "0e9cfbf5-4886-4015-b7bc-b02f741a654f",
   "metadata": {},
   "outputs": [
    {
     "name": "stdout",
     "output_type": "stream",
     "text": [
      "100.00% completado"
     ]
    },
    {
     "data": {
      "text/plain": [
       "Time difference of 4.03098 mins"
      ]
     },
     "metadata": {},
     "output_type": "display_data"
    }
   ],
   "source": [
    "a = Sys.time()\n",
    "df.seriesTemporales <- func.toDataFrame(grid = grid, func = mean)\n",
    "b = Sys.time()\n",
    "b - a "
   ]
  },
  {
   "cell_type": "markdown",
   "id": "4d93e414-c70c-4ecd-a93a-caff936e027f",
   "metadata": {},
   "source": [
    "Usando multiprocesamiento:"
   ]
  },
  {
   "cell_type": "code",
   "execution_count": 13,
   "id": "5d996e80-ec62-45b4-903d-488007909fa2",
   "metadata": {},
   "outputs": [],
   "source": [
    "library(parallel)\n",
    "library(transformeR)\n",
    "grid = get(load(\"../1.Upscaling/upscaling_ba/ba_grid_5.Rdata\"))"
   ]
  },
  {
   "cell_type": "code",
   "execution_count": 14,
   "id": "dbd4c82f-3ecf-4372-9aef-a915b0c80e28",
   "metadata": {},
   "outputs": [],
   "source": [
    "parallel_apply <- function(i) {\n",
    "  inicio <- filas_df_params_mes_inicios[i]\n",
    "  final <- filas_df_params_mes_finales[i]\n",
    "  parametros_mes <- df_params[inicio:final, ]\n",
    "  resultado_mes <- apply(parametros_mes, 1, func.applyDataFrame)\n",
    "  return(resultado_mes)\n",
    "}"
   ]
  },
  {
   "cell_type": "code",
   "execution_count": 15,
   "id": "93fe0fdd-8931-4b49-82d8-f2f43a508025",
   "metadata": {},
   "outputs": [],
   "source": [
    "func.applyDataFrame <- function (row, func = mean){\n",
    "    subgrid <- subsetGrid(grid, season = row[\"Mes\"], lonLim = row[\"X\"], latLim  = row[\"Y\"])\n",
    "    serie <- func(subgrid$Data)\n",
    "    return (serie)\n",
    "}"
   ]
  },
  {
   "cell_type": "code",
   "execution_count": 16,
   "id": "c508d428-4364-4650-a7d2-dbefb73fdff1",
   "metadata": {},
   "outputs": [],
   "source": [
    "func.iniciosFinales_mes<- function (grid){\n",
    "    lon = grid$xyCoords$x\n",
    "    lat = grid$xyCoords$y\n",
    "    df_params <- expand.grid( \"X\" = lon, \"Y\" = lat, \"Mes\" = c(1:12))\n",
    "    filas_df_params_mes <- (seq(0, nrow(df_params), length(lon) * length(lat)))\n",
    "    \n",
    "    filas_df_params_mes_finales = c()\n",
    "    for (i in filas_df_params_mes[2:length(filas_df_params_mes)]){\n",
    "        filas_df_params_mes_finales = c(filas_df_params_mes_finales, i)\n",
    "    }\n",
    "    filas_df_params_mes_inicios = c(1)\n",
    "    for (i in seq(1,12)){\n",
    "            lista_finales = filas_df_params_mes_finales[2:length(filas_df_params_mes_finales)-1]\n",
    "            filas_df_params_mes_inicios = c(filas_df_params_mes_inicios, lista_finales[i]+1)    \n",
    "    }\n",
    "    filas_df_params_mes_inicios = na.omit(filas_df_params_mes_inicios)\n",
    "    return (list(filas_df_params_mes_inicios,filas_df_params_mes_finales,df_params))\n",
    "}\n"
   ]
  },
  {
   "cell_type": "code",
   "execution_count": 17,
   "id": "2ed83050-a2e0-40e6-ad15-16ba481c1a2e",
   "metadata": {},
   "outputs": [],
   "source": [
    "iniciosFinalesMes <- func.iniciosFinales_mes(grid)\n",
    "filas_df_params_mes_inicios <- iniciosFinalesMes[[1]]\n",
    "filas_df_params_mes_finales <- iniciosFinalesMes[[2]]\n",
    "df_params <- iniciosFinalesMes[[3]]"
   ]
  },
  {
   "cell_type": "code",
   "execution_count": 18,
   "id": "db3a92e3-b5c5-4730-b706-28d283e6c492",
   "metadata": {},
   "outputs": [],
   "source": [
    "func.toDataFrame <- function(grid, func = mean){\n",
    "    lon = grid$xyCoords$x\n",
    "    lat = grid$xyCoords$y\n",
    "    df_params <- expand.grid( \"X\" = lon, \"Y\" = lat, \"Mes\" = c(1:12))\n",
    "    df.seriesTemporales <-  expand.grid( \"X\" = lon, \"Y\" = lat)\n",
    "\n",
    "    num_cores <- detectCores()\n",
    "    cl <- makeCluster(num_cores)\n",
    "    clusterExport(cl, c(\"filas_df_params_mes_inicios\", \"filas_df_params_mes_finales\", \"df_params\", \"func.applyDataFrame\",\"subsetGrid\",\"grid\"))\n",
    "    resultados <- parLapply(cl, 1:12, parallel_apply)\n",
    "\n",
    "    stopCluster(cl)\n",
    "    df.seriesTemporales <- cbind(df.seriesTemporales, resultados)\n",
    "    colnames(df.seriesTemporales) <- c('X','Y', '1','2','3','4','5','6','7','8','9','10','11','12')\n",
    "    df.seriesTemporales <- df.seriesTemporales[order(df.seriesTemporales$'X'),]\n",
    "    df.seriesTemporales <- df.seriesTemporales[,3:14]\n",
    "    return(df.seriesTemporales)\n",
    "    \n",
    "}"
   ]
  },
  {
   "cell_type": "code",
   "execution_count": 7,
   "id": "44013530-fe98-442c-9c7f-a3b680da26e1",
   "metadata": {},
   "outputs": [
    {
     "data": {
      "text/plain": [
       "Time difference of 38.55369 secs"
      ]
     },
     "metadata": {},
     "output_type": "display_data"
    }
   ],
   "source": [
    "a = Sys.time()\n",
    "df.seriesTemporales <- func.toDataFrame(grid = grid, func = mean)\n",
    "b = Sys.time()\n",
    "b - a "
   ]
  },
  {
   "cell_type": "code",
   "execution_count": 115,
   "id": "4454198c-6c16-4e50-8391-8c227077aee8",
   "metadata": {},
   "outputs": [],
   "source": [
    "func.applyDataFrame_FBA <- function (row){\n",
    "    subgrid <- subsetGrid(grid_fba_sinTiempo, lonLim = row[\"X\"], latLim  = row[\"Y\"])\n",
    "    serie <- subgrid$Data\n",
    "    return (serie)\n",
    "}\n",
    "\n",
    "grid_fba <- get(load(ruta_grid_fba))\n",
    "grid_fba_sinTiempo <- subsetGrid(grid_fba, year = 2020, season = 1)\n",
    "\n",
    "func.toDataFrame_FBA <- function(grid_fba_sinTiempo){\n",
    "    lon = grid_fba_sinTiempo$xyCoords$x\n",
    "    lat = grid_fba_sinTiempo$xyCoords$y\n",
    "    df_params_fba <- expand.grid( \"X\" = lon, \"Y\" = lat)\n",
    "    resultados <- resultados <- apply(df_params_fba, 1, func.applyDataFrame_FBA)\n",
    "    df.FBA <- cbind(df_params_fba, resultados)\n",
    "    colnames(df.FBA) <- c('X','Y', 'FBA')\n",
    "    df.FBA <- df.FBA[order(df.FBA$'X'),]\n",
    "    return(df.FBA)\n",
    "    \n",
    "}"
   ]
  },
  {
   "cell_type": "code",
   "execution_count": 108,
   "id": "56c0a28a-532a-4e93-9e2d-60328db24fc6",
   "metadata": {},
   "outputs": [],
   "source": [
    "ruta_grid <- '../1.Upscaling/upscaling_fba/ fba_grid_5.Rdata'\n",
    "\n",
    "grid_fba <- get(load(ruta_grid))\n",
    "grid_fba_sinTiempo <- subsetGrid(grid_fba, year = 2020, season = 1)"
   ]
  },
  {
   "cell_type": "code",
   "execution_count": 116,
   "id": "b068d7c0-5121-495b-94d1-7dd1bce9db33",
   "metadata": {},
   "outputs": [
    {
     "data": {
      "text/plain": [
       "Time difference of 23.03744 secs"
      ]
     },
     "metadata": {},
     "output_type": "display_data"
    }
   ],
   "source": [
    "grid_fba_sinTiempo <- subsetGrid(grid_fba, year = 2020, season = 1)\n",
    "a = Sys.time()\n",
    "\n",
    "df_fba_05 <- func.toDataFrame_FBA(grid_fba_sinTiempo)\n",
    "b = Sys.time()\n",
    "b - a "
   ]
  },
  {
   "cell_type": "code",
   "execution_count": null,
   "id": "329750a2-3ce7-4c19-b8fd-21a869e85b39",
   "metadata": {},
   "outputs": [],
   "source": []
  },
  {
   "cell_type": "code",
   "execution_count": null,
   "id": "46e9f010-39f2-4799-9397-a74a59191d7c",
   "metadata": {},
   "outputs": [],
   "source": []
  },
  {
   "cell_type": "code",
   "execution_count": 117,
   "id": "c854d95b-3a65-4c56-bb07-44415024d07d",
   "metadata": {
    "tags": []
   },
   "outputs": [
    {
     "data": {
      "text/html": [
       "<table class=\"dataframe\">\n",
       "<caption>A data.frame: 2592 × 3</caption>\n",
       "<thead>\n",
       "\t<tr><th></th><th scope=col>X</th><th scope=col>Y</th><th scope=col>FBA</th></tr>\n",
       "\t<tr><th></th><th scope=col>&lt;dbl&gt;</th><th scope=col>&lt;dbl&gt;</th><th scope=col>&lt;dbl&gt;</th></tr>\n",
       "</thead>\n",
       "<tbody>\n",
       "\t<tr><th scope=row>1</th><td>-177.5</td><td>-87.5</td><td>0.00000000</td></tr>\n",
       "\t<tr><th scope=row>73</th><td>-177.5</td><td>-82.5</td><td>0.00000000</td></tr>\n",
       "\t<tr><th scope=row>145</th><td>-177.5</td><td>-77.5</td><td>0.00000000</td></tr>\n",
       "\t<tr><th scope=row>217</th><td>-177.5</td><td>-72.5</td><td>0.00000000</td></tr>\n",
       "\t<tr><th scope=row>289</th><td>-177.5</td><td>-67.5</td><td>0.00000000</td></tr>\n",
       "\t<tr><th scope=row>361</th><td>-177.5</td><td>-62.5</td><td>0.00000000</td></tr>\n",
       "\t<tr><th scope=row>433</th><td>-177.5</td><td>-57.5</td><td>0.00000000</td></tr>\n",
       "\t<tr><th scope=row>505</th><td>-177.5</td><td>-52.5</td><td>0.00000000</td></tr>\n",
       "\t<tr><th scope=row>577</th><td>-177.5</td><td>-47.5</td><td>0.00000000</td></tr>\n",
       "\t<tr><th scope=row>649</th><td>-177.5</td><td>-42.5</td><td>0.00000000</td></tr>\n",
       "\t<tr><th scope=row>721</th><td>-177.5</td><td>-37.5</td><td>0.00000000</td></tr>\n",
       "\t<tr><th scope=row>793</th><td>-177.5</td><td>-32.5</td><td>0.00000000</td></tr>\n",
       "\t<tr><th scope=row>865</th><td>-177.5</td><td>-27.5</td><td>0.00000000</td></tr>\n",
       "\t<tr><th scope=row>937</th><td>-177.5</td><td>-22.5</td><td>0.00000000</td></tr>\n",
       "\t<tr><th scope=row>1009</th><td>-177.5</td><td>-17.5</td><td>0.00000000</td></tr>\n",
       "\t<tr><th scope=row>1081</th><td>-177.5</td><td>-12.5</td><td>0.00000000</td></tr>\n",
       "\t<tr><th scope=row>1153</th><td>-177.5</td><td> -7.5</td><td>0.00000000</td></tr>\n",
       "\t<tr><th scope=row>1225</th><td>-177.5</td><td> -2.5</td><td>0.00000000</td></tr>\n",
       "\t<tr><th scope=row>1297</th><td>-177.5</td><td>  2.5</td><td>0.00000000</td></tr>\n",
       "\t<tr><th scope=row>1369</th><td>-177.5</td><td>  7.5</td><td>0.00000000</td></tr>\n",
       "\t<tr><th scope=row>1441</th><td>-177.5</td><td> 12.5</td><td>0.00000000</td></tr>\n",
       "\t<tr><th scope=row>1513</th><td>-177.5</td><td> 17.5</td><td>0.00000000</td></tr>\n",
       "\t<tr><th scope=row>1585</th><td>-177.5</td><td> 22.5</td><td>0.00000000</td></tr>\n",
       "\t<tr><th scope=row>1657</th><td>-177.5</td><td> 27.5</td><td>0.00000000</td></tr>\n",
       "\t<tr><th scope=row>1729</th><td>-177.5</td><td> 32.5</td><td>0.00000000</td></tr>\n",
       "\t<tr><th scope=row>1801</th><td>-177.5</td><td> 37.5</td><td>0.00000000</td></tr>\n",
       "\t<tr><th scope=row>1873</th><td>-177.5</td><td> 42.5</td><td>0.00000000</td></tr>\n",
       "\t<tr><th scope=row>1945</th><td>-177.5</td><td> 47.5</td><td>0.00000000</td></tr>\n",
       "\t<tr><th scope=row>2017</th><td>-177.5</td><td> 52.5</td><td>0.01049024</td></tr>\n",
       "\t<tr><th scope=row>2089</th><td>-177.5</td><td> 57.5</td><td>0.00000000</td></tr>\n",
       "\t<tr><th scope=row>⋮</th><td>⋮</td><td>⋮</td><td>⋮</td></tr>\n",
       "\t<tr><th scope=row>504</th><td>177.5</td><td>-57.5</td><td>0.0000000000</td></tr>\n",
       "\t<tr><th scope=row>576</th><td>177.5</td><td>-52.5</td><td>0.0000000000</td></tr>\n",
       "\t<tr><th scope=row>648</th><td>177.5</td><td>-47.5</td><td>0.0000000000</td></tr>\n",
       "\t<tr><th scope=row>720</th><td>177.5</td><td>-42.5</td><td>0.0715776503</td></tr>\n",
       "\t<tr><th scope=row>792</th><td>177.5</td><td>-37.5</td><td>0.2565409440</td></tr>\n",
       "\t<tr><th scope=row>864</th><td>177.5</td><td>-32.5</td><td>0.0000000000</td></tr>\n",
       "\t<tr><th scope=row>936</th><td>177.5</td><td>-27.5</td><td>0.0000000000</td></tr>\n",
       "\t<tr><th scope=row>1008</th><td>177.5</td><td>-22.5</td><td>0.0000000000</td></tr>\n",
       "\t<tr><th scope=row>1080</th><td>177.5</td><td>-17.5</td><td>0.0602167277</td></tr>\n",
       "\t<tr><th scope=row>1152</th><td>177.5</td><td>-12.5</td><td>0.0001359589</td></tr>\n",
       "\t<tr><th scope=row>1224</th><td>177.5</td><td> -7.5</td><td>0.0000000000</td></tr>\n",
       "\t<tr><th scope=row>1296</th><td>177.5</td><td> -2.5</td><td>0.0000000000</td></tr>\n",
       "\t<tr><th scope=row>1368</th><td>177.5</td><td>  2.5</td><td>0.0000000000</td></tr>\n",
       "\t<tr><th scope=row>1440</th><td>177.5</td><td>  7.5</td><td>0.0000000000</td></tr>\n",
       "\t<tr><th scope=row>1512</th><td>177.5</td><td> 12.5</td><td>0.0000000000</td></tr>\n",
       "\t<tr><th scope=row>1584</th><td>177.5</td><td> 17.5</td><td>0.0000000000</td></tr>\n",
       "\t<tr><th scope=row>1656</th><td>177.5</td><td> 22.5</td><td>0.0000000000</td></tr>\n",
       "\t<tr><th scope=row>1728</th><td>177.5</td><td> 27.5</td><td>0.0000000000</td></tr>\n",
       "\t<tr><th scope=row>1800</th><td>177.5</td><td> 32.5</td><td>0.0000000000</td></tr>\n",
       "\t<tr><th scope=row>1872</th><td>177.5</td><td> 37.5</td><td>0.0000000000</td></tr>\n",
       "\t<tr><th scope=row>1944</th><td>177.5</td><td> 42.5</td><td>0.0000000000</td></tr>\n",
       "\t<tr><th scope=row>2016</th><td>177.5</td><td> 47.5</td><td>0.0000000000</td></tr>\n",
       "\t<tr><th scope=row>2088</th><td>177.5</td><td> 52.5</td><td>0.0000000000</td></tr>\n",
       "\t<tr><th scope=row>2160</th><td>177.5</td><td> 57.5</td><td>0.0000000000</td></tr>\n",
       "\t<tr><th scope=row>2232</th><td>177.5</td><td> 62.5</td><td>0.3704125339</td></tr>\n",
       "\t<tr><th scope=row>2304</th><td>177.5</td><td> 67.5</td><td>0.8123210573</td></tr>\n",
       "\t<tr><th scope=row>2376</th><td>177.5</td><td> 72.5</td><td>0.0235759248</td></tr>\n",
       "\t<tr><th scope=row>2448</th><td>177.5</td><td> 77.5</td><td>0.0000000000</td></tr>\n",
       "\t<tr><th scope=row>2520</th><td>177.5</td><td> 82.5</td><td>0.0000000000</td></tr>\n",
       "\t<tr><th scope=row>2592</th><td>177.5</td><td> 87.5</td><td>         NaN</td></tr>\n",
       "</tbody>\n",
       "</table>\n"
      ],
      "text/latex": [
       "A data.frame: 2592 × 3\n",
       "\\begin{tabular}{r|lll}\n",
       "  & X & Y & FBA\\\\\n",
       "  & <dbl> & <dbl> & <dbl>\\\\\n",
       "\\hline\n",
       "\t1 & -177.5 & -87.5 & 0.00000000\\\\\n",
       "\t73 & -177.5 & -82.5 & 0.00000000\\\\\n",
       "\t145 & -177.5 & -77.5 & 0.00000000\\\\\n",
       "\t217 & -177.5 & -72.5 & 0.00000000\\\\\n",
       "\t289 & -177.5 & -67.5 & 0.00000000\\\\\n",
       "\t361 & -177.5 & -62.5 & 0.00000000\\\\\n",
       "\t433 & -177.5 & -57.5 & 0.00000000\\\\\n",
       "\t505 & -177.5 & -52.5 & 0.00000000\\\\\n",
       "\t577 & -177.5 & -47.5 & 0.00000000\\\\\n",
       "\t649 & -177.5 & -42.5 & 0.00000000\\\\\n",
       "\t721 & -177.5 & -37.5 & 0.00000000\\\\\n",
       "\t793 & -177.5 & -32.5 & 0.00000000\\\\\n",
       "\t865 & -177.5 & -27.5 & 0.00000000\\\\\n",
       "\t937 & -177.5 & -22.5 & 0.00000000\\\\\n",
       "\t1009 & -177.5 & -17.5 & 0.00000000\\\\\n",
       "\t1081 & -177.5 & -12.5 & 0.00000000\\\\\n",
       "\t1153 & -177.5 &  -7.5 & 0.00000000\\\\\n",
       "\t1225 & -177.5 &  -2.5 & 0.00000000\\\\\n",
       "\t1297 & -177.5 &   2.5 & 0.00000000\\\\\n",
       "\t1369 & -177.5 &   7.5 & 0.00000000\\\\\n",
       "\t1441 & -177.5 &  12.5 & 0.00000000\\\\\n",
       "\t1513 & -177.5 &  17.5 & 0.00000000\\\\\n",
       "\t1585 & -177.5 &  22.5 & 0.00000000\\\\\n",
       "\t1657 & -177.5 &  27.5 & 0.00000000\\\\\n",
       "\t1729 & -177.5 &  32.5 & 0.00000000\\\\\n",
       "\t1801 & -177.5 &  37.5 & 0.00000000\\\\\n",
       "\t1873 & -177.5 &  42.5 & 0.00000000\\\\\n",
       "\t1945 & -177.5 &  47.5 & 0.00000000\\\\\n",
       "\t2017 & -177.5 &  52.5 & 0.01049024\\\\\n",
       "\t2089 & -177.5 &  57.5 & 0.00000000\\\\\n",
       "\t⋮ & ⋮ & ⋮ & ⋮\\\\\n",
       "\t504 & 177.5 & -57.5 & 0.0000000000\\\\\n",
       "\t576 & 177.5 & -52.5 & 0.0000000000\\\\\n",
       "\t648 & 177.5 & -47.5 & 0.0000000000\\\\\n",
       "\t720 & 177.5 & -42.5 & 0.0715776503\\\\\n",
       "\t792 & 177.5 & -37.5 & 0.2565409440\\\\\n",
       "\t864 & 177.5 & -32.5 & 0.0000000000\\\\\n",
       "\t936 & 177.5 & -27.5 & 0.0000000000\\\\\n",
       "\t1008 & 177.5 & -22.5 & 0.0000000000\\\\\n",
       "\t1080 & 177.5 & -17.5 & 0.0602167277\\\\\n",
       "\t1152 & 177.5 & -12.5 & 0.0001359589\\\\\n",
       "\t1224 & 177.5 &  -7.5 & 0.0000000000\\\\\n",
       "\t1296 & 177.5 &  -2.5 & 0.0000000000\\\\\n",
       "\t1368 & 177.5 &   2.5 & 0.0000000000\\\\\n",
       "\t1440 & 177.5 &   7.5 & 0.0000000000\\\\\n",
       "\t1512 & 177.5 &  12.5 & 0.0000000000\\\\\n",
       "\t1584 & 177.5 &  17.5 & 0.0000000000\\\\\n",
       "\t1656 & 177.5 &  22.5 & 0.0000000000\\\\\n",
       "\t1728 & 177.5 &  27.5 & 0.0000000000\\\\\n",
       "\t1800 & 177.5 &  32.5 & 0.0000000000\\\\\n",
       "\t1872 & 177.5 &  37.5 & 0.0000000000\\\\\n",
       "\t1944 & 177.5 &  42.5 & 0.0000000000\\\\\n",
       "\t2016 & 177.5 &  47.5 & 0.0000000000\\\\\n",
       "\t2088 & 177.5 &  52.5 & 0.0000000000\\\\\n",
       "\t2160 & 177.5 &  57.5 & 0.0000000000\\\\\n",
       "\t2232 & 177.5 &  62.5 & 0.3704125339\\\\\n",
       "\t2304 & 177.5 &  67.5 & 0.8123210573\\\\\n",
       "\t2376 & 177.5 &  72.5 & 0.0235759248\\\\\n",
       "\t2448 & 177.5 &  77.5 & 0.0000000000\\\\\n",
       "\t2520 & 177.5 &  82.5 & 0.0000000000\\\\\n",
       "\t2592 & 177.5 &  87.5 &          NaN\\\\\n",
       "\\end{tabular}\n"
      ],
      "text/markdown": [
       "\n",
       "A data.frame: 2592 × 3\n",
       "\n",
       "| <!--/--> | X &lt;dbl&gt; | Y &lt;dbl&gt; | FBA &lt;dbl&gt; |\n",
       "|---|---|---|---|\n",
       "| 1 | -177.5 | -87.5 | 0.00000000 |\n",
       "| 73 | -177.5 | -82.5 | 0.00000000 |\n",
       "| 145 | -177.5 | -77.5 | 0.00000000 |\n",
       "| 217 | -177.5 | -72.5 | 0.00000000 |\n",
       "| 289 | -177.5 | -67.5 | 0.00000000 |\n",
       "| 361 | -177.5 | -62.5 | 0.00000000 |\n",
       "| 433 | -177.5 | -57.5 | 0.00000000 |\n",
       "| 505 | -177.5 | -52.5 | 0.00000000 |\n",
       "| 577 | -177.5 | -47.5 | 0.00000000 |\n",
       "| 649 | -177.5 | -42.5 | 0.00000000 |\n",
       "| 721 | -177.5 | -37.5 | 0.00000000 |\n",
       "| 793 | -177.5 | -32.5 | 0.00000000 |\n",
       "| 865 | -177.5 | -27.5 | 0.00000000 |\n",
       "| 937 | -177.5 | -22.5 | 0.00000000 |\n",
       "| 1009 | -177.5 | -17.5 | 0.00000000 |\n",
       "| 1081 | -177.5 | -12.5 | 0.00000000 |\n",
       "| 1153 | -177.5 |  -7.5 | 0.00000000 |\n",
       "| 1225 | -177.5 |  -2.5 | 0.00000000 |\n",
       "| 1297 | -177.5 |   2.5 | 0.00000000 |\n",
       "| 1369 | -177.5 |   7.5 | 0.00000000 |\n",
       "| 1441 | -177.5 |  12.5 | 0.00000000 |\n",
       "| 1513 | -177.5 |  17.5 | 0.00000000 |\n",
       "| 1585 | -177.5 |  22.5 | 0.00000000 |\n",
       "| 1657 | -177.5 |  27.5 | 0.00000000 |\n",
       "| 1729 | -177.5 |  32.5 | 0.00000000 |\n",
       "| 1801 | -177.5 |  37.5 | 0.00000000 |\n",
       "| 1873 | -177.5 |  42.5 | 0.00000000 |\n",
       "| 1945 | -177.5 |  47.5 | 0.00000000 |\n",
       "| 2017 | -177.5 |  52.5 | 0.01049024 |\n",
       "| 2089 | -177.5 |  57.5 | 0.00000000 |\n",
       "| ⋮ | ⋮ | ⋮ | ⋮ |\n",
       "| 504 | 177.5 | -57.5 | 0.0000000000 |\n",
       "| 576 | 177.5 | -52.5 | 0.0000000000 |\n",
       "| 648 | 177.5 | -47.5 | 0.0000000000 |\n",
       "| 720 | 177.5 | -42.5 | 0.0715776503 |\n",
       "| 792 | 177.5 | -37.5 | 0.2565409440 |\n",
       "| 864 | 177.5 | -32.5 | 0.0000000000 |\n",
       "| 936 | 177.5 | -27.5 | 0.0000000000 |\n",
       "| 1008 | 177.5 | -22.5 | 0.0000000000 |\n",
       "| 1080 | 177.5 | -17.5 | 0.0602167277 |\n",
       "| 1152 | 177.5 | -12.5 | 0.0001359589 |\n",
       "| 1224 | 177.5 |  -7.5 | 0.0000000000 |\n",
       "| 1296 | 177.5 |  -2.5 | 0.0000000000 |\n",
       "| 1368 | 177.5 |   2.5 | 0.0000000000 |\n",
       "| 1440 | 177.5 |   7.5 | 0.0000000000 |\n",
       "| 1512 | 177.5 |  12.5 | 0.0000000000 |\n",
       "| 1584 | 177.5 |  17.5 | 0.0000000000 |\n",
       "| 1656 | 177.5 |  22.5 | 0.0000000000 |\n",
       "| 1728 | 177.5 |  27.5 | 0.0000000000 |\n",
       "| 1800 | 177.5 |  32.5 | 0.0000000000 |\n",
       "| 1872 | 177.5 |  37.5 | 0.0000000000 |\n",
       "| 1944 | 177.5 |  42.5 | 0.0000000000 |\n",
       "| 2016 | 177.5 |  47.5 | 0.0000000000 |\n",
       "| 2088 | 177.5 |  52.5 | 0.0000000000 |\n",
       "| 2160 | 177.5 |  57.5 | 0.0000000000 |\n",
       "| 2232 | 177.5 |  62.5 | 0.3704125339 |\n",
       "| 2304 | 177.5 |  67.5 | 0.8123210573 |\n",
       "| 2376 | 177.5 |  72.5 | 0.0235759248 |\n",
       "| 2448 | 177.5 |  77.5 | 0.0000000000 |\n",
       "| 2520 | 177.5 |  82.5 | 0.0000000000 |\n",
       "| 2592 | 177.5 |  87.5 |          NaN |\n",
       "\n"
      ],
      "text/plain": [
       "     X      Y     FBA         \n",
       "1    -177.5 -87.5 0.00000000  \n",
       "73   -177.5 -82.5 0.00000000  \n",
       "145  -177.5 -77.5 0.00000000  \n",
       "217  -177.5 -72.5 0.00000000  \n",
       "289  -177.5 -67.5 0.00000000  \n",
       "361  -177.5 -62.5 0.00000000  \n",
       "433  -177.5 -57.5 0.00000000  \n",
       "505  -177.5 -52.5 0.00000000  \n",
       "577  -177.5 -47.5 0.00000000  \n",
       "649  -177.5 -42.5 0.00000000  \n",
       "721  -177.5 -37.5 0.00000000  \n",
       "793  -177.5 -32.5 0.00000000  \n",
       "865  -177.5 -27.5 0.00000000  \n",
       "937  -177.5 -22.5 0.00000000  \n",
       "1009 -177.5 -17.5 0.00000000  \n",
       "1081 -177.5 -12.5 0.00000000  \n",
       "1153 -177.5  -7.5 0.00000000  \n",
       "1225 -177.5  -2.5 0.00000000  \n",
       "1297 -177.5   2.5 0.00000000  \n",
       "1369 -177.5   7.5 0.00000000  \n",
       "1441 -177.5  12.5 0.00000000  \n",
       "1513 -177.5  17.5 0.00000000  \n",
       "1585 -177.5  22.5 0.00000000  \n",
       "1657 -177.5  27.5 0.00000000  \n",
       "1729 -177.5  32.5 0.00000000  \n",
       "1801 -177.5  37.5 0.00000000  \n",
       "1873 -177.5  42.5 0.00000000  \n",
       "1945 -177.5  47.5 0.00000000  \n",
       "2017 -177.5  52.5 0.01049024  \n",
       "2089 -177.5  57.5 0.00000000  \n",
       "⋮    ⋮      ⋮     ⋮           \n",
       "504  177.5  -57.5 0.0000000000\n",
       "576  177.5  -52.5 0.0000000000\n",
       "648  177.5  -47.5 0.0000000000\n",
       "720  177.5  -42.5 0.0715776503\n",
       "792  177.5  -37.5 0.2565409440\n",
       "864  177.5  -32.5 0.0000000000\n",
       "936  177.5  -27.5 0.0000000000\n",
       "1008 177.5  -22.5 0.0000000000\n",
       "1080 177.5  -17.5 0.0602167277\n",
       "1152 177.5  -12.5 0.0001359589\n",
       "1224 177.5   -7.5 0.0000000000\n",
       "1296 177.5   -2.5 0.0000000000\n",
       "1368 177.5    2.5 0.0000000000\n",
       "1440 177.5    7.5 0.0000000000\n",
       "1512 177.5   12.5 0.0000000000\n",
       "1584 177.5   17.5 0.0000000000\n",
       "1656 177.5   22.5 0.0000000000\n",
       "1728 177.5   27.5 0.0000000000\n",
       "1800 177.5   32.5 0.0000000000\n",
       "1872 177.5   37.5 0.0000000000\n",
       "1944 177.5   42.5 0.0000000000\n",
       "2016 177.5   47.5 0.0000000000\n",
       "2088 177.5   52.5 0.0000000000\n",
       "2160 177.5   57.5 0.0000000000\n",
       "2232 177.5   62.5 0.3704125339\n",
       "2304 177.5   67.5 0.8123210573\n",
       "2376 177.5   72.5 0.0235759248\n",
       "2448 177.5   77.5 0.0000000000\n",
       "2520 177.5   82.5 0.0000000000\n",
       "2592 177.5   87.5          NaN"
      ]
     },
     "metadata": {},
     "output_type": "display_data"
    }
   ],
   "source": [
    "lon = grid_fba$xyCoords$x\n",
    "lat = grid_fba$xyCoords$y\n",
    "df_params_fba <- expand.grid( \"X\" = lon, \"Y\" = lat)"
   ]
  },
  {
   "cell_type": "code",
   "execution_count": null,
   "id": "83f31352-af6b-4a6c-8a2f-833b92aae2ad",
   "metadata": {},
   "outputs": [],
   "source": []
  },
  {
   "cell_type": "code",
   "execution_count": null,
   "id": "6c2d32cc-4e5f-49cb-819c-e0c55040f1f8",
   "metadata": {},
   "outputs": [],
   "source": []
  },
  {
   "cell_type": "code",
   "execution_count": null,
   "id": "2e386679-2060-4c73-ac37-0e2ad8370958",
   "metadata": {},
   "outputs": [],
   "source": []
  },
  {
   "cell_type": "code",
   "execution_count": null,
   "id": "fd84f398-25c4-40ec-a058-c4a7dad25a54",
   "metadata": {},
   "outputs": [],
   "source": []
  }
 ],
 "metadata": {
  "kernelspec": {
   "display_name": "climate4R",
   "language": "R",
   "name": "climate4r"
  },
  "language_info": {
   "codemirror_mode": "r",
   "file_extension": ".r",
   "mimetype": "text/x-r-source",
   "name": "R",
   "pygments_lexer": "r",
   "version": "3.6.3"
  }
 },
 "nbformat": 4,
 "nbformat_minor": 5
}
