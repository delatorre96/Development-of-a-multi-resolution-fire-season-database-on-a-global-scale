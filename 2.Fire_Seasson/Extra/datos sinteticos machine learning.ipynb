{
 "cells": [
  {
   "cell_type": "markdown",
   "id": "049a03f6-7529-4890-bd44-a53a5b20fd87",
   "metadata": {},
   "source": [
    "Exploración de datos sintéticos para MAchine learning que identifique bimodales"
   ]
  },
  {
   "cell_type": "code",
   "execution_count": 61,
   "id": "ab9c426e-0966-4670-852f-d2731100ae4d",
   "metadata": {},
   "outputs": [],
   "source": [
    "y <- c(3,3,3,5,6,5,1,1,0,3,8,1)\n",
    "df_vectores_bimodales1 <- data.frame()\n",
    "for (i in 1:100){\n",
    "    vector_bimodal = c()\n",
    "    for (i in y){\n",
    "        num_aleatorio = runif(1,0,1)\n",
    "        if (num_aleatorio>0.5){\n",
    "            vector_bimodal = c(vector_bimodal, i + runif(1,0,1))\n",
    "        }else{\n",
    "             vector_bimodal = c(vector_bimodal, i - runif(1,0,1))\n",
    "        }\n",
    "\n",
    "    }\n",
    "    df_vectores_bimodales <- rbind(df_vectores_bimodales, t(data.frame(vector_bimodal)))\n",
    "}\n"
   ]
  },
  {
   "cell_type": "code",
   "execution_count": 66,
   "id": "b976e0d6-2718-47ac-8ab8-2f90aad9614b",
   "metadata": {},
   "outputs": [
    {
     "data": {
      "image/png": "[encoded data removed]",
      "text/plain": [
       "plot without title"
      ]
     },
     "metadata": {
      "image/png": {
       "height": 420,
       "width": 420
      }
     },
     "output_type": "display_data"
    }
   ],
   "source": [
    "plot(y, type = 'l')"
   ]
  },
  {
   "cell_type": "code",
   "execution_count": 170,
   "id": "70688004-7163-4f8e-aa02-74e9891c0e71",
   "metadata": {
    "tags": []
   },
   "outputs": [
    {
     "data": {
      "text/html": [
       "10"
      ],
      "text/latex": [
       "10"
      ],
      "text/markdown": [
       "10"
      ],
      "text/plain": [
       "[1] 10"
      ]
     },
     "metadata": {},
     "output_type": "display_data"
    }
   ],
   "source": [
    "round(runif(1,1,length(coef_x)))"
   ]
  },
  {
   "cell_type": "code",
   "execution_count": 183,
   "id": "537be0ad-e176-43e5-9778-095b8f70397b",
   "metadata": {},
   "outputs": [],
   "source": [
    "coef_x = seq(0.8, 1, 0.01)\n",
    "diff_x = seq(-2, 0, 0.1)\n",
    "x = seq(1,12)\n",
    "coef_sin = seq(1,10000)\n",
    "term_indep = seq(1,10000)\n",
    "\n",
    "df_vectores_bimodales2 <- data.frame()\n",
    "for (i in 1:1000){\n",
    "    vector_bimodal = c()\n",
    "    num_aleatorio_coef_x = round(runif(1,1,length(coef_x)))\n",
    "    num_aleatorio_diff_x = round(runif(1,1,length(diff_x)))\n",
    "    num_aleatorio_coef_sin = round(runif(1,1,length(coef_sin)))\n",
    "    num_aleatorio_term_indep = round(runif(1,1,length(term_indep)))\n",
    "    y = num_aleatorio_coef_sin * sin(num_aleatorio_coef_x * x - num_aleatorio_diff_x) + num_aleatorio_term_indep\n",
    "    df_vectores_bimodales2 <- rbind(df_vectores_bimodales2, t(data.frame(y)))\n",
    "}\n"
   ]
  },
  {
   "cell_type": "code",
   "execution_count": 184,
   "id": "dbb79d6a-d214-45c1-a660-ea461ae06c5e",
   "metadata": {},
   "outputs": [
    {
     "data": {
      "text/html": [
       "<table class=\"dataframe\">\n",
       "<caption>A data.frame: 1 × 12</caption>\n",
       "<thead>\n",
       "\t<tr><th></th><th scope=col>V1</th><th scope=col>V2</th><th scope=col>V3</th><th scope=col>V4</th><th scope=col>V5</th><th scope=col>V6</th><th scope=col>V7</th><th scope=col>V8</th><th scope=col>V9</th><th scope=col>V10</th><th scope=col>V11</th><th scope=col>V12</th></tr>\n",
       "\t<tr><th></th><th scope=col>&lt;dbl&gt;</th><th scope=col>&lt;dbl&gt;</th><th scope=col>&lt;dbl&gt;</th><th scope=col>&lt;dbl&gt;</th><th scope=col>&lt;dbl&gt;</th><th scope=col>&lt;dbl&gt;</th><th scope=col>&lt;dbl&gt;</th><th scope=col>&lt;dbl&gt;</th><th scope=col>&lt;dbl&gt;</th><th scope=col>&lt;dbl&gt;</th><th scope=col>&lt;dbl&gt;</th><th scope=col>&lt;dbl&gt;</th></tr>\n",
       "</thead>\n",
       "<tbody>\n",
       "\t<tr><th scope=row>y1</th><td>2649.069</td><td>3486.121</td><td>8592.909</td><td>14500.05</td><td>17194.44</td><td>14845.58</td><td>9049.23</td><td>3743.222</td><td>2532.284</td><td>6239.089</td><td>12345.36</td><td>16702.69</td></tr>\n",
       "</tbody>\n",
       "</table>\n"
      ],
      "text/latex": [
       "A data.frame: 1 × 12\n",
       "\\begin{tabular}{r|llllllllllll}\n",
       "  & V1 & V2 & V3 & V4 & V5 & V6 & V7 & V8 & V9 & V10 & V11 & V12\\\\\n",
       "  & <dbl> & <dbl> & <dbl> & <dbl> & <dbl> & <dbl> & <dbl> & <dbl> & <dbl> & <dbl> & <dbl> & <dbl>\\\\\n",
       "\\hline\n",
       "\ty1 & 2649.069 & 3486.121 & 8592.909 & 14500.05 & 17194.44 & 14845.58 & 9049.23 & 3743.222 & 2532.284 & 6239.089 & 12345.36 & 16702.69\\\\\n",
       "\\end{tabular}\n"
      ],
      "text/markdown": [
       "\n",
       "A data.frame: 1 × 12\n",
       "\n",
       "| <!--/--> | V1 &lt;dbl&gt; | V2 &lt;dbl&gt; | V3 &lt;dbl&gt; | V4 &lt;dbl&gt; | V5 &lt;dbl&gt; | V6 &lt;dbl&gt; | V7 &lt;dbl&gt; | V8 &lt;dbl&gt; | V9 &lt;dbl&gt; | V10 &lt;dbl&gt; | V11 &lt;dbl&gt; | V12 &lt;dbl&gt; |\n",
       "|---|---|---|---|---|---|---|---|---|---|---|---|---|\n",
       "| y1 | 2649.069 | 3486.121 | 8592.909 | 14500.05 | 17194.44 | 14845.58 | 9049.23 | 3743.222 | 2532.284 | 6239.089 | 12345.36 | 16702.69 |\n",
       "\n"
      ],
      "text/plain": [
       "   V1       V2       V3       V4       V5       V6       V7      V8      \n",
       "y1 2649.069 3486.121 8592.909 14500.05 17194.44 14845.58 9049.23 3743.222\n",
       "   V9       V10      V11      V12     \n",
       "y1 2532.284 6239.089 12345.36 16702.69"
      ]
     },
     "metadata": {},
     "output_type": "display_data"
    }
   ],
   "source": [
    "df_vectores_bimodales2[2,]"
   ]
  },
  {
   "cell_type": "code",
   "execution_count": null,
   "id": "97022ebf-b3de-4e95-94a5-34db34f994f9",
   "metadata": {},
   "outputs": [],
   "source": []
  },
  {
   "cell_type": "code",
   "execution_count": null,
   "id": "cc06508a-91ea-4dd0-9924-0b1581f7e8cb",
   "metadata": {},
   "outputs": [],
   "source": []
  }
 ],
 "metadata": {
  "kernelspec": {
   "display_name": "climate4R",
   "language": "R",
   "name": "climate4r"
  },
  "language_info": {
   "codemirror_mode": "r",
   "file_extension": ".r",
   "mimetype": "text/x-r-source",
   "name": "R",
   "pygments_lexer": "r",
   "version": "3.6.3"
  }
 },
 "nbformat": 4,
 "nbformat_minor": 5
}
