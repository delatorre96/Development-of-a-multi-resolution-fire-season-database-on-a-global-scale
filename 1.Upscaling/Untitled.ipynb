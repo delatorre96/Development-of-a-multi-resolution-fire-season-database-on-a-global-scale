{
 "cells": [
  {
   "cell_type": "code",
   "execution_count": 7,
   "id": "0ffe1f15-fc8a-4e5c-8096-cc25dd0457c2",
   "metadata": {},
   "outputs": [],
   "source": [
    "grids = c('05','1','15','2','25','3','4','5')\n",
    "\n",
    "lista_archivos_fba <- list.files(path = \"upscaling_fba\",full.names = TRUE)\n",
    "lista_archivos_ba <- list.files(path = \"upscaling_ba\", pattern = \"^ba_grid\", full.names = TRUE)"
   ]
  },
  {
   "cell_type": "code",
   "execution_count": 8,
   "id": "53182857-6264-4600-bf0f-cd155833992b",
   "metadata": {},
   "outputs": [
    {
     "data": {
      "text/html": [
       "<style>\n",
       ".list-inline {list-style: none; margin:0; padding: 0}\n",
       ".list-inline>li {display: inline-block}\n",
       ".list-inline>li:not(:last-child)::after {content: \"\\00b7\"; padding: 0 .5ex}\n",
       "</style>\n",
       "<ol class=list-inline><li>'upscaling_fba/ fba_grid_05.Rdata'</li><li>'upscaling_fba/ fba_grid_1.Rdata'</li><li>'upscaling_fba/ fba_grid_15.Rdata'</li><li>'upscaling_fba/ fba_grid_2.Rdata'</li><li>'upscaling_fba/ fba_grid_25.Rdata'</li><li>'upscaling_fba/ fba_grid_3.Rdata'</li><li>'upscaling_fba/ fba_grid_4.Rdata'</li><li>'upscaling_fba/ fba_grid_5.Rdata'</li></ol>\n"
      ],
      "text/latex": [
       "\\begin{enumerate*}\n",
       "\\item 'upscaling\\_fba/ fba\\_grid\\_05.Rdata'\n",
       "\\item 'upscaling\\_fba/ fba\\_grid\\_1.Rdata'\n",
       "\\item 'upscaling\\_fba/ fba\\_grid\\_15.Rdata'\n",
       "\\item 'upscaling\\_fba/ fba\\_grid\\_2.Rdata'\n",
       "\\item 'upscaling\\_fba/ fba\\_grid\\_25.Rdata'\n",
       "\\item 'upscaling\\_fba/ fba\\_grid\\_3.Rdata'\n",
       "\\item 'upscaling\\_fba/ fba\\_grid\\_4.Rdata'\n",
       "\\item 'upscaling\\_fba/ fba\\_grid\\_5.Rdata'\n",
       "\\end{enumerate*}\n"
      ],
      "text/markdown": [
       "1. 'upscaling_fba/ fba_grid_05.Rdata'\n",
       "2. 'upscaling_fba/ fba_grid_1.Rdata'\n",
       "3. 'upscaling_fba/ fba_grid_15.Rdata'\n",
       "4. 'upscaling_fba/ fba_grid_2.Rdata'\n",
       "5. 'upscaling_fba/ fba_grid_25.Rdata'\n",
       "6. 'upscaling_fba/ fba_grid_3.Rdata'\n",
       "7. 'upscaling_fba/ fba_grid_4.Rdata'\n",
       "8. 'upscaling_fba/ fba_grid_5.Rdata'\n",
       "\n",
       "\n"
      ],
      "text/plain": [
       "[1] \"upscaling_fba/ fba_grid_05.Rdata\" \"upscaling_fba/ fba_grid_1.Rdata\" \n",
       "[3] \"upscaling_fba/ fba_grid_15.Rdata\" \"upscaling_fba/ fba_grid_2.Rdata\" \n",
       "[5] \"upscaling_fba/ fba_grid_25.Rdata\" \"upscaling_fba/ fba_grid_3.Rdata\" \n",
       "[7] \"upscaling_fba/ fba_grid_4.Rdata\"  \"upscaling_fba/ fba_grid_5.Rdata\" "
      ]
     },
     "metadata": {},
     "output_type": "display_data"
    }
   ],
   "source": [
    "lista_archivos_fba"
   ]
  },
  {
   "cell_type": "code",
   "execution_count": 9,
   "id": "08f5ed8e-d1cd-4d3f-9296-2db5a847cfc2",
   "metadata": {},
   "outputs": [],
   "source": [
    "var = get(load('upscaling_fba/ fba_grid_05.Rdata'))"
   ]
  },
  {
   "cell_type": "code",
   "execution_count": 27,
   "id": "f0066957-ee50-48d5-b9c8-30d5ee69995a",
   "metadata": {},
   "outputs": [],
   "source": [
    "vector_size <- c()\n",
    "vector_pixeles <- c()\n",
    "for (i in 1:length(grids)){\n",
    "    grid = get(load(lista_archivos_ba[i]))\n",
    "    vector_size <- c(vector_size, round(file.info(lista_archivos_ba[i])$ size /1024^2,2))\n",
    "    vector_pixeles <- c(vector_pixeles, length(grid$xyCoords$x)*length(var$xyCoords$y))\n",
    "    grid_fba = get(load(lista_archivos_fba[i]))\n",
    "    vector_size <- c(vector_size, round(file.info(lista_archivos_ba[i])$ size /1024^2,2))\n",
    "    vector_pixeles <- c(vector_pixeles, length(grid_fba$xyCoords$x)*length(var$xyCoords$y))\n",
    "    }"
   ]
  },
  {
   "cell_type": "code",
   "execution_count": 28,
   "id": "c7aa135d-9729-4871-bbb9-b3197d7217e0",
   "metadata": {},
   "outputs": [
    {
     "data": {
      "text/html": [
       "<style>\n",
       ".list-inline {list-style: none; margin:0; padding: 0}\n",
       ".list-inline>li {display: inline-block}\n",
       ".list-inline>li:not(:last-child)::after {content: \"\\00b7\"; padding: 0 .5ex}\n",
       "</style>\n",
       "<ol class=list-inline><li>9.59</li><li>9.59</li><li>4.19</li><li>4.19</li><li>2.57</li><li>2.57</li><li>1.8</li><li>1.8</li><li>1.37</li><li>1.37</li><li>1.1</li><li>1.1</li><li>0.77</li><li>0.77</li><li>0.57</li><li>0.57</li></ol>\n"
      ],
      "text/latex": [
       "\\begin{enumerate*}\n",
       "\\item 9.59\n",
       "\\item 9.59\n",
       "\\item 4.19\n",
       "\\item 4.19\n",
       "\\item 2.57\n",
       "\\item 2.57\n",
       "\\item 1.8\n",
       "\\item 1.8\n",
       "\\item 1.37\n",
       "\\item 1.37\n",
       "\\item 1.1\n",
       "\\item 1.1\n",
       "\\item 0.77\n",
       "\\item 0.77\n",
       "\\item 0.57\n",
       "\\item 0.57\n",
       "\\end{enumerate*}\n"
      ],
      "text/markdown": [
       "1. 9.59\n",
       "2. 9.59\n",
       "3. 4.19\n",
       "4. 4.19\n",
       "5. 2.57\n",
       "6. 2.57\n",
       "7. 1.8\n",
       "8. 1.8\n",
       "9. 1.37\n",
       "10. 1.37\n",
       "11. 1.1\n",
       "12. 1.1\n",
       "13. 0.77\n",
       "14. 0.77\n",
       "15. 0.57\n",
       "16. 0.57\n",
       "\n",
       "\n"
      ],
      "text/plain": [
       " [1] 9.59 9.59 4.19 4.19 2.57 2.57 1.80 1.80 1.37 1.37 1.10 1.10 0.77 0.77 0.57\n",
       "[16] 0.57"
      ]
     },
     "metadata": {},
     "output_type": "display_data"
    }
   ],
   "source": [
    "vector_size"
   ]
  },
  {
   "cell_type": "code",
   "execution_count": 29,
   "id": "8fa108ce-4fa9-4901-9145-1f1ff9e8ac40",
   "metadata": {},
   "outputs": [
    {
     "data": {
      "text/html": [
       "<style>\n",
       ".list-inline {list-style: none; margin:0; padding: 0}\n",
       ".list-inline>li {display: inline-block}\n",
       ".list-inline>li:not(:last-child)::after {content: \"\\00b7\"; padding: 0 .5ex}\n",
       "</style>\n",
       "<ol class=list-inline><li>259200</li><li>259200</li><li>129600</li><li>129600</li><li>86400</li><li>86400</li><li>64800</li><li>64800</li><li>51840</li><li>51840</li><li>43200</li><li>43200</li><li>32400</li><li>32400</li><li>25920</li><li>25920</li></ol>\n"
      ],
      "text/latex": [
       "\\begin{enumerate*}\n",
       "\\item 259200\n",
       "\\item 259200\n",
       "\\item 129600\n",
       "\\item 129600\n",
       "\\item 86400\n",
       "\\item 86400\n",
       "\\item 64800\n",
       "\\item 64800\n",
       "\\item 51840\n",
       "\\item 51840\n",
       "\\item 43200\n",
       "\\item 43200\n",
       "\\item 32400\n",
       "\\item 32400\n",
       "\\item 25920\n",
       "\\item 25920\n",
       "\\end{enumerate*}\n"
      ],
      "text/markdown": [
       "1. 259200\n",
       "2. 259200\n",
       "3. 129600\n",
       "4. 129600\n",
       "5. 86400\n",
       "6. 86400\n",
       "7. 64800\n",
       "8. 64800\n",
       "9. 51840\n",
       "10. 51840\n",
       "11. 43200\n",
       "12. 43200\n",
       "13. 32400\n",
       "14. 32400\n",
       "15. 25920\n",
       "16. 25920\n",
       "\n",
       "\n"
      ],
      "text/plain": [
       " [1] 259200 259200 129600 129600  86400  86400  64800  64800  51840  51840\n",
       "[11]  43200  43200  32400  32400  25920  25920"
      ]
     },
     "metadata": {},
     "output_type": "display_data"
    }
   ],
   "source": [
    "vector_pixeles"
   ]
  },
  {
   "cell_type": "code",
   "execution_count": null,
   "id": "c1e5f0b2-0187-450b-b5e7-210b3a3e831c",
   "metadata": {},
   "outputs": [],
   "source": []
  }
 ],
 "metadata": {
  "kernelspec": {
   "display_name": "climate4R",
   "language": "R",
   "name": "climate4r"
  },
  "language_info": {
   "codemirror_mode": "r",
   "file_extension": ".r",
   "mimetype": "text/x-r-source",
   "name": "R",
   "pygments_lexer": "r",
   "version": "3.6.3"
  }
 },
 "nbformat": 4,
 "nbformat_minor": 5
}
