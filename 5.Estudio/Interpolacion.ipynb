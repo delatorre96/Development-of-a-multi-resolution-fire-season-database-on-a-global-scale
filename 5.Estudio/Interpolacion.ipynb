{
 "cells": [
  {
   "cell_type": "code",
   "execution_count": 4,
   "id": "8773ab73-543b-4b6b-87b7-7e9783e5a8b2",
   "metadata": {},
   "outputs": [
    {
     "name": "stdout",
     "output_type": "stream",
     "text": [
      "\n",
      "    _______   ____  ___________________  __  ________ \n",
      "   / ___/ /  / /  |/  / __  /_  __/ __/ / / / / __  / \n",
      "  / /  / /  / / /|_/ / /_/ / / / / __/ / /_/ / /_/_/  \n",
      " / /__/ /__/ / /  / / __  / / / / /__ /___  / / \\ \\ \n",
      " \\___/____/_/_/  /_/_/ /_/ /_/  \\___/    /_/\\/   \\_\\ \n",
      " \n",
      "      github.com/SantanderMetGroup/climate4R\n",
      "\n"
     ]
    },
    {
     "name": "stderr",
     "output_type": "stream",
     "text": [
      "transformeR version 2.1.3 (2021-08-04) is loaded\n",
      "\n",
      "WARNING: Your current version of transformeR (v2.1.3) is not up-to-date\n",
      "\n",
      "Get the latest stable version (2.1.5) using <devtools::install_github('SantanderMetGroup/transformeR')>\n",
      "\n",
      "Please see 'citation(\"transformeR\")' to cite this package.\n",
      "\n",
      "Loading required package: sp\n",
      "\n"
     ]
    }
   ],
   "source": [
    "library('transformeR')\n",
    "library(raster)"
   ]
  },
  {
   "cell_type": "code",
   "execution_count": 5,
   "id": "904f3405-213e-4838-b5f7-24528d71da10",
   "metadata": {},
   "outputs": [],
   "source": [
    "#archivosdf <- list.files(path = '../3.Datos generados/dataframes', pattern = \"^df_grid_\", full.names = TRUE)\n",
    "#archivosdf\n",
    "#archivos_grid <- list.files(path = '../1.Upscaling/upscaling_ba', full.names = TRUE)\n",
    "archivos_raster <- list.files(path = '../3.Datos generados/raster', full.names = TRUE)\n",
    "#archivos_raster"
   ]
  },
  {
   "cell_type": "code",
   "execution_count": 6,
   "id": "8f2dc148-b001-4ea9-9e1e-8781af466827",
   "metadata": {},
   "outputs": [],
   "source": [
    "df_grid_25_sinInterpolar <- get(load('../3.Datos generados/dataframes/df_grid_25.Rdata'))"
   ]
  },
  {
   "cell_type": "markdown",
   "id": "f0ed7d94-7f13-4558-b813-55f73e2ea07f",
   "metadata": {},
   "source": [
    "Con vecinos más cercanos"
   ]
  },
  {
   "cell_type": "code",
   "execution_count": 7,
   "id": "a24751c4-637f-4654-ae7d-a8949a0f2198",
   "metadata": {
    "tags": []
   },
   "outputs": [],
   "source": [
    "lista_variables <- c('grid_05','grid_1','grid_15','grid_2','grid_25','grid_3', 'grid_4','grid_5')\n",
    "lista_df_interpoladas <- list()\n",
    "for (i in 1:length(archivos_raster)){\n",
    "    lista_interpoladas <- list()\n",
    "    for (j in seq(1,9)){\n",
    "        grid_raster <- raster(archivos_raster[i], band = j)  \n",
    "        #creamos un raster vacío a 2.5\n",
    "        grid_raster_2.5 <- raster(extent(grid_raster), res = 2.5)\n",
    "        #realizamos interpolación por vecinos cercanos (ngb)\n",
    "        raster_interp <- resample(grid_raster, grid_raster_2.5, method = \"ngb\")\n",
    "        vector_raster_interp <- as.vector(raster_interp)\n",
    "        columna = paste0('layer_',j)\n",
    "        lista_interpoladas[[columna]] <- vector_raster_interp \n",
    "    }\n",
    "    coordenadas_interpolada <- coordinates(raster_interp)\n",
    "    df_interpoladas <- data.frame(lista_interpoladas)\n",
    "    df_interpoladas <- cbind(coordenadas_interpolada, df_interpoladas)\n",
    "    colnames(df_interpoladas) <- c('X','Y','FsOrNot','MainStart','MainEnd','SencondStart','SencondEnd','Length','C','P','FBA')\n",
    "    var_name = paste0('df_interpoladas_',lista_variables[i])\n",
    "    lista_df_interpoladas[[var_name]] <- df_interpoladas\n",
    "}"
   ]
  },
  {
   "cell_type": "code",
   "execution_count": 8,
   "id": "bc867c9a-4d70-4b42-abeb-3d4a6b40f91b",
   "metadata": {},
   "outputs": [],
   "source": [
    "vector_grids <- c('grid_05','grid_1','grid_15','grid_2','grid_25','grid_3', 'grid_4','grid_5')\n",
    "variablesComparar <- c('FsOrNot','MainStart','MainEnd','SencondStart','SencondEnd','Length','C','P','FBA')\n",
    "lista_grids_MAES <- list()\n",
    "for (i in 1:length(lista_df_interpoladas)){\n",
    "    grid <- vector_grids[i]\n",
    "    interpolada <- lista_df_interpoladas[[i]]\n",
    "    MAE_s <- c()\n",
    "    maxError <- c()\n",
    "    for (var in variablesComparar){\n",
    "        var_inter <- unlist(interpolada[var])\n",
    "        names(var_inter) <- NULL\n",
    "        var_grid_25_sinInterpolar <-unlist(lista_df_interpoladas$'df_interpoladas_grid_25'[var])\n",
    "        names(var_grid_25_sinInterpolar) <- NULL\n",
    "        diff_var <- c()\n",
    "        for (item in 1:length(var_inter)){\n",
    "            if (is.na(var_inter[item]) & is.na(var_grid_25_sinInterpolar[item])){\n",
    "                diff_var <- c(diff_var ,0)\n",
    "            }else{\n",
    "                diff_var <- c(diff_var, abs(var_inter[item] - var_grid_25_sinInterpolar[item]) )\n",
    "            }\n",
    "        }\n",
    "    diff_var <- na.omit(diff_var) \n",
    "    MAE_s <- c(MAE_s, mean(diff_var))\n",
    "    maxError <- c(maxError, max(diff_var))\n",
    "    }\n",
    "    MAE_s_normalizado <- MAE_s/maxError\n",
    "    names(MAE_s_normalizado) <- variablesComparar\n",
    "    if (vector_grids[i] == 'grid_25'){\n",
    "        lista_grids_MAES[[vector_grids[i]]] <- MAE_s\n",
    "    }else{\n",
    "        lista_grids_MAES[[vector_grids[i]]] <- MAE_s_normalizado\n",
    "    }\n",
    "}"
   ]
  },
  {
   "cell_type": "code",
   "execution_count": 9,
   "id": "4bbf4169-52f0-4cea-a45e-513fc29274bc",
   "metadata": {},
   "outputs": [
    {
     "data": {
      "text/html": [
       "<table class=\"dataframe\">\n",
       "<caption>A matrix: 8 × 9 of type dbl</caption>\n",
       "<thead>\n",
       "\t<tr><th></th><th scope=col>FsOrNot</th><th scope=col>MainStart</th><th scope=col>MainEnd</th><th scope=col>SencondStart</th><th scope=col>SencondEnd</th><th scope=col>Length</th><th scope=col>C</th><th scope=col>P</th><th scope=col>FBA</th></tr>\n",
       "</thead>\n",
       "<tbody>\n",
       "\t<tr><th scope=row>grid_05</th><td>0.08834877</td><td>0.02825821</td><td>0.04069830</td><td>0.012523946</td><td>0.008596743</td><td>0.05775862</td><td>0.12493220</td><td>0.06166349</td><td>0.27986740</td></tr>\n",
       "\t<tr><th scope=row>grid_1</th><td>0.05304784</td><td>0.01911147</td><td>0.03625993</td><td>0.005383580</td><td>0.003545916</td><td>0.04058306</td><td>0.06243892</td><td>0.04736081</td><td>0.04049946</td></tr>\n",
       "\t<tr><th scope=row>grid_15</th><td>0.03288966</td><td>0.01345368</td><td>0.02945048</td><td>0.005130028</td><td>0.004135949</td><td>0.02976408</td><td>0.04377659</td><td>0.03603289</td><td>0.04236243</td></tr>\n",
       "\t<tr><th scope=row>grid_2</th><td>0.02662037</td><td>0.01071956</td><td>0.02362808</td><td>0.004345190</td><td>0.003410469</td><td>0.02546572</td><td>0.03717047</td><td>0.03330795</td><td>0.03650922</td></tr>\n",
       "\t<tr><th scope=row>grid_25</th><td>0.00000000</td><td>0.00000000</td><td>0.00000000</td><td>0.000000000</td><td>0.000000000</td><td>0.00000000</td><td>0.00000000</td><td>0.00000000</td><td>0.00000000</td></tr>\n",
       "\t<tr><th scope=row>grid_3</th><td>0.03182870</td><td>0.01283305</td><td>0.02850984</td><td>0.005653458</td><td>0.003985433</td><td>0.03183458</td><td>0.04608705</td><td>0.04157228</td><td>0.04257019</td></tr>\n",
       "\t<tr><th scope=row>grid_4</th><td>0.04812886</td><td>0.01627686</td><td>0.03613703</td><td>0.006307115</td><td>0.004907292</td><td>0.04126276</td><td>0.06190737</td><td>0.05174731</td><td>0.04595209</td></tr>\n",
       "\t<tr><th scope=row>grid_5</th><td>0.06172840</td><td>0.01720432</td><td>0.03901577</td><td>0.006273058</td><td>0.004410926</td><td>0.03910362</td><td>0.07110289</td><td>0.05548743</td><td>0.06296611</td></tr>\n",
       "</tbody>\n",
       "</table>\n"
      ],
      "text/latex": [
       "A matrix: 8 × 9 of type dbl\n",
       "\\begin{tabular}{r|lllllllll}\n",
       "  & FsOrNot & MainStart & MainEnd & SencondStart & SencondEnd & Length & C & P & FBA\\\\\n",
       "\\hline\n",
       "\tgrid\\_05 & 0.08834877 & 0.02825821 & 0.04069830 & 0.012523946 & 0.008596743 & 0.05775862 & 0.12493220 & 0.06166349 & 0.27986740\\\\\n",
       "\tgrid\\_1 & 0.05304784 & 0.01911147 & 0.03625993 & 0.005383580 & 0.003545916 & 0.04058306 & 0.06243892 & 0.04736081 & 0.04049946\\\\\n",
       "\tgrid\\_15 & 0.03288966 & 0.01345368 & 0.02945048 & 0.005130028 & 0.004135949 & 0.02976408 & 0.04377659 & 0.03603289 & 0.04236243\\\\\n",
       "\tgrid\\_2 & 0.02662037 & 0.01071956 & 0.02362808 & 0.004345190 & 0.003410469 & 0.02546572 & 0.03717047 & 0.03330795 & 0.03650922\\\\\n",
       "\tgrid\\_25 & 0.00000000 & 0.00000000 & 0.00000000 & 0.000000000 & 0.000000000 & 0.00000000 & 0.00000000 & 0.00000000 & 0.00000000\\\\\n",
       "\tgrid\\_3 & 0.03182870 & 0.01283305 & 0.02850984 & 0.005653458 & 0.003985433 & 0.03183458 & 0.04608705 & 0.04157228 & 0.04257019\\\\\n",
       "\tgrid\\_4 & 0.04812886 & 0.01627686 & 0.03613703 & 0.006307115 & 0.004907292 & 0.04126276 & 0.06190737 & 0.05174731 & 0.04595209\\\\\n",
       "\tgrid\\_5 & 0.06172840 & 0.01720432 & 0.03901577 & 0.006273058 & 0.004410926 & 0.03910362 & 0.07110289 & 0.05548743 & 0.06296611\\\\\n",
       "\\end{tabular}\n"
      ],
      "text/markdown": [
       "\n",
       "A matrix: 8 × 9 of type dbl\n",
       "\n",
       "| <!--/--> | FsOrNot | MainStart | MainEnd | SencondStart | SencondEnd | Length | C | P | FBA |\n",
       "|---|---|---|---|---|---|---|---|---|---|\n",
       "| grid_05 | 0.08834877 | 0.02825821 | 0.04069830 | 0.012523946 | 0.008596743 | 0.05775862 | 0.12493220 | 0.06166349 | 0.27986740 |\n",
       "| grid_1 | 0.05304784 | 0.01911147 | 0.03625993 | 0.005383580 | 0.003545916 | 0.04058306 | 0.06243892 | 0.04736081 | 0.04049946 |\n",
       "| grid_15 | 0.03288966 | 0.01345368 | 0.02945048 | 0.005130028 | 0.004135949 | 0.02976408 | 0.04377659 | 0.03603289 | 0.04236243 |\n",
       "| grid_2 | 0.02662037 | 0.01071956 | 0.02362808 | 0.004345190 | 0.003410469 | 0.02546572 | 0.03717047 | 0.03330795 | 0.03650922 |\n",
       "| grid_25 | 0.00000000 | 0.00000000 | 0.00000000 | 0.000000000 | 0.000000000 | 0.00000000 | 0.00000000 | 0.00000000 | 0.00000000 |\n",
       "| grid_3 | 0.03182870 | 0.01283305 | 0.02850984 | 0.005653458 | 0.003985433 | 0.03183458 | 0.04608705 | 0.04157228 | 0.04257019 |\n",
       "| grid_4 | 0.04812886 | 0.01627686 | 0.03613703 | 0.006307115 | 0.004907292 | 0.04126276 | 0.06190737 | 0.05174731 | 0.04595209 |\n",
       "| grid_5 | 0.06172840 | 0.01720432 | 0.03901577 | 0.006273058 | 0.004410926 | 0.03910362 | 0.07110289 | 0.05548743 | 0.06296611 |\n",
       "\n"
      ],
      "text/plain": [
       "        FsOrNot    MainStart  MainEnd    SencondStart SencondEnd  Length    \n",
       "grid_05 0.08834877 0.02825821 0.04069830 0.012523946  0.008596743 0.05775862\n",
       "grid_1  0.05304784 0.01911147 0.03625993 0.005383580  0.003545916 0.04058306\n",
       "grid_15 0.03288966 0.01345368 0.02945048 0.005130028  0.004135949 0.02976408\n",
       "grid_2  0.02662037 0.01071956 0.02362808 0.004345190  0.003410469 0.02546572\n",
       "grid_25 0.00000000 0.00000000 0.00000000 0.000000000  0.000000000 0.00000000\n",
       "grid_3  0.03182870 0.01283305 0.02850984 0.005653458  0.003985433 0.03183458\n",
       "grid_4  0.04812886 0.01627686 0.03613703 0.006307115  0.004907292 0.04126276\n",
       "grid_5  0.06172840 0.01720432 0.03901577 0.006273058  0.004410926 0.03910362\n",
       "        C          P          FBA       \n",
       "grid_05 0.12493220 0.06166349 0.27986740\n",
       "grid_1  0.06243892 0.04736081 0.04049946\n",
       "grid_15 0.04377659 0.03603289 0.04236243\n",
       "grid_2  0.03717047 0.03330795 0.03650922\n",
       "grid_25 0.00000000 0.00000000 0.00000000\n",
       "grid_3  0.04608705 0.04157228 0.04257019\n",
       "grid_4  0.06190737 0.05174731 0.04595209\n",
       "grid_5  0.07110289 0.05548743 0.06296611"
      ]
     },
     "metadata": {},
     "output_type": "display_data"
    }
   ],
   "source": [
    "t(data.frame(lista_grids_MAES))"
   ]
  },
  {
   "cell_type": "code",
   "execution_count": 10,
   "id": "9607817c-847e-40a2-aca6-12cc9a2be20f",
   "metadata": {},
   "outputs": [
    {
     "name": "stdout",
     "output_type": "stream",
     "text": [
      "% latex table generated in R 3.6.3 by xtable 1.8-4 package\n",
      "% Wed Sep 20 08:07:55 2023\n",
      "\\begin{table}[ht]\n",
      "\\centering\n",
      "\\begin{tabular}{rrrrrrrrr}\n",
      "  \\hline\n",
      "FsOrNot & MainStart & MainEnd & SencondStart & SencondEnd & Length & C & P & FBA \\\\ \n",
      "  \\hline\n",
      "0.09 & 0.03 & 0.04 & 0.01 & 0.01 & 0.06 & 0.12 & 0.06 & 0.28 \\\\ \n",
      "  0.05 & 0.02 & 0.04 & 0.01 & 0.00 & 0.04 & 0.06 & 0.05 & 0.04 \\\\ \n",
      "  0.03 & 0.01 & 0.03 & 0.01 & 0.00 & 0.03 & 0.04 & 0.04 & 0.04 \\\\ \n",
      "  0.03 & 0.01 & 0.02 & 0.00 & 0.00 & 0.03 & 0.04 & 0.03 & 0.04 \\\\ \n",
      "  0.00 & 0.00 & 0.00 & 0.00 & 0.00 & 0.00 & 0.00 & 0.00 & 0.00 \\\\ \n",
      "  0.03 & 0.01 & 0.03 & 0.01 & 0.00 & 0.03 & 0.05 & 0.04 & 0.04 \\\\ \n",
      "  0.05 & 0.02 & 0.04 & 0.01 & 0.00 & 0.04 & 0.06 & 0.05 & 0.05 \\\\ \n",
      "  0.06 & 0.02 & 0.04 & 0.01 & 0.00 & 0.04 & 0.07 & 0.06 & 0.06 \\\\ \n",
      "   \\hline\n",
      "\\end{tabular}\n",
      "\\end{table}\n"
     ]
    }
   ],
   "source": [
    "library(xtable)\n",
    "table <- xtable(t(data.frame(lista_grids_MAES)))\n",
    "print(table, include.rownames = FALSE)"
   ]
  },
  {
   "cell_type": "markdown",
   "id": "9d596e90-d4bc-4db9-8b2c-d823371350eb",
   "metadata": {},
   "source": [
    "Con bilinear"
   ]
  },
  {
   "cell_type": "code",
   "execution_count": 344,
   "id": "410504c0-3bc5-40cd-af38-6113ba60889c",
   "metadata": {},
   "outputs": [],
   "source": [
    "lista_variables <- c('grid_05','grid_1','grid_15','grid_2','grid_25','grid_3', 'grid_4','grid_5')\n",
    "lista_df_interpoladas <- list()\n",
    "for (i in 1:length(archivos_raster)){\n",
    "    lista_interpoladas <- list()\n",
    "    for (j in seq(1,9)){\n",
    "        grid_raster <- raster(archivos_raster[i], band = j)  \n",
    "        #creamos un raster vacío a 2.5\n",
    "        grid_raster_2.5 <- raster(extent(grid_raster), res = 2.5)\n",
    "        #realizamos interpolación por vecinos cercanos (ngb)\n",
    "        raster_interp <- resample(grid_raster, grid_raster_2.5, method = \"bilinear\")\n",
    "        vector_raster_interp <- as.vector(raster_interp)\n",
    "        columna = paste0('layer_',j)\n",
    "        lista_interpoladas[[columna]] <- vector_raster_interp \n",
    "    }\n",
    "    coordenadas_interpolada <- coordinates(raster_interp)\n",
    "    df_interpoladas <- data.frame(lista_interpoladas)\n",
    "    df_interpoladas <- cbind(coordenadas_interpolada, df_interpoladas)\n",
    "    colnames(df_interpoladas) <- c('X','Y','FsOrNot','MainStart','MainEnd','SencondStart','SencondEnd','Length','C','P','FBA')\n",
    "    var_name = paste0('df_interpoladas_',lista_variables[i])\n",
    "    lista_df_interpoladas[[var_name]] <- df_interpoladas\n",
    "}"
   ]
  },
  {
   "cell_type": "code",
   "execution_count": 346,
   "id": "5f2e05cb-7aeb-46f1-b036-c15702117b2e",
   "metadata": {},
   "outputs": [],
   "source": [
    "vector_grids <- c('grid_05','grid_1','grid_15','grid_2','grid_25','grid_3', 'grid_4','grid_5')\n",
    "variablesComparar <- c('FsOrNot','MainStart','MainEnd','SencondStart','SencondEnd','Length','C','P','FBA')\n",
    "lista_grids_MAES <- list()\n",
    "for (i in 1:length(lista_df_interpoladas)){\n",
    "    grid <- vector_grids[i]\n",
    "    interpolada <- lista_df_interpoladas[[i]]\n",
    "    MAE_s <- c()\n",
    "    for (var in variablesComparar){\n",
    "        var_inter <- unlist(interpolada[var])\n",
    "        names(var_inter) <- NULL\n",
    "        var_grid_25_sinInterpolar <-unlist(lista_df_interpoladas$'df_interpoladas_grid_25'[var])\n",
    "        names(var_grid_25_sinInterpolar) <- NULL\n",
    "        diff_var <- c()\n",
    "        for (item in 1:length(var_inter)){\n",
    "            if (is.na(var_inter[item]) & is.na(var_grid_25_sinInterpolar[item])){\n",
    "                diff_var <- c(diff_var ,0)\n",
    "            }else{\n",
    "                diff_var <- c(diff_var, abs(var_inter[item] - var_grid_25_sinInterpolar[item]) )\n",
    "            }\n",
    "        }\n",
    "    diff_var <- na.omit(diff_var)    \n",
    "    MAE_var = mean(diff_var)\n",
    "    MAE_s <- c(MAE_s, MAE_var)\n",
    "    }\n",
    "    names(MAE_s) <- variablesComparar\n",
    "    lista_grids_MAES[[vector_grids[i]]] <- MAE_s\n",
    "}"
   ]
  },
  {
   "cell_type": "code",
   "execution_count": 347,
   "id": "10ae1bcc-9271-4335-b565-79b32aa321d8",
   "metadata": {},
   "outputs": [
    {
     "data": {
      "text/html": [
       "<table class=\"dataframe\">\n",
       "<caption>A matrix: 8 × 9 of type dbl</caption>\n",
       "<thead>\n",
       "\t<tr><th></th><th scope=col>FsOrNot</th><th scope=col>MainStart</th><th scope=col>MainEnd</th><th scope=col>SencondStart</th><th scope=col>SencondEnd</th><th scope=col>Length</th><th scope=col>C</th><th scope=col>P</th><th scope=col>FBA</th></tr>\n",
       "</thead>\n",
       "<tbody>\n",
       "\t<tr><th scope=row>grid_05</th><td>0.09111032</td><td>0.4266898</td><td>0.4609441</td><td>0.17109992</td><td>0.12693339</td><td>0.5702300</td><td>0.07349209</td><td>0.1615045</td><td>0.299206427</td></tr>\n",
       "\t<tr><th scope=row>grid_1</th><td>0.05365668</td><td>0.2339334</td><td>0.3705870</td><td>0.08236500</td><td>0.05539743</td><td>0.3801183</td><td>0.05327888</td><td>0.1317174</td><td>0.011157023</td></tr>\n",
       "\t<tr><th scope=row>grid_15</th><td>0.03680127</td><td>0.1702487</td><td>0.3340071</td><td>0.07689754</td><td>0.05477719</td><td>0.3036438</td><td>0.04154976</td><td>0.1119714</td><td>0.007999769</td></tr>\n",
       "\t<tr><th scope=row>grid_2</th><td>0.03251742</td><td>0.1640000</td><td>0.3228464</td><td>0.08242287</td><td>0.06060365</td><td>0.2778054</td><td>0.03722217</td><td>0.1082916</td><td>0.010575980</td></tr>\n",
       "\t<tr><th scope=row>grid_25</th><td>0.00000000</td><td>0.0000000</td><td>0.0000000</td><td>0.00000000</td><td>0.00000000</td><td>0.0000000</td><td>0.00000000</td><td>0.0000000</td><td>0.000000000</td></tr>\n",
       "\t<tr><th scope=row>grid_3</th><td>0.04201323</td><td>0.2012983</td><td>0.3876081</td><td>0.09580311</td><td>0.07239528</td><td>0.3347066</td><td>0.05007797</td><td>0.1315018</td><td>0.022683365</td></tr>\n",
       "\t<tr><th scope=row>grid_4</th><td>0.05798298</td><td>0.2312029</td><td>0.4679415</td><td>0.12115645</td><td>0.08787251</td><td>0.4188026</td><td>0.06603080</td><td>0.1623885</td><td>0.033004167</td></tr>\n",
       "\t<tr><th scope=row>grid_5</th><td>0.07767077</td><td>0.2534552</td><td>0.4915593</td><td>0.12443753</td><td>0.08922049</td><td>0.4585908</td><td>0.08245383</td><td>0.1782202</td><td>0.044799817</td></tr>\n",
       "</tbody>\n",
       "</table>\n"
      ],
      "text/latex": [
       "A matrix: 8 × 9 of type dbl\n",
       "\\begin{tabular}{r|lllllllll}\n",
       "  & FsOrNot & MainStart & MainEnd & SencondStart & SencondEnd & Length & C & P & FBA\\\\\n",
       "\\hline\n",
       "\tgrid\\_05 & 0.09111032 & 0.4266898 & 0.4609441 & 0.17109992 & 0.12693339 & 0.5702300 & 0.07349209 & 0.1615045 & 0.299206427\\\\\n",
       "\tgrid\\_1 & 0.05365668 & 0.2339334 & 0.3705870 & 0.08236500 & 0.05539743 & 0.3801183 & 0.05327888 & 0.1317174 & 0.011157023\\\\\n",
       "\tgrid\\_15 & 0.03680127 & 0.1702487 & 0.3340071 & 0.07689754 & 0.05477719 & 0.3036438 & 0.04154976 & 0.1119714 & 0.007999769\\\\\n",
       "\tgrid\\_2 & 0.03251742 & 0.1640000 & 0.3228464 & 0.08242287 & 0.06060365 & 0.2778054 & 0.03722217 & 0.1082916 & 0.010575980\\\\\n",
       "\tgrid\\_25 & 0.00000000 & 0.0000000 & 0.0000000 & 0.00000000 & 0.00000000 & 0.0000000 & 0.00000000 & 0.0000000 & 0.000000000\\\\\n",
       "\tgrid\\_3 & 0.04201323 & 0.2012983 & 0.3876081 & 0.09580311 & 0.07239528 & 0.3347066 & 0.05007797 & 0.1315018 & 0.022683365\\\\\n",
       "\tgrid\\_4 & 0.05798298 & 0.2312029 & 0.4679415 & 0.12115645 & 0.08787251 & 0.4188026 & 0.06603080 & 0.1623885 & 0.033004167\\\\\n",
       "\tgrid\\_5 & 0.07767077 & 0.2534552 & 0.4915593 & 0.12443753 & 0.08922049 & 0.4585908 & 0.08245383 & 0.1782202 & 0.044799817\\\\\n",
       "\\end{tabular}\n"
      ],
      "text/markdown": [
       "\n",
       "A matrix: 8 × 9 of type dbl\n",
       "\n",
       "| <!--/--> | FsOrNot | MainStart | MainEnd | SencondStart | SencondEnd | Length | C | P | FBA |\n",
       "|---|---|---|---|---|---|---|---|---|---|\n",
       "| grid_05 | 0.09111032 | 0.4266898 | 0.4609441 | 0.17109992 | 0.12693339 | 0.5702300 | 0.07349209 | 0.1615045 | 0.299206427 |\n",
       "| grid_1 | 0.05365668 | 0.2339334 | 0.3705870 | 0.08236500 | 0.05539743 | 0.3801183 | 0.05327888 | 0.1317174 | 0.011157023 |\n",
       "| grid_15 | 0.03680127 | 0.1702487 | 0.3340071 | 0.07689754 | 0.05477719 | 0.3036438 | 0.04154976 | 0.1119714 | 0.007999769 |\n",
       "| grid_2 | 0.03251742 | 0.1640000 | 0.3228464 | 0.08242287 | 0.06060365 | 0.2778054 | 0.03722217 | 0.1082916 | 0.010575980 |\n",
       "| grid_25 | 0.00000000 | 0.0000000 | 0.0000000 | 0.00000000 | 0.00000000 | 0.0000000 | 0.00000000 | 0.0000000 | 0.000000000 |\n",
       "| grid_3 | 0.04201323 | 0.2012983 | 0.3876081 | 0.09580311 | 0.07239528 | 0.3347066 | 0.05007797 | 0.1315018 | 0.022683365 |\n",
       "| grid_4 | 0.05798298 | 0.2312029 | 0.4679415 | 0.12115645 | 0.08787251 | 0.4188026 | 0.06603080 | 0.1623885 | 0.033004167 |\n",
       "| grid_5 | 0.07767077 | 0.2534552 | 0.4915593 | 0.12443753 | 0.08922049 | 0.4585908 | 0.08245383 | 0.1782202 | 0.044799817 |\n",
       "\n"
      ],
      "text/plain": [
       "        FsOrNot    MainStart MainEnd   SencondStart SencondEnd Length   \n",
       "grid_05 0.09111032 0.4266898 0.4609441 0.17109992   0.12693339 0.5702300\n",
       "grid_1  0.05365668 0.2339334 0.3705870 0.08236500   0.05539743 0.3801183\n",
       "grid_15 0.03680127 0.1702487 0.3340071 0.07689754   0.05477719 0.3036438\n",
       "grid_2  0.03251742 0.1640000 0.3228464 0.08242287   0.06060365 0.2778054\n",
       "grid_25 0.00000000 0.0000000 0.0000000 0.00000000   0.00000000 0.0000000\n",
       "grid_3  0.04201323 0.2012983 0.3876081 0.09580311   0.07239528 0.3347066\n",
       "grid_4  0.05798298 0.2312029 0.4679415 0.12115645   0.08787251 0.4188026\n",
       "grid_5  0.07767077 0.2534552 0.4915593 0.12443753   0.08922049 0.4585908\n",
       "        C          P         FBA        \n",
       "grid_05 0.07349209 0.1615045 0.299206427\n",
       "grid_1  0.05327888 0.1317174 0.011157023\n",
       "grid_15 0.04154976 0.1119714 0.007999769\n",
       "grid_2  0.03722217 0.1082916 0.010575980\n",
       "grid_25 0.00000000 0.0000000 0.000000000\n",
       "grid_3  0.05007797 0.1315018 0.022683365\n",
       "grid_4  0.06603080 0.1623885 0.033004167\n",
       "grid_5  0.08245383 0.1782202 0.044799817"
      ]
     },
     "metadata": {},
     "output_type": "display_data"
    }
   ],
   "source": [
    "t(data.frame(lista_grids_MAES))"
   ]
  },
  {
   "cell_type": "markdown",
   "id": "84b91fc9-e3f4-4f7a-ba66-bda4bb451e8c",
   "metadata": {},
   "source": [
    "### Visualizaciones"
   ]
  },
  {
   "cell_type": "code",
   "execution_count": 32,
   "id": "da8115d6-d0f7-44ff-b7af-a2d7de1485ea",
   "metadata": {},
   "outputs": [],
   "source": [
    "lista_variables <- c('grid_05','grid_2','grid_3','grid_5')\n",
    "variablesComparar <- c('Length','C','P')\n",
    "lista_df_interpoladas_viz <- list(lista_df_interpoladas$'df_interpoladas_grid_05', lista_df_interpoladas$'df_interpoladas_grid_2', lista_df_interpoladas$'df_interpoladas_grid_3', lista_df_interpoladas$'df_interpoladas_grid_5')\n",
    "lista_grids <- list()\n",
    "for (i in 1:length(lista_df_interpoladas_viz)){\n",
    "    grid <- vector_grids[i]\n",
    "    interpolada <- lista_df_interpoladas_viz[[i]]\n",
    "    diff_list <- list()\n",
    "    for (var in variablesComparar){\n",
    "        var_inter <- unlist(interpolada[var])\n",
    "        names(var_inter) <- NULL\n",
    "        var_grid_25_sinInterpolar <-unlist(lista_df_interpoladas$'df_interpoladas_grid_25'[var])\n",
    "        names(var_grid_25_sinInterpolar) <- NULL\n",
    "        diff_var <- c()\n",
    "        for (item in 1:length(var_inter)){\n",
    "            if (is.na(var_inter[item]) & is.na(var_grid_25_sinInterpolar[item])){\n",
    "                diff_var <- c(diff_var ,0)\n",
    "            }else{\n",
    "                diff_var <- c(diff_var, abs(var_inter[item] - var_grid_25_sinInterpolar[item]) )\n",
    "            }\n",
    "        }\n",
    "    diff_var <- na.omit(diff_var)    \n",
    "    diff_list[[var]] <- diff_var\n",
    "    }\n",
    "    lista_grids[[vector_grids[i]]] <- diff_list\n",
    "}"
   ]
  },
  {
   "cell_type": "code",
   "execution_count": 34,
   "id": "acc2a8d2-dc76-44e7-b21b-d538481e7557",
   "metadata": {},
   "outputs": [],
   "source": [
    "library(\"visualizeR\")\n",
    "\n",
    "quantity2clim <- function(quantity, what, ref.grid, backperm = NULL) {\n",
    "  if(!is.null(backperm)){quantity <- quantity[backperm]}\n",
    "  mat <- matrix(quantity, nrow = 1)  \n",
    "  ref.grid$Data <- mat2Dto3Darray(mat, x = ref.grid$xyCoords$x , y = ref.grid$xyCoords$y)\n",
    "  attr(ref.grid$Data, \"climatology:fun\") <- what\n",
    "  return(ref.grid)\n",
    "}\n"
   ]
  },
  {
   "cell_type": "code",
   "execution_count": 42,
   "id": "d87bc9b7-8316-4cf6-92dd-b9e517a04989",
   "metadata": {},
   "outputs": [],
   "source": [
    "grid_25 <- get(load('../1.Upscaling/upscaling_ba/ba_grid_25.Rdata'))"
   ]
  },
  {
   "cell_type": "code",
   "execution_count": 46,
   "id": "254ee4e3-5e2a-477f-9dc6-efe9492545a6",
   "metadata": {},
   "outputs": [
    {
     "name": "stderr",
     "output_type": "stream",
     "text": [
      "Warning message in matrix(mat2D[i, ], ncol = length(x), nrow = length(y)):\n",
      "“data length [10092] is not a sub-multiple or multiple of the number of rows [144]”\n",
      "Warning message in matrix(mat2D[i, ], ncol = length(x), nrow = length(y)):\n",
      "“data length [10092] is not a sub-multiple or multiple of the number of rows [144]”\n"
     ]
    }
   ],
   "source": [
    "MAE_C_clim05 <- quantity2clim(quantity = lista_grids$grid_05$C, what = 'MAE_s05C', ref.grid = grid_25, backperm = NULL)\n",
    "MAE_P_clim05 <- quantity2clim(quantity = lista_grids$grid_05$P, what = 'MAE_s05P', ref.grid = grid_25, backperm = NULL)\n",
    "MAE_L_clim05 <- quantity2clim(quantity = lista_grids$grid_05$Length, what = 'MAE_s05L', ref.grid = grid_25, backperm = NULL)\n",
    "\n",
    "MAE_C_clim5 <- quantity2clim(quantity = lista_grids$grid_05$C, what = 'MAE_s5C', ref.grid = grid_25, backperm = NULL)\n",
    "MAE_P_clim5 <- quantity2clim(quantity = lista_grids$grid_05$P, what = 'MAE_s5P', ref.grid = grid_25, backperm = NULL)\n",
    "MAE_L_clim5 <- quantity2clim(quantity = lista_grids$grid_05$Length, what = 'MAE_s5L', ref.grid = grid_25, backperm = )"
   ]
  },
  {
   "cell_type": "code",
   "execution_count": null,
   "id": "4a25b0a1-82de-4a4a-98c9-683f8eb27acc",
   "metadata": {},
   "outputs": [],
   "source": []
  },
  {
   "cell_type": "code",
   "execution_count": null,
   "id": "ad6249e3-2003-41e4-a1d4-006f874893e2",
   "metadata": {},
   "outputs": [],
   "source": []
  }
 ],
 "metadata": {
  "kernelspec": {
   "display_name": "climate4R",
   "language": "R",
   "name": "climate4r"
  },
  "language_info": {
   "codemirror_mode": "r",
   "file_extension": ".r",
   "mimetype": "text/x-r-source",
   "name": "R",
   "pygments_lexer": "r",
   "version": "3.6.3"
  }
 },
 "nbformat": 4,
 "nbformat_minor": 5
}
