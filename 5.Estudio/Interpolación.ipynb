{
 "cells": [
  {
   "cell_type": "code",
   "execution_count": 114,
   "id": "8773ab73-543b-4b6b-87b7-7e9783e5a8b2",
   "metadata": {},
   "outputs": [],
   "source": [
    "library('transformeR')\n",
    "library(raster)"
   ]
  },
  {
   "cell_type": "code",
   "execution_count": 349,
   "id": "904f3405-213e-4838-b5f7-24528d71da10",
   "metadata": {},
   "outputs": [],
   "source": [
    "#archivosdf <- list.files(path = '../3.Datos generados/dataframes', pattern = \"^df_grid_\", full.names = TRUE)\n",
    "#archivosdf\n",
    "#archivos_grid <- list.files(path = '../1.Upscaling/upscaling_ba', full.names = TRUE)\n",
    "archivos_raster <- list.files(path = '../3.Datos generados/raster', full.names = TRUE)\n",
    "#archivos_raster"
   ]
  },
  {
   "cell_type": "code",
   "execution_count": 350,
   "id": "8f2dc148-b001-4ea9-9e1e-8781af466827",
   "metadata": {},
   "outputs": [],
   "source": [
    "df_grid_25_sinInterpolar <- get(load('../3.Datos generados/dataframes/df_grid_25.Rdata'))"
   ]
  },
  {
   "cell_type": "markdown",
   "id": "f0ed7d94-7f13-4558-b813-55f73e2ea07f",
   "metadata": {},
   "source": [
    "Con vecinos más cercanos"
   ]
  },
  {
   "cell_type": "code",
   "execution_count": 351,
   "id": "a24751c4-637f-4654-ae7d-a8949a0f2198",
   "metadata": {
    "tags": []
   },
   "outputs": [],
   "source": [
    "lista_variables <- c('grid_05','grid_1','grid_15','grid_2','grid_25','grid_3', 'grid_4','grid_5')\n",
    "lista_df_interpoladas <- list()\n",
    "for (i in 1:length(archivos_raster)){\n",
    "    lista_interpoladas <- list()\n",
    "    for (j in seq(1,9)){\n",
    "        grid_raster <- raster(archivos_raster[i], band = j)  \n",
    "        #creamos un raster vacío a 2.5\n",
    "        grid_raster_2.5 <- raster(extent(grid_raster), res = 2.5)\n",
    "        #realizamos interpolación por vecinos cercanos (ngb)\n",
    "        raster_interp <- resample(grid_raster, grid_raster_2.5, method = \"ngb\")\n",
    "        vector_raster_interp <- as.vector(raster_interp)\n",
    "        columna = paste0('layer_',j)\n",
    "        lista_interpoladas[[columna]] <- vector_raster_interp \n",
    "    }\n",
    "    coordenadas_interpolada <- coordinates(raster_interp)\n",
    "    df_interpoladas <- data.frame(lista_interpoladas)\n",
    "    df_interpoladas <- cbind(coordenadas_interpolada, df_interpoladas)\n",
    "    colnames(df_interpoladas) <- c('X','Y','FsOrNot','MainStart','MainEnd','SencondStart','SencondEnd','Length','C','P','FBA')\n",
    "    var_name = paste0('df_interpoladas_',lista_variables[i])\n",
    "    lista_df_interpoladas[[var_name]] <- df_interpoladas\n",
    "}"
   ]
  },
  {
   "cell_type": "code",
   "execution_count": 352,
   "id": "bc867c9a-4d70-4b42-abeb-3d4a6b40f91b",
   "metadata": {},
   "outputs": [],
   "source": [
    "vector_grids <- c('grid_05','grid_1','grid_15','grid_2','grid_25','grid_3', 'grid_4','grid_5')\n",
    "variablesComparar <- c('FsOrNot','MainStart','MainEnd','SencondStart','SencondEnd','Length','C','P','FBA')\n",
    "lista_grids_MAES <- list()\n",
    "for (i in 1:length(lista_df_interpoladas)){\n",
    "    grid <- vector_grids[i]\n",
    "    interpolada <- lista_df_interpoladas[[i]]\n",
    "    MAE_s <- c()\n",
    "    for (var in variablesComparar){\n",
    "        var_inter <- unlist(interpolada[var])\n",
    "        names(var_inter) <- NULL\n",
    "        var_grid_25_sinInterpolar <-unlist(lista_df_interpoladas$'df_interpoladas_grid_25'[var])\n",
    "        names(var_grid_25_sinInterpolar) <- NULL\n",
    "        diff_var <- c()\n",
    "        for (item in 1:length(var_inter)){\n",
    "            if (is.na(var_inter[item]) & is.na(var_grid_25_sinInterpolar[item])){\n",
    "                diff_var <- c(diff_var ,0)\n",
    "            }else{\n",
    "                diff_var <- c(diff_var, abs(var_inter[item] - var_grid_25_sinInterpolar[item]) )\n",
    "            }\n",
    "        }\n",
    "    diff_var <- na.omit(diff_var)    \n",
    "    MAE_var = mean(diff_var)\n",
    "    MAE_s <- c(MAE_s, MAE_var)\n",
    "    }\n",
    "    names(MAE_s) <- variablesComparar\n",
    "    lista_grids_MAES[[vector_grids[i]]] <- MAE_s\n",
    "}"
   ]
  },
  {
   "cell_type": "code",
   "execution_count": 353,
   "id": "48bcdb67-a85e-4b22-8b39-50704cc08149",
   "metadata": {},
   "outputs": [
    {
     "data": {
      "text/html": [
       "<table class=\"dataframe\">\n",
       "<caption>A matrix: 8 × 9 of type dbl</caption>\n",
       "<thead>\n",
       "\t<tr><th></th><th scope=col>FsOrNot</th><th scope=col>MainStart</th><th scope=col>MainEnd</th><th scope=col>SencondStart</th><th scope=col>SencondEnd</th><th scope=col>Length</th><th scope=col>C</th><th scope=col>P</th><th scope=col>FBA</th></tr>\n",
       "</thead>\n",
       "<tbody>\n",
       "\t<tr><th scope=row>grid_05</th><td>0.08825231</td><td>0.3156956</td><td>0.4404479</td><td>0.11163793</td><td>0.07392241</td><td>0.5786762</td><td>0.12494611</td><td>0.1940091</td><td>0.29475797</td></tr>\n",
       "\t<tr><th scope=row>grid_1</th><td>0.05304784</td><td>0.2102261</td><td>0.3625993</td><td>0.04306864</td><td>0.02836733</td><td>0.3652475</td><td>0.06243892</td><td>0.1472351</td><td>0.02222783</td></tr>\n",
       "\t<tr><th scope=row>grid_15</th><td>0.03288966</td><td>0.1345368</td><td>0.2945048</td><td>0.04104023</td><td>0.02895165</td><td>0.2678767</td><td>0.04377659</td><td>0.1122534</td><td>0.02021273</td></tr>\n",
       "\t<tr><th scope=row>grid_2</th><td>0.02662037</td><td>0.1179152</td><td>0.2599088</td><td>0.03910671</td><td>0.02728375</td><td>0.2291914</td><td>0.03717047</td><td>0.1044816</td><td>0.02042865</td></tr>\n",
       "\t<tr><th scope=row>grid_25</th><td>0.00000000</td><td>0.0000000</td><td>0.0000000</td><td>0.00000000</td><td>0.00000000</td><td>0.0000000</td><td>0.00000000</td><td>0.0000000</td><td>0.00000000</td></tr>\n",
       "\t<tr><th scope=row>grid_3</th><td>0.03182870</td><td>0.1411636</td><td>0.3136083</td><td>0.04522767</td><td>0.03188347</td><td>0.2865113</td><td>0.04608705</td><td>0.1303905</td><td>0.02731663</td></tr>\n",
       "\t<tr><th scope=row>grid_4</th><td>0.04812886</td><td>0.1790455</td><td>0.3975073</td><td>0.05676404</td><td>0.03925834</td><td>0.3713649</td><td>0.06190737</td><td>0.1624733</td><td>0.03452541</td></tr>\n",
       "\t<tr><th scope=row>grid_5</th><td>0.06172840</td><td>0.1892475</td><td>0.4291735</td><td>0.05645753</td><td>0.03969833</td><td>0.3910362</td><td>0.07110289</td><td>0.1731939</td><td>0.04002349</td></tr>\n",
       "</tbody>\n",
       "</table>\n"
      ],
      "text/latex": [
       "A matrix: 8 × 9 of type dbl\n",
       "\\begin{tabular}{r|lllllllll}\n",
       "  & FsOrNot & MainStart & MainEnd & SencondStart & SencondEnd & Length & C & P & FBA\\\\\n",
       "\\hline\n",
       "\tgrid\\_05 & 0.08825231 & 0.3156956 & 0.4404479 & 0.11163793 & 0.07392241 & 0.5786762 & 0.12494611 & 0.1940091 & 0.29475797\\\\\n",
       "\tgrid\\_1 & 0.05304784 & 0.2102261 & 0.3625993 & 0.04306864 & 0.02836733 & 0.3652475 & 0.06243892 & 0.1472351 & 0.02222783\\\\\n",
       "\tgrid\\_15 & 0.03288966 & 0.1345368 & 0.2945048 & 0.04104023 & 0.02895165 & 0.2678767 & 0.04377659 & 0.1122534 & 0.02021273\\\\\n",
       "\tgrid\\_2 & 0.02662037 & 0.1179152 & 0.2599088 & 0.03910671 & 0.02728375 & 0.2291914 & 0.03717047 & 0.1044816 & 0.02042865\\\\\n",
       "\tgrid\\_25 & 0.00000000 & 0.0000000 & 0.0000000 & 0.00000000 & 0.00000000 & 0.0000000 & 0.00000000 & 0.0000000 & 0.00000000\\\\\n",
       "\tgrid\\_3 & 0.03182870 & 0.1411636 & 0.3136083 & 0.04522767 & 0.03188347 & 0.2865113 & 0.04608705 & 0.1303905 & 0.02731663\\\\\n",
       "\tgrid\\_4 & 0.04812886 & 0.1790455 & 0.3975073 & 0.05676404 & 0.03925834 & 0.3713649 & 0.06190737 & 0.1624733 & 0.03452541\\\\\n",
       "\tgrid\\_5 & 0.06172840 & 0.1892475 & 0.4291735 & 0.05645753 & 0.03969833 & 0.3910362 & 0.07110289 & 0.1731939 & 0.04002349\\\\\n",
       "\\end{tabular}\n"
      ],
      "text/markdown": [
       "\n",
       "A matrix: 8 × 9 of type dbl\n",
       "\n",
       "| <!--/--> | FsOrNot | MainStart | MainEnd | SencondStart | SencondEnd | Length | C | P | FBA |\n",
       "|---|---|---|---|---|---|---|---|---|---|\n",
       "| grid_05 | 0.08825231 | 0.3156956 | 0.4404479 | 0.11163793 | 0.07392241 | 0.5786762 | 0.12494611 | 0.1940091 | 0.29475797 |\n",
       "| grid_1 | 0.05304784 | 0.2102261 | 0.3625993 | 0.04306864 | 0.02836733 | 0.3652475 | 0.06243892 | 0.1472351 | 0.02222783 |\n",
       "| grid_15 | 0.03288966 | 0.1345368 | 0.2945048 | 0.04104023 | 0.02895165 | 0.2678767 | 0.04377659 | 0.1122534 | 0.02021273 |\n",
       "| grid_2 | 0.02662037 | 0.1179152 | 0.2599088 | 0.03910671 | 0.02728375 | 0.2291914 | 0.03717047 | 0.1044816 | 0.02042865 |\n",
       "| grid_25 | 0.00000000 | 0.0000000 | 0.0000000 | 0.00000000 | 0.00000000 | 0.0000000 | 0.00000000 | 0.0000000 | 0.00000000 |\n",
       "| grid_3 | 0.03182870 | 0.1411636 | 0.3136083 | 0.04522767 | 0.03188347 | 0.2865113 | 0.04608705 | 0.1303905 | 0.02731663 |\n",
       "| grid_4 | 0.04812886 | 0.1790455 | 0.3975073 | 0.05676404 | 0.03925834 | 0.3713649 | 0.06190737 | 0.1624733 | 0.03452541 |\n",
       "| grid_5 | 0.06172840 | 0.1892475 | 0.4291735 | 0.05645753 | 0.03969833 | 0.3910362 | 0.07110289 | 0.1731939 | 0.04002349 |\n",
       "\n"
      ],
      "text/plain": [
       "        FsOrNot    MainStart MainEnd   SencondStart SencondEnd Length   \n",
       "grid_05 0.08825231 0.3156956 0.4404479 0.11163793   0.07392241 0.5786762\n",
       "grid_1  0.05304784 0.2102261 0.3625993 0.04306864   0.02836733 0.3652475\n",
       "grid_15 0.03288966 0.1345368 0.2945048 0.04104023   0.02895165 0.2678767\n",
       "grid_2  0.02662037 0.1179152 0.2599088 0.03910671   0.02728375 0.2291914\n",
       "grid_25 0.00000000 0.0000000 0.0000000 0.00000000   0.00000000 0.0000000\n",
       "grid_3  0.03182870 0.1411636 0.3136083 0.04522767   0.03188347 0.2865113\n",
       "grid_4  0.04812886 0.1790455 0.3975073 0.05676404   0.03925834 0.3713649\n",
       "grid_5  0.06172840 0.1892475 0.4291735 0.05645753   0.03969833 0.3910362\n",
       "        C          P         FBA       \n",
       "grid_05 0.12494611 0.1940091 0.29475797\n",
       "grid_1  0.06243892 0.1472351 0.02222783\n",
       "grid_15 0.04377659 0.1122534 0.02021273\n",
       "grid_2  0.03717047 0.1044816 0.02042865\n",
       "grid_25 0.00000000 0.0000000 0.00000000\n",
       "grid_3  0.04608705 0.1303905 0.02731663\n",
       "grid_4  0.06190737 0.1624733 0.03452541\n",
       "grid_5  0.07110289 0.1731939 0.04002349"
      ]
     },
     "metadata": {},
     "output_type": "display_data"
    }
   ],
   "source": [
    "t(data.frame(lista_grids_MAES))"
   ]
  },
  {
   "cell_type": "code",
   "execution_count": 354,
   "id": "9607817c-847e-40a2-aca6-12cc9a2be20f",
   "metadata": {},
   "outputs": [
    {
     "name": "stdout",
     "output_type": "stream",
     "text": [
      "% latex table generated in R 3.6.3 by xtable 1.8-4 package\n",
      "% Sat Sep 16 14:41:25 2023\n",
      "\\begin{table}[ht]\n",
      "\\centering\n",
      "\\begin{tabular}{rrrrrrrrr}\n",
      "  \\hline\n",
      "FsOrNot & MainStart & MainEnd & SencondStart & SencondEnd & Length & C & P & FBA \\\\ \n",
      "  \\hline\n",
      "0.09 & 0.32 & 0.44 & 0.11 & 0.07 & 0.58 & 0.12 & 0.19 & 0.29 \\\\ \n",
      "  0.05 & 0.21 & 0.36 & 0.04 & 0.03 & 0.37 & 0.06 & 0.15 & 0.02 \\\\ \n",
      "  0.03 & 0.13 & 0.29 & 0.04 & 0.03 & 0.27 & 0.04 & 0.11 & 0.02 \\\\ \n",
      "  0.03 & 0.12 & 0.26 & 0.04 & 0.03 & 0.23 & 0.04 & 0.10 & 0.02 \\\\ \n",
      "  0.00 & 0.00 & 0.00 & 0.00 & 0.00 & 0.00 & 0.00 & 0.00 & 0.00 \\\\ \n",
      "  0.03 & 0.14 & 0.31 & 0.05 & 0.03 & 0.29 & 0.05 & 0.13 & 0.03 \\\\ \n",
      "  0.05 & 0.18 & 0.40 & 0.06 & 0.04 & 0.37 & 0.06 & 0.16 & 0.03 \\\\ \n",
      "  0.06 & 0.19 & 0.43 & 0.06 & 0.04 & 0.39 & 0.07 & 0.17 & 0.04 \\\\ \n",
      "   \\hline\n",
      "\\end{tabular}\n",
      "\\end{table}\n"
     ]
    }
   ],
   "source": [
    "library(xtable)\n",
    "table <- xtable(t(data.frame(lista_grids_MAES)))\n",
    "print(table, include.rownames = FALSE)"
   ]
  },
  {
   "cell_type": "markdown",
   "id": "9d596e90-d4bc-4db9-8b2c-d823371350eb",
   "metadata": {},
   "source": [
    "Con bilinear"
   ]
  },
  {
   "cell_type": "code",
   "execution_count": 344,
   "id": "410504c0-3bc5-40cd-af38-6113ba60889c",
   "metadata": {},
   "outputs": [],
   "source": [
    "lista_variables <- c('grid_05','grid_1','grid_15','grid_2','grid_25','grid_3', 'grid_4','grid_5')\n",
    "lista_df_interpoladas <- list()\n",
    "for (i in 1:length(archivos_raster)){\n",
    "    lista_interpoladas <- list()\n",
    "    for (j in seq(1,9)){\n",
    "        grid_raster <- raster(archivos_raster[i], band = j)  \n",
    "        #creamos un raster vacío a 2.5\n",
    "        grid_raster_2.5 <- raster(extent(grid_raster), res = 2.5)\n",
    "        #realizamos interpolación por vecinos cercanos (ngb)\n",
    "        raster_interp <- resample(grid_raster, grid_raster_2.5, method = \"bilinear\")\n",
    "        vector_raster_interp <- as.vector(raster_interp)\n",
    "        columna = paste0('layer_',j)\n",
    "        lista_interpoladas[[columna]] <- vector_raster_interp \n",
    "    }\n",
    "    coordenadas_interpolada <- coordinates(raster_interp)\n",
    "    df_interpoladas <- data.frame(lista_interpoladas)\n",
    "    df_interpoladas <- cbind(coordenadas_interpolada, df_interpoladas)\n",
    "    colnames(df_interpoladas) <- c('X','Y','FsOrNot','MainStart','MainEnd','SencondStart','SencondEnd','Length','C','P','FBA')\n",
    "    var_name = paste0('df_interpoladas_',lista_variables[i])\n",
    "    lista_df_interpoladas[[var_name]] <- df_interpoladas\n",
    "}"
   ]
  },
  {
   "cell_type": "code",
   "execution_count": 346,
   "id": "5f2e05cb-7aeb-46f1-b036-c15702117b2e",
   "metadata": {},
   "outputs": [],
   "source": [
    "vector_grids <- c('grid_05','grid_1','grid_15','grid_2','grid_25','grid_3', 'grid_4','grid_5')\n",
    "variablesComparar <- c('FsOrNot','MainStart','MainEnd','SencondStart','SencondEnd','Length','C','P','FBA')\n",
    "lista_grids_MAES <- list()\n",
    "for (i in 1:length(lista_df_interpoladas)){\n",
    "    grid <- vector_grids[i]\n",
    "    interpolada <- lista_df_interpoladas[[i]]\n",
    "    MAE_s <- c()\n",
    "    for (var in variablesComparar){\n",
    "        var_inter <- unlist(interpolada[var])\n",
    "        names(var_inter) <- NULL\n",
    "        var_grid_25_sinInterpolar <-unlist(lista_df_interpoladas$'df_interpoladas_grid_25'[var])\n",
    "        names(var_grid_25_sinInterpolar) <- NULL\n",
    "        diff_var <- c()\n",
    "        for (item in 1:length(var_inter)){\n",
    "            if (is.na(var_inter[item]) & is.na(var_grid_25_sinInterpolar[item])){\n",
    "                diff_var <- c(diff_var ,0)\n",
    "            }else{\n",
    "                diff_var <- c(diff_var, abs(var_inter[item] - var_grid_25_sinInterpolar[item]) )\n",
    "            }\n",
    "        }\n",
    "    diff_var <- na.omit(diff_var)    \n",
    "    MAE_var = mean(diff_var)\n",
    "    MAE_s <- c(MAE_s, MAE_var)\n",
    "    }\n",
    "    names(MAE_s) <- variablesComparar\n",
    "    lista_grids_MAES[[vector_grids[i]]] <- MAE_s\n",
    "}"
   ]
  },
  {
   "cell_type": "code",
   "execution_count": 347,
   "id": "10ae1bcc-9271-4335-b565-79b32aa321d8",
   "metadata": {},
   "outputs": [
    {
     "data": {
      "text/html": [
       "<table class=\"dataframe\">\n",
       "<caption>A matrix: 8 × 9 of type dbl</caption>\n",
       "<thead>\n",
       "\t<tr><th></th><th scope=col>FsOrNot</th><th scope=col>MainStart</th><th scope=col>MainEnd</th><th scope=col>SencondStart</th><th scope=col>SencondEnd</th><th scope=col>Length</th><th scope=col>C</th><th scope=col>P</th><th scope=col>FBA</th></tr>\n",
       "</thead>\n",
       "<tbody>\n",
       "\t<tr><th scope=row>grid_05</th><td>0.09111032</td><td>0.4266898</td><td>0.4609441</td><td>0.17109992</td><td>0.12693339</td><td>0.5702300</td><td>0.07349209</td><td>0.1615045</td><td>0.299206427</td></tr>\n",
       "\t<tr><th scope=row>grid_1</th><td>0.05365668</td><td>0.2339334</td><td>0.3705870</td><td>0.08236500</td><td>0.05539743</td><td>0.3801183</td><td>0.05327888</td><td>0.1317174</td><td>0.011157023</td></tr>\n",
       "\t<tr><th scope=row>grid_15</th><td>0.03680127</td><td>0.1702487</td><td>0.3340071</td><td>0.07689754</td><td>0.05477719</td><td>0.3036438</td><td>0.04154976</td><td>0.1119714</td><td>0.007999769</td></tr>\n",
       "\t<tr><th scope=row>grid_2</th><td>0.03251742</td><td>0.1640000</td><td>0.3228464</td><td>0.08242287</td><td>0.06060365</td><td>0.2778054</td><td>0.03722217</td><td>0.1082916</td><td>0.010575980</td></tr>\n",
       "\t<tr><th scope=row>grid_25</th><td>0.00000000</td><td>0.0000000</td><td>0.0000000</td><td>0.00000000</td><td>0.00000000</td><td>0.0000000</td><td>0.00000000</td><td>0.0000000</td><td>0.000000000</td></tr>\n",
       "\t<tr><th scope=row>grid_3</th><td>0.04201323</td><td>0.2012983</td><td>0.3876081</td><td>0.09580311</td><td>0.07239528</td><td>0.3347066</td><td>0.05007797</td><td>0.1315018</td><td>0.022683365</td></tr>\n",
       "\t<tr><th scope=row>grid_4</th><td>0.05798298</td><td>0.2312029</td><td>0.4679415</td><td>0.12115645</td><td>0.08787251</td><td>0.4188026</td><td>0.06603080</td><td>0.1623885</td><td>0.033004167</td></tr>\n",
       "\t<tr><th scope=row>grid_5</th><td>0.07767077</td><td>0.2534552</td><td>0.4915593</td><td>0.12443753</td><td>0.08922049</td><td>0.4585908</td><td>0.08245383</td><td>0.1782202</td><td>0.044799817</td></tr>\n",
       "</tbody>\n",
       "</table>\n"
      ],
      "text/latex": [
       "A matrix: 8 × 9 of type dbl\n",
       "\\begin{tabular}{r|lllllllll}\n",
       "  & FsOrNot & MainStart & MainEnd & SencondStart & SencondEnd & Length & C & P & FBA\\\\\n",
       "\\hline\n",
       "\tgrid\\_05 & 0.09111032 & 0.4266898 & 0.4609441 & 0.17109992 & 0.12693339 & 0.5702300 & 0.07349209 & 0.1615045 & 0.299206427\\\\\n",
       "\tgrid\\_1 & 0.05365668 & 0.2339334 & 0.3705870 & 0.08236500 & 0.05539743 & 0.3801183 & 0.05327888 & 0.1317174 & 0.011157023\\\\\n",
       "\tgrid\\_15 & 0.03680127 & 0.1702487 & 0.3340071 & 0.07689754 & 0.05477719 & 0.3036438 & 0.04154976 & 0.1119714 & 0.007999769\\\\\n",
       "\tgrid\\_2 & 0.03251742 & 0.1640000 & 0.3228464 & 0.08242287 & 0.06060365 & 0.2778054 & 0.03722217 & 0.1082916 & 0.010575980\\\\\n",
       "\tgrid\\_25 & 0.00000000 & 0.0000000 & 0.0000000 & 0.00000000 & 0.00000000 & 0.0000000 & 0.00000000 & 0.0000000 & 0.000000000\\\\\n",
       "\tgrid\\_3 & 0.04201323 & 0.2012983 & 0.3876081 & 0.09580311 & 0.07239528 & 0.3347066 & 0.05007797 & 0.1315018 & 0.022683365\\\\\n",
       "\tgrid\\_4 & 0.05798298 & 0.2312029 & 0.4679415 & 0.12115645 & 0.08787251 & 0.4188026 & 0.06603080 & 0.1623885 & 0.033004167\\\\\n",
       "\tgrid\\_5 & 0.07767077 & 0.2534552 & 0.4915593 & 0.12443753 & 0.08922049 & 0.4585908 & 0.08245383 & 0.1782202 & 0.044799817\\\\\n",
       "\\end{tabular}\n"
      ],
      "text/markdown": [
       "\n",
       "A matrix: 8 × 9 of type dbl\n",
       "\n",
       "| <!--/--> | FsOrNot | MainStart | MainEnd | SencondStart | SencondEnd | Length | C | P | FBA |\n",
       "|---|---|---|---|---|---|---|---|---|---|\n",
       "| grid_05 | 0.09111032 | 0.4266898 | 0.4609441 | 0.17109992 | 0.12693339 | 0.5702300 | 0.07349209 | 0.1615045 | 0.299206427 |\n",
       "| grid_1 | 0.05365668 | 0.2339334 | 0.3705870 | 0.08236500 | 0.05539743 | 0.3801183 | 0.05327888 | 0.1317174 | 0.011157023 |\n",
       "| grid_15 | 0.03680127 | 0.1702487 | 0.3340071 | 0.07689754 | 0.05477719 | 0.3036438 | 0.04154976 | 0.1119714 | 0.007999769 |\n",
       "| grid_2 | 0.03251742 | 0.1640000 | 0.3228464 | 0.08242287 | 0.06060365 | 0.2778054 | 0.03722217 | 0.1082916 | 0.010575980 |\n",
       "| grid_25 | 0.00000000 | 0.0000000 | 0.0000000 | 0.00000000 | 0.00000000 | 0.0000000 | 0.00000000 | 0.0000000 | 0.000000000 |\n",
       "| grid_3 | 0.04201323 | 0.2012983 | 0.3876081 | 0.09580311 | 0.07239528 | 0.3347066 | 0.05007797 | 0.1315018 | 0.022683365 |\n",
       "| grid_4 | 0.05798298 | 0.2312029 | 0.4679415 | 0.12115645 | 0.08787251 | 0.4188026 | 0.06603080 | 0.1623885 | 0.033004167 |\n",
       "| grid_5 | 0.07767077 | 0.2534552 | 0.4915593 | 0.12443753 | 0.08922049 | 0.4585908 | 0.08245383 | 0.1782202 | 0.044799817 |\n",
       "\n"
      ],
      "text/plain": [
       "        FsOrNot    MainStart MainEnd   SencondStart SencondEnd Length   \n",
       "grid_05 0.09111032 0.4266898 0.4609441 0.17109992   0.12693339 0.5702300\n",
       "grid_1  0.05365668 0.2339334 0.3705870 0.08236500   0.05539743 0.3801183\n",
       "grid_15 0.03680127 0.1702487 0.3340071 0.07689754   0.05477719 0.3036438\n",
       "grid_2  0.03251742 0.1640000 0.3228464 0.08242287   0.06060365 0.2778054\n",
       "grid_25 0.00000000 0.0000000 0.0000000 0.00000000   0.00000000 0.0000000\n",
       "grid_3  0.04201323 0.2012983 0.3876081 0.09580311   0.07239528 0.3347066\n",
       "grid_4  0.05798298 0.2312029 0.4679415 0.12115645   0.08787251 0.4188026\n",
       "grid_5  0.07767077 0.2534552 0.4915593 0.12443753   0.08922049 0.4585908\n",
       "        C          P         FBA        \n",
       "grid_05 0.07349209 0.1615045 0.299206427\n",
       "grid_1  0.05327888 0.1317174 0.011157023\n",
       "grid_15 0.04154976 0.1119714 0.007999769\n",
       "grid_2  0.03722217 0.1082916 0.010575980\n",
       "grid_25 0.00000000 0.0000000 0.000000000\n",
       "grid_3  0.05007797 0.1315018 0.022683365\n",
       "grid_4  0.06603080 0.1623885 0.033004167\n",
       "grid_5  0.08245383 0.1782202 0.044799817"
      ]
     },
     "metadata": {},
     "output_type": "display_data"
    }
   ],
   "source": [
    "t(data.frame(lista_grids_MAES))"
   ]
  },
  {
   "cell_type": "code",
   "execution_count": null,
   "id": "5d1ba8e3-50f4-4663-b1b2-954b53ea1214",
   "metadata": {},
   "outputs": [],
   "source": []
  },
  {
   "cell_type": "code",
   "execution_count": null,
   "id": "27a02c0d-e127-4c11-9419-8f2f08ec3815",
   "metadata": {
    "tags": []
   },
   "outputs": [],
   "source": []
  },
  {
   "cell_type": "code",
   "execution_count": null,
   "id": "da8115d6-d0f7-44ff-b7af-a2d7de1485ea",
   "metadata": {},
   "outputs": [],
   "source": []
  },
  {
   "cell_type": "code",
   "execution_count": null,
   "id": "c88524be-576b-499e-b55e-bc866e5891cf",
   "metadata": {},
   "outputs": [],
   "source": []
  },
  {
   "cell_type": "code",
   "execution_count": null,
   "id": "ee4d9c15-658f-4cd2-b2d9-ab7000735366",
   "metadata": {},
   "outputs": [],
   "source": [
    "df_grid_05_ordenado <- data.frame()\n",
    "for (row1 in 1:nrow(df.series_grid_05)){\n",
    "    for (row2 in 1:nrow(df_grid_05)){\n",
    "        seriesx = df.series_grid_05$coord_x[row1]\n",
    "        seriesy = df.series_grid_05$coord_y[row1]\n",
    "        gridx = df_grid_05$coord_x[row2]\n",
    "        gridy = df_grid_05$coord_y[row2]\n",
    "        if (seriesx == gridx & seriesy == gridy){\n",
    "            df_grid_05_ordenado <- rbind(df_grid_05_ordenado, df_grid_05[row2,])\n",
    "        }\n",
    "    }\n",
    "}"
   ]
  },
  {
   "cell_type": "code",
   "execution_count": 65,
   "id": "09c8da47-bc72-4ea4-8a17-50dd25cf6caa",
   "metadata": {},
   "outputs": [],
   "source": [
    "coords_grid_25 <- expand.grid(getCoordinates(grid_25)$x, getCoordinates(grid_25)$y)\n",
    "colnames(coords_grid_25) <- c('x','y')\n",
    "#coords_grid_25 <- list('x'=getCoordinates(grid_25)$x, 'y' = getCoordinates(grid_25)$y)"
   ]
  },
  {
   "cell_type": "code",
   "execution_count": 14,
   "id": "04279850-63a6-495c-8295-c5bec0c79f78",
   "metadata": {},
   "outputs": [],
   "source": [
    "grid_25 <- get(load('../1.Upscaling/upscaling_ba/ba_grid_25.Rdata'))\n",
    "grid_5 <- get(load('../1.Upscaling/upscaling_ba/ba_grid_5.Rdata'))\n",
    "grid_4 <- get(load('../1.Upscaling/upscaling_ba/ba_grid_4.Rdata'))\n",
    "grid_2 <- get(load('../1.Upscaling/upscaling_ba/ba_grid_2.Rdata'))\n",
    "grid_1 <- get(load('../1.Upscaling/upscaling_ba/ba_grid_1.Rdata'))"
   ]
  },
  {
   "cell_type": "code",
   "execution_count": 52,
   "id": "8a3e81fc-f893-41f8-a749-5e4a57a99114",
   "metadata": {},
   "outputs": [
    {
     "name": "stderr",
     "output_type": "stream",
     "text": [
      "[2023-09-15 13:37:06] - Computing climatology...\n",
      "\n",
      "[2023-09-15 13:37:06] - Done.\n",
      "\n"
     ]
    }
   ],
   "source": [
    "sgdf_5 <- clim2sgdf(climatology(grid_5))\n",
    "#sgdf_4 <- clim2sgdf(climatology(grid_4))"
   ]
  },
  {
   "cell_type": "code",
   "execution_count": 67,
   "id": "3b88b0dd-0a0f-4718-85f0-54bee2cf478a",
   "metadata": {},
   "outputs": [
    {
     "name": "stderr",
     "output_type": "stream",
     "text": [
      "[2023-09-15 13:44:58] Calculating nearest neighbors...\n",
      "\n",
      "[2023-09-15 13:51:01] Performing nearest interpolation... may take a while\n",
      "\n"
     ]
    },
    {
     "ename": "ERROR",
     "evalue": "Error in grid$Data[i, , ind.NN.y[k, l], ind.NN.x[k, l]]: incorrect number of dimensions\n",
     "output_type": "error",
     "traceback": [
      "Error in grid$Data[i, , ind.NN.y[k, l], ind.NN.x[k, l]]: incorrect number of dimensions\nTraceback:\n",
      "1. interpGrid(grid = redim(grid_5), new.coordinates = coords_grid_25)"
     ]
    }
   ],
   "source": [
    "grid_5_interp <-interpGrid(grid = redim(grid_5), new.coordinates =coords_grid_25)"
   ]
  },
  {
   "cell_type": "code",
   "execution_count": 32,
   "id": "380d1d43-83d8-441e-8a21-65cdaa6932e4",
   "metadata": {},
   "outputs": [
    {
     "name": "stderr",
     "output_type": "stream",
     "text": [
      "[2023-09-11 15:15:40] Calculating nearest neighbors...\n",
      "\n",
      "[2023-09-11 15:22:30] Performing nearest interpolation... may take a while\n",
      "\n"
     ]
    },
    {
     "ename": "ERROR",
     "evalue": "Error in grid$Data[i, , ind.NN.y[k, l], ind.NN.x[k, l]]: incorrect number of dimensions\n",
     "output_type": "error",
     "traceback": [
      "Error in grid$Data[i, , ind.NN.y[k, l], ind.NN.x[k, l]]: incorrect number of dimensions\nTraceback:\n",
      "1. interpGrid(grid = redim(grid_1), new.coordinates = coords_grid_25)"
     ]
    }
   ],
   "source": [
    "grid_1_interp <-interpGrid(grid = redim(grid_1), new.coordinates =coords_grid_25)"
   ]
  },
  {
   "cell_type": "code",
   "execution_count": null,
   "id": "53089a9f-cc98-4e18-845f-78822f54d46f",
   "metadata": {},
   "outputs": [],
   "source": [
    "grid_5_interp <-interpGrid(grid = grid_5, new.coordinates =coords_grid_25)"
   ]
  },
  {
   "cell_type": "code",
   "execution_count": 7,
   "id": "727a2ef5-cccd-4409-a6d6-c6a520f9ec06",
   "metadata": {},
   "outputs": [
    {
     "data": {
      "text/html": [
       "<style>\n",
       ".dl-inline {width: auto; margin:0; padding: 0}\n",
       ".dl-inline>dt, .dl-inline>dd {float: none; width: auto; display: inline-block}\n",
       ".dl-inline>dt::after {content: \":\\0020\"; padding-right: .5ex}\n",
       ".dl-inline>dt:not(:first-of-type) {padding-left: .5ex}\n",
       "</style><dl class=dl-inline><dt>var</dt><dd>1</dd><dt>member</dt><dd>1</dd><dt>time</dt><dd>256</dd><dt>lat</dt><dd>180</dd><dt>lon</dt><dd>360</dd></dl>\n"
      ],
      "text/latex": [
       "\\begin{description*}\n",
       "\\item[var] 1\n",
       "\\item[member] 1\n",
       "\\item[time] 256\n",
       "\\item[lat] 180\n",
       "\\item[lon] 360\n",
       "\\end{description*}\n"
      ],
      "text/markdown": [
       "var\n",
       ":   1member\n",
       ":   1time\n",
       ":   256lat\n",
       ":   180lon\n",
       ":   360\n",
       "\n"
      ],
      "text/plain": [
       "   var member   time    lat    lon \n",
       "     1      1    256    180    360 "
      ]
     },
     "metadata": {},
     "output_type": "display_data"
    }
   ],
   "source": [
    "getShape(grid_1)"
   ]
  },
  {
   "cell_type": "markdown",
   "id": "97f6e67d-e5e6-418a-a9ff-b62570146623",
   "metadata": {},
   "source": [
    "de raster --> spatialGridDataFrame\n",
    "transformeR::sgdf2clim \n",
    "spatialGridDf es un tipologia para usarlo con raster "
   ]
  }
 ],
 "metadata": {
  "kernelspec": {
   "display_name": "climate4R",
   "language": "R",
   "name": "climate4r"
  },
  "language_info": {
   "codemirror_mode": "r",
   "file_extension": ".r",
   "mimetype": "text/x-r-source",
   "name": "R",
   "pygments_lexer": "r",
   "version": "3.6.3"
  }
 },
 "nbformat": 4,
 "nbformat_minor": 5
}
