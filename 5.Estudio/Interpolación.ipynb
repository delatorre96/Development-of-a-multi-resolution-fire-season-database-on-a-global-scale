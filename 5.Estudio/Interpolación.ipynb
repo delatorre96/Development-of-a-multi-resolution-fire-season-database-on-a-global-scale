{
 "cells": [
  {
   "cell_type": "code",
   "execution_count": 8,
   "id": "8773ab73-543b-4b6b-87b7-7e9783e5a8b2",
   "metadata": {},
   "outputs": [
    {
     "name": "stdout",
     "output_type": "stream",
     "text": [
      "\n",
      "    _______   ____  ___________________  __  ________ \n",
      "   / ___/ /  / /  |/  / __  /_  __/ __/ / / / / __  / \n",
      "  / /  / /  / / /|_/ / /_/ / / / / __/ / /_/ / /_/_/  \n",
      " / /__/ /__/ / /  / / __  / / / / /__ /___  / / \\ \\ \n",
      " \\___/____/_/_/  /_/_/ /_/ /_/  \\___/    /_/\\/   \\_\\ \n",
      " \n",
      "      github.com/SantanderMetGroup/climate4R\n",
      "\n"
     ]
    },
    {
     "name": "stderr",
     "output_type": "stream",
     "text": [
      "transformeR version 2.1.3 (2021-08-04) is loaded\n",
      "\n",
      "WARNING: Your current version of transformeR (v2.1.3) is not up-to-date\n",
      "\n",
      "Get the latest stable version (2.1.5) using <devtools::install_github('SantanderMetGroup/transformeR')>\n",
      "\n",
      "Please see 'citation(\"transformeR\")' to cite this package.\n",
      "\n"
     ]
    }
   ],
   "source": [
    "library('transformeR')"
   ]
  },
  {
   "cell_type": "code",
   "execution_count": 9,
   "id": "904f3405-213e-4838-b5f7-24528d71da10",
   "metadata": {},
   "outputs": [
    {
     "data": {
      "text/html": [
       "<style>\n",
       ".list-inline {list-style: none; margin:0; padding: 0}\n",
       ".list-inline>li {display: inline-block}\n",
       ".list-inline>li:not(:last-child)::after {content: \"\\00b7\"; padding: 0 .5ex}\n",
       "</style>\n",
       "<ol class=list-inline><li>'../1.Upscaling/upscaling_ba/ba_grid_05.Rdata'</li><li>'../1.Upscaling/upscaling_ba/ba_grid_1.Rdata'</li><li>'../1.Upscaling/upscaling_ba/ba_grid_15.Rdata'</li><li>'../1.Upscaling/upscaling_ba/ba_grid_2.Rdata'</li><li>'../1.Upscaling/upscaling_ba/ba_grid_25.Rdata'</li><li>'../1.Upscaling/upscaling_ba/ba_grid_3.Rdata'</li><li>'../1.Upscaling/upscaling_ba/ba_grid_4.Rdata'</li><li>'../1.Upscaling/upscaling_ba/ba_grid_5.Rdata'</li></ol>\n"
      ],
      "text/latex": [
       "\\begin{enumerate*}\n",
       "\\item '../1.Upscaling/upscaling\\_ba/ba\\_grid\\_05.Rdata'\n",
       "\\item '../1.Upscaling/upscaling\\_ba/ba\\_grid\\_1.Rdata'\n",
       "\\item '../1.Upscaling/upscaling\\_ba/ba\\_grid\\_15.Rdata'\n",
       "\\item '../1.Upscaling/upscaling\\_ba/ba\\_grid\\_2.Rdata'\n",
       "\\item '../1.Upscaling/upscaling\\_ba/ba\\_grid\\_25.Rdata'\n",
       "\\item '../1.Upscaling/upscaling\\_ba/ba\\_grid\\_3.Rdata'\n",
       "\\item '../1.Upscaling/upscaling\\_ba/ba\\_grid\\_4.Rdata'\n",
       "\\item '../1.Upscaling/upscaling\\_ba/ba\\_grid\\_5.Rdata'\n",
       "\\end{enumerate*}\n"
      ],
      "text/markdown": [
       "1. '../1.Upscaling/upscaling_ba/ba_grid_05.Rdata'\n",
       "2. '../1.Upscaling/upscaling_ba/ba_grid_1.Rdata'\n",
       "3. '../1.Upscaling/upscaling_ba/ba_grid_15.Rdata'\n",
       "4. '../1.Upscaling/upscaling_ba/ba_grid_2.Rdata'\n",
       "5. '../1.Upscaling/upscaling_ba/ba_grid_25.Rdata'\n",
       "6. '../1.Upscaling/upscaling_ba/ba_grid_3.Rdata'\n",
       "7. '../1.Upscaling/upscaling_ba/ba_grid_4.Rdata'\n",
       "8. '../1.Upscaling/upscaling_ba/ba_grid_5.Rdata'\n",
       "\n",
       "\n"
      ],
      "text/plain": [
       "[1] \"../1.Upscaling/upscaling_ba/ba_grid_05.Rdata\"\n",
       "[2] \"../1.Upscaling/upscaling_ba/ba_grid_1.Rdata\" \n",
       "[3] \"../1.Upscaling/upscaling_ba/ba_grid_15.Rdata\"\n",
       "[4] \"../1.Upscaling/upscaling_ba/ba_grid_2.Rdata\" \n",
       "[5] \"../1.Upscaling/upscaling_ba/ba_grid_25.Rdata\"\n",
       "[6] \"../1.Upscaling/upscaling_ba/ba_grid_3.Rdata\" \n",
       "[7] \"../1.Upscaling/upscaling_ba/ba_grid_4.Rdata\" \n",
       "[8] \"../1.Upscaling/upscaling_ba/ba_grid_5.Rdata\" "
      ]
     },
     "metadata": {},
     "output_type": "display_data"
    }
   ],
   "source": [
    "archivosdf <- list.files(path = '../3.Datos generados/dataframes', pattern = \"^df_grid_\", full.names = TRUE)\n",
    "archivos_grid <- list.files(path = '../1.Upscaling/upscaling_ba', full.names = TRUE)\n",
    "archivos_grid"
   ]
  },
  {
   "cell_type": "code",
   "execution_count": 25,
   "id": "04279850-63a6-495c-8295-c5bec0c79f78",
   "metadata": {},
   "outputs": [],
   "source": [
    "grid_25 <- get(load('../1.Upscaling/upscaling_ba/ba_grid_25.Rdata'))\n",
    "grid_5 <- get(load('../1.Upscaling/upscaling_ba/ba_grid_5.Rdata'))\n",
    "grid_4 <- get(load('../1.Upscaling/upscaling_ba/ba_grid_4.Rdata'))\n",
    "grid_2 <- get(load('../1.Upscaling/upscaling_ba/ba_grid_2.Rdata'))\n",
    "grid_1 <- get(load('../1.Upscaling/upscaling_ba/ba_grid_1.Rdata'))"
   ]
  },
  {
   "cell_type": "code",
   "execution_count": 26,
   "id": "e2f4c366-3a21-4a82-b4bf-0a0288973989",
   "metadata": {},
   "outputs": [],
   "source": [
    "coords_grid_25 <- expand.grid(getCoordinates(grid_25)$x, getCoordinates(grid_25)$y)\n",
    "colnames(coords_grid_25) <- c('x','y')"
   ]
  },
  {
   "cell_type": "code",
   "execution_count": 28,
   "id": "380d1d43-83d8-441e-8a21-65cdaa6932e4",
   "metadata": {},
   "outputs": [
    {
     "name": "stderr",
     "output_type": "stream",
     "text": [
      "[2023-09-09 15:26:43] Calculating nearest neighbors...\n",
      "\n",
      "[2023-09-09 15:33:20] Performing nearest interpolation... may take a while\n",
      "\n"
     ]
    },
    {
     "ename": "ERROR",
     "evalue": "Error in grid$Data[i, , ind.NN.y[k, l], ind.NN.x[k, l]]: incorrect number of dimensions\n",
     "output_type": "error",
     "traceback": [
      "Error in grid$Data[i, , ind.NN.y[k, l], ind.NN.x[k, l]]: incorrect number of dimensions\nTraceback:\n",
      "1. interpGrid(grid = grid_1, new.coordinates = coords_grid_25)"
     ]
    }
   ],
   "source": [
    "grid_1_interp <-interpGrid(grid = grid_1, new.coordinates =coords_grid_25)"
   ]
  },
  {
   "cell_type": "code",
   "execution_count": null,
   "id": "53089a9f-cc98-4e18-845f-78822f54d46f",
   "metadata": {},
   "outputs": [],
   "source": [
    "grid_5_interp <-interpGrid(grid = grid_5, new.coordinates =coords_grid_25)"
   ]
  },
  {
   "cell_type": "code",
   "execution_count": null,
   "id": "727a2ef5-cccd-4409-a6d6-c6a520f9ec06",
   "metadata": {},
   "outputs": [],
   "source": []
  },
  {
   "cell_type": "code",
   "execution_count": null,
   "id": "7ddb9562-6262-464f-a079-f516de14a526",
   "metadata": {},
   "outputs": [],
   "source": []
  }
 ],
 "metadata": {
  "kernelspec": {
   "display_name": "climate4R",
   "language": "R",
   "name": "climate4r"
  },
  "language_info": {
   "codemirror_mode": "r",
   "file_extension": ".r",
   "mimetype": "text/x-r-source",
   "name": "R",
   "pygments_lexer": "r",
   "version": "3.6.3"
  }
 },
 "nbformat": 4,
 "nbformat_minor": 5
}
