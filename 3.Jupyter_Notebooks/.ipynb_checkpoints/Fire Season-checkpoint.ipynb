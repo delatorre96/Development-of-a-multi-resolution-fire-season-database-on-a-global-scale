{
 "cells": [
  {
   "cell_type": "code",
   "execution_count": 1,
   "id": "e83d6eab-2e65-4faa-99b1-941adcdcd2ca",
   "metadata": {},
   "outputs": [
    {
     "name": "stdout",
     "output_type": "stream",
     "text": [
      "Loading objects:\n",
      "  ba.mergeGrid5\n"
     ]
    }
   ],
   "source": [
    "load(\"../1.Upscaling/upscaling_ba/ba_grid_5.Rdata\", verbose = TRUE)"
   ]
  },
  {
   "cell_type": "code",
   "execution_count": 2,
   "id": "12319c47-9042-4678-a46b-ba09475ee205",
   "metadata": {},
   "outputs": [
    {
     "name": "stdout",
     "output_type": "stream",
     "text": [
      "\n",
      "    _______   ____  ___________________  __  ________ \n",
      "   / ___/ /  / /  |/  / __  /_  __/ __/ / / / / __  / \n",
      "  / /  / /  / / /|_/ / /_/ / / / / __/ / /_/ / /_/_/  \n",
      " / /__/ /__/ / /  / / __  / / / / /__ /___  / / \\ \\ \n",
      " \\___/____/_/_/  /_/_/ /_/ /_/  \\___/    /_/\\/   \\_\\ \n",
      " \n",
      "      github.com/SantanderMetGroup/climate4R\n",
      "\n"
     ]
    },
    {
     "name": "stderr",
     "output_type": "stream",
     "text": [
      "transformeR version 2.1.3 (2021-08-04) is loaded\n",
      "\n",
      "WARNING: Your current version of transformeR (v2.1.3) is not up-to-date\n",
      "\n",
      "Get the latest stable version (2.1.5) using <devtools::install_github('SantanderMetGroup/transformeR')>\n",
      "\n",
      "Please see 'citation(\"transformeR\")' to cite this package.\n",
      "\n",
      "Warning message:\n",
      "“no DISPLAY variable so Tk is not available”\n",
      "visualizeR version 1.6.1 (2021-03-11) is loaded\n",
      "\n",
      "WARNING: Your current version of visualizeR (v1.6.1) is not up-to-date\n",
      "\n",
      "Get the latest stable version (1.6.3) using <devtools::install_github('SantanderMetGroup/visualizeR')>\n",
      "\n",
      "Please see 'citation(\"visualizeR\")' to cite this package.\n",
      "\n"
     ]
    }
   ],
   "source": [
    "source(\"../2.Fire_Seasson/Funciones.r\")"
   ]
  },
  {
   "cell_type": "code",
   "execution_count": 3,
   "id": "2274a998-fdfe-4b10-a8c2-e22e495008ab",
   "metadata": {},
   "outputs": [],
   "source": [
    "grid = ba.mergeGrid5"
   ]
  },
  {
   "cell_type": "code",
   "execution_count": 4,
   "id": "4c3e8a0c-0d6e-4768-b904-f09b3b01d25f",
   "metadata": {},
   "outputs": [
    {
     "data": {
      "text/html": [
       "2592"
      ],
      "text/latex": [
       "2592"
      ],
      "text/markdown": [
       "2592"
      ],
      "text/plain": [
       "[1] 2592"
      ]
     },
     "metadata": {},
     "output_type": "display_data"
    }
   ],
   "source": [
    "##Hacemos la media de todos los eneros, de todos los febreros,... de todos los meses para cada gridBox:\n",
    "df.seriesTemporales <- func.ToDataFrame(grid = grid, coordX = grid$xyCoords$x, coordY = grid$xyCoords$y, func = mean)\n",
    "\n",
    "\n",
    "## incluimos las coordenadas en el data frame de series temporales pero creando otro objeto. Esto lo hago para evitar problemas de programación cuando calcule la fire seasson\n",
    "coordenadas = getCoordsFromDataFrame(df.seriesTemporales)\n",
    "coord_x = coordenadas$x\n",
    "coord_y = coordenadas$y\n",
    "df.seriesTemporales_conCoords <- as.data.frame(cbind(coord_x, coord_y, df.seriesTemporales))\n",
    "\n",
    "#####Calculamos la Fire SEasson usando las series temporales (las medias de cada mes)\n",
    "df.fireSeasson <- t(data.frame(t(apply(df.seriesTemporales, 1, func.fireSeasson))))\n",
    "\n",
    "##Calculamos las bimodales y lo incluimos en el data frame de la fire seasson\n",
    "bimodales <- data.frame(apply(df.fireSeasson, 1, isBimodal))\n",
    "df.fireSeasson <- cbind(df.fireSeasson,bimodales)\n",
    "\n",
    "##Calculamos la Seassonal Concentration y el Seassonal Timing y los incluimos en el data frame de la fire seasson\n",
    "vector_c <- c()\n",
    "vector_p <- c()\n",
    "for (i in 1:nrow(df.seriesTemporales)){\n",
    "    carFS <- func.caracterizacion_fireSeason(df.seriesTemporales[i,])\n",
    "    if (carFS[1] != \"NofireSeasson\"){\n",
    "        C = carFS$C\n",
    "        P = carFS$P\n",
    "        vector_c <- c(vector_c, C)\n",
    "        vector_p <- c(vector_p, P)\n",
    "    }else{\n",
    "        vector_c <- c(vector_c, 0)\n",
    "        vector_p <- c(vector_p, 0)  \n",
    "    }\n",
    "}\n",
    "\n",
    "df.fireSeasson <- cbind(df.fireSeasson,vector_c)\n",
    "df.fireSeasson <- cbind(df.fireSeasson,vector_p)\n",
    "\n",
    "#Cambiamos los nombres para indexar mejor\n",
    "colnames(df.fireSeasson) <- c('FireSeasson','Bimodal','SeassonalConcentration','SeassonalTiming')\n",
    "\n",
    "##Incluimos las coordenadas en el data frame de la fire seasson\n",
    "\n",
    "df.fireSeasson <- cbind(coord_x, coord_y, df.fireSeasson)\n",
    "rownames(df.fireSeasson) <- NULL\n",
    "\n",
    "nrow(df.fireSeasson)"
   ]
  },
  {
   "cell_type": "markdown",
   "id": "8be24861-0d10-4efe-8a68-456a13ee0169",
   "metadata": {
    "tags": []
   },
   "source": [
    "### Fire Season"
   ]
  },
  {
   "cell_type": "code",
   "execution_count": 5,
   "id": "e9d37dbc-6b8e-45bd-8a32-9b3cd750ef17",
   "metadata": {},
   "outputs": [
    {
     "name": "stdout",
     "output_type": "stream",
     "text": [
      "Total de gridBoxes =  2592 \n",
      "Gridboxes sin fire seasson =  804 ( 31.01852 %) \n",
      "Gridboxes con fire seasson =  1788 ( 68.98148 %)"
     ]
    }
   ],
   "source": [
    "conFireSeasson = nrow(df.fireSeasson[df.fireSeasson$'FireSeasson' != 'NofireSeasson', ])\n",
    "sinFireSeasson = nrow(df.fireSeasson[df.fireSeasson$'FireSeasson' == 'NofireSeasson', ])\n",
    "\n",
    "cat('Total de gridBoxes = ',nrow(df.fireSeasson),\n",
    "'\\nGridboxes sin fire seasson = ',conFireSeasson, '(',conFireSeasson/nrow(df.fireSeasson)*100,'%)',\n",
    "'\\nGridboxes con fire seasson = ',sinFireSeasson, '(',sinFireSeasson/nrow(df.fireSeasson)*100,'%)')"
   ]
  },
  {
   "cell_type": "markdown",
   "id": "48ffc650-b3ea-49d7-8f6c-3a6c83c8b444",
   "metadata": {},
   "source": [
    "Podemos mostrar, a modo de ejemplo, los gridBoxes que  sí que tienen Fire Seasson"
   ]
  },
  {
   "cell_type": "code",
   "execution_count": 6,
   "id": "9bb4b57d-0a61-44f0-9f62-d5ec3c123391",
   "metadata": {},
   "outputs": [
    {
     "data": {
      "text/html": [
       "<table class=\"dataframe\">\n",
       "<caption>A data.frame: 10 × 6</caption>\n",
       "<thead>\n",
       "\t<tr><th></th><th scope=col>coord_x</th><th scope=col>coord_y</th><th scope=col>FireSeasson</th><th scope=col>Bimodal</th><th scope=col>SeassonalConcentration</th><th scope=col>SeassonalTiming</th></tr>\n",
       "\t<tr><th></th><th scope=col>&lt;dbl&gt;</th><th scope=col>&lt;dbl&gt;</th><th scope=col>&lt;named list&gt;</th><th scope=col>&lt;lgl&gt;</th><th scope=col>&lt;dbl&gt;</th><th scope=col>&lt;dbl&gt;</th></tr>\n",
       "</thead>\n",
       "<tbody>\n",
       "\t<tr><th scope=row>32</th><td>-177.5</td><td>67.5</td><td>6, 7</td><td>FALSE</td><td>0.9573664</td><td> 1.4244402</td></tr>\n",
       "\t<tr><th scope=row>67</th><td>-172.5</td><td>62.5</td><td>6</td><td>FALSE</td><td>1.0000000</td><td>-1.0471976</td></tr>\n",
       "\t<tr><th scope=row>68</th><td>-172.5</td><td>67.5</td><td>6, 7</td><td>FALSE</td><td>0.9590392</td><td>-1.1315132</td></tr>\n",
       "\t<tr><th scope=row>101</th><td>-167.5</td><td>52.5</td><td>5</td><td>FALSE</td><td>1.0000000</td><td>-0.5235988</td></tr>\n",
       "\t<tr><th scope=row>103</th><td>-167.5</td><td>62.5</td><td>5</td><td>FALSE</td><td>0.9711081</td><td>-0.6820426</td></tr>\n",
       "\t<tr><th scope=row>104</th><td>-167.5</td><td>67.5</td><td>5</td><td>FALSE</td><td>0.9998596</td><td>-1.0466728</td></tr>\n",
       "\t<tr><th scope=row>138</th><td>-162.5</td><td>57.5</td><td>5</td><td>FALSE</td><td>0.9463044</td><td>-1.0376640</td></tr>\n",
       "\t<tr><th scope=row>139</th><td>-162.5</td><td>62.5</td><td>4, 5, 6</td><td>FALSE</td><td>0.8931201</td><td>-1.2417445</td></tr>\n",
       "\t<tr><th scope=row>140</th><td>-162.5</td><td>67.5</td><td>5, 6</td><td>FALSE</td><td>0.9297090</td><td>-1.3535124</td></tr>\n",
       "\t<tr><th scope=row>166</th><td>-157.5</td><td>17.5</td><td>1, 2, 3, 4, 5, 6, 7</td><td>FALSE</td><td>0.5838276</td><td> 1.1391545</td></tr>\n",
       "</tbody>\n",
       "</table>\n"
      ],
      "text/latex": [
       "A data.frame: 10 × 6\n",
       "\\begin{tabular}{r|llllll}\n",
       "  & coord\\_x & coord\\_y & FireSeasson & Bimodal & SeassonalConcentration & SeassonalTiming\\\\\n",
       "  & <dbl> & <dbl> & <named list> & <lgl> & <dbl> & <dbl>\\\\\n",
       "\\hline\n",
       "\t32 & -177.5 & 67.5 & 6, 7 & FALSE & 0.9573664 &  1.4244402\\\\\n",
       "\t67 & -172.5 & 62.5 & 6 & FALSE & 1.0000000 & -1.0471976\\\\\n",
       "\t68 & -172.5 & 67.5 & 6, 7 & FALSE & 0.9590392 & -1.1315132\\\\\n",
       "\t101 & -167.5 & 52.5 & 5 & FALSE & 1.0000000 & -0.5235988\\\\\n",
       "\t103 & -167.5 & 62.5 & 5 & FALSE & 0.9711081 & -0.6820426\\\\\n",
       "\t104 & -167.5 & 67.5 & 5 & FALSE & 0.9998596 & -1.0466728\\\\\n",
       "\t138 & -162.5 & 57.5 & 5 & FALSE & 0.9463044 & -1.0376640\\\\\n",
       "\t139 & -162.5 & 62.5 & 4, 5, 6 & FALSE & 0.8931201 & -1.2417445\\\\\n",
       "\t140 & -162.5 & 67.5 & 5, 6 & FALSE & 0.9297090 & -1.3535124\\\\\n",
       "\t166 & -157.5 & 17.5 & 1, 2, 3, 4, 5, 6, 7 & FALSE & 0.5838276 &  1.1391545\\\\\n",
       "\\end{tabular}\n"
      ],
      "text/markdown": [
       "\n",
       "A data.frame: 10 × 6\n",
       "\n",
       "| <!--/--> | coord_x &lt;dbl&gt; | coord_y &lt;dbl&gt; | FireSeasson &lt;named list&gt; | Bimodal &lt;lgl&gt; | SeassonalConcentration &lt;dbl&gt; | SeassonalTiming &lt;dbl&gt; |\n",
       "|---|---|---|---|---|---|---|\n",
       "| 32 | -177.5 | 67.5 | 6, 7 | FALSE | 0.9573664 |  1.4244402 |\n",
       "| 67 | -172.5 | 62.5 | 6 | FALSE | 1.0000000 | -1.0471976 |\n",
       "| 68 | -172.5 | 67.5 | 6, 7 | FALSE | 0.9590392 | -1.1315132 |\n",
       "| 101 | -167.5 | 52.5 | 5 | FALSE | 1.0000000 | -0.5235988 |\n",
       "| 103 | -167.5 | 62.5 | 5 | FALSE | 0.9711081 | -0.6820426 |\n",
       "| 104 | -167.5 | 67.5 | 5 | FALSE | 0.9998596 | -1.0466728 |\n",
       "| 138 | -162.5 | 57.5 | 5 | FALSE | 0.9463044 | -1.0376640 |\n",
       "| 139 | -162.5 | 62.5 | 4, 5, 6 | FALSE | 0.8931201 | -1.2417445 |\n",
       "| 140 | -162.5 | 67.5 | 5, 6 | FALSE | 0.9297090 | -1.3535124 |\n",
       "| 166 | -157.5 | 17.5 | 1, 2, 3, 4, 5, 6, 7 | FALSE | 0.5838276 |  1.1391545 |\n",
       "\n"
      ],
      "text/plain": [
       "    coord_x coord_y FireSeasson         Bimodal SeassonalConcentration\n",
       "32  -177.5  67.5    6, 7                FALSE   0.9573664             \n",
       "67  -172.5  62.5    6                   FALSE   1.0000000             \n",
       "68  -172.5  67.5    6, 7                FALSE   0.9590392             \n",
       "101 -167.5  52.5    5                   FALSE   1.0000000             \n",
       "103 -167.5  62.5    5                   FALSE   0.9711081             \n",
       "104 -167.5  67.5    5                   FALSE   0.9998596             \n",
       "138 -162.5  57.5    5                   FALSE   0.9463044             \n",
       "139 -162.5  62.5    4, 5, 6             FALSE   0.8931201             \n",
       "140 -162.5  67.5    5, 6                FALSE   0.9297090             \n",
       "166 -157.5  17.5    1, 2, 3, 4, 5, 6, 7 FALSE   0.5838276             \n",
       "    SeassonalTiming\n",
       "32   1.4244402     \n",
       "67  -1.0471976     \n",
       "68  -1.1315132     \n",
       "101 -0.5235988     \n",
       "103 -0.6820426     \n",
       "104 -1.0466728     \n",
       "138 -1.0376640     \n",
       "139 -1.2417445     \n",
       "140 -1.3535124     \n",
       "166  1.1391545     "
      ]
     },
     "metadata": {},
     "output_type": "display_data"
    }
   ],
   "source": [
    "df.fireSeasson[df.fireSeasson$'FireSeasson' != 'NofireSeasson', ][1:10,]"
   ]
  },
  {
   "cell_type": "markdown",
   "id": "d97db557-3db3-4907-9d4c-e6ddd6ec3de5",
   "metadata": {
    "tags": []
   },
   "source": [
    "#### Bimodales"
   ]
  },
  {
   "cell_type": "code",
   "execution_count": 7,
   "id": "1e7a3093-ce25-489e-9d37-258963820f79",
   "metadata": {},
   "outputs": [
    {
     "name": "stdout",
     "output_type": "stream",
     "text": [
      "Cantidad de Unimodales =  2484 ( 95.83333 %) \n",
      "Cantidad de Bimodales 2484 ( 4.166667 %)"
     ]
    }
   ],
   "source": [
    "cant_unimodales = nrow(df.fireSeasson[df.fireSeasson$'Bimodal' == FALSE, ])\n",
    "cant_bimodales = nrow(df.fireSeasson[df.fireSeasson$'Bimodal' == TRUE, ])\n",
    "\n",
    "cat('Cantidad de Unimodales = ',cant_unimodales , '(',cant_unimodales/nrow(df.fireSeasson)*100,'%)',\n",
    "    '\\nCantidad de Bimodales',cant_unimodales , '(',cant_bimodales/nrow(df.fireSeasson)*100,'%)')"
   ]
  },
  {
   "cell_type": "code",
   "execution_count": 8,
   "id": "d3fdfa05-5f22-4445-b9e2-d126ee4de0cb",
   "metadata": {},
   "outputs": [
    {
     "data": {
      "text/html": [
       "<table class=\"dataframe\">\n",
       "<caption>A data.frame: 5 × 6</caption>\n",
       "<thead>\n",
       "\t<tr><th></th><th scope=col>coord_x</th><th scope=col>coord_y</th><th scope=col>FireSeasson</th><th scope=col>Bimodal</th><th scope=col>SeassonalConcentration</th><th scope=col>SeassonalTiming</th></tr>\n",
       "\t<tr><th></th><th scope=col>&lt;dbl&gt;</th><th scope=col>&lt;dbl&gt;</th><th scope=col>&lt;named list&gt;</th><th scope=col>&lt;lgl&gt;</th><th scope=col>&lt;dbl&gt;</th><th scope=col>&lt;dbl&gt;</th></tr>\n",
       "</thead>\n",
       "<tbody>\n",
       "\t<tr><th scope=row>318</th><td>-137.5</td><td>57.5</td><td>4, 5, 7</td><td>TRUE</td><td>0.6454944</td><td>-1.46422290</td></tr>\n",
       "\t<tr><th scope=row>388</th><td>-127.5</td><td>47.5</td><td>4, 6, 7, 8, 9, 10</td><td>TRUE</td><td>0.8228553</td><td> 0.04873804</td></tr>\n",
       "\t<tr><th scope=row>425</th><td>-122.5</td><td>52.5</td><td>1, 3, 4, 5, 6, 7</td><td>TRUE</td><td>0.8723380</td><td> 1.10437434</td></tr>\n",
       "\t<tr><th scope=row>606</th><td> -97.5</td><td>57.5</td><td>2, 5, 6, 7</td><td>TRUE</td><td>0.9278793</td><td> 1.52961254</td></tr>\n",
       "\t<tr><th scope=row>630</th><td> -92.5</td><td>-2.5</td><td>1, 2, 3, 4, 5, 6, 8, 9, 10</td><td>TRUE</td><td>0.1409138</td><td>-1.56805006</td></tr>\n",
       "</tbody>\n",
       "</table>\n"
      ],
      "text/latex": [
       "A data.frame: 5 × 6\n",
       "\\begin{tabular}{r|llllll}\n",
       "  & coord\\_x & coord\\_y & FireSeasson & Bimodal & SeassonalConcentration & SeassonalTiming\\\\\n",
       "  & <dbl> & <dbl> & <named list> & <lgl> & <dbl> & <dbl>\\\\\n",
       "\\hline\n",
       "\t318 & -137.5 & 57.5 & 4, 5, 7 & TRUE & 0.6454944 & -1.46422290\\\\\n",
       "\t388 & -127.5 & 47.5 & 4, 6, 7, 8, 9, 10 & TRUE & 0.8228553 &  0.04873804\\\\\n",
       "\t425 & -122.5 & 52.5 & 1, 3, 4, 5, 6, 7 & TRUE & 0.8723380 &  1.10437434\\\\\n",
       "\t606 &  -97.5 & 57.5 & 2, 5, 6, 7 & TRUE & 0.9278793 &  1.52961254\\\\\n",
       "\t630 &  -92.5 & -2.5 & 1, 2, 3, 4, 5, 6, 8, 9, 10 & TRUE & 0.1409138 & -1.56805006\\\\\n",
       "\\end{tabular}\n"
      ],
      "text/markdown": [
       "\n",
       "A data.frame: 5 × 6\n",
       "\n",
       "| <!--/--> | coord_x &lt;dbl&gt; | coord_y &lt;dbl&gt; | FireSeasson &lt;named list&gt; | Bimodal &lt;lgl&gt; | SeassonalConcentration &lt;dbl&gt; | SeassonalTiming &lt;dbl&gt; |\n",
       "|---|---|---|---|---|---|---|\n",
       "| 318 | -137.5 | 57.5 | 4, 5, 7 | TRUE | 0.6454944 | -1.46422290 |\n",
       "| 388 | -127.5 | 47.5 | 4, 6, 7, 8, 9, 10 | TRUE | 0.8228553 |  0.04873804 |\n",
       "| 425 | -122.5 | 52.5 | 1, 3, 4, 5, 6, 7 | TRUE | 0.8723380 |  1.10437434 |\n",
       "| 606 |  -97.5 | 57.5 | 2, 5, 6, 7 | TRUE | 0.9278793 |  1.52961254 |\n",
       "| 630 |  -92.5 | -2.5 | 1, 2, 3, 4, 5, 6, 8, 9, 10 | TRUE | 0.1409138 | -1.56805006 |\n",
       "\n"
      ],
      "text/plain": [
       "    coord_x coord_y FireSeasson                Bimodal SeassonalConcentration\n",
       "318 -137.5  57.5    4, 5, 7                    TRUE    0.6454944             \n",
       "388 -127.5  47.5    4, 6, 7, 8, 9, 10          TRUE    0.8228553             \n",
       "425 -122.5  52.5    1, 3, 4, 5, 6, 7           TRUE    0.8723380             \n",
       "606  -97.5  57.5    2, 5, 6, 7                 TRUE    0.9278793             \n",
       "630  -92.5  -2.5    1, 2, 3, 4, 5, 6, 8, 9, 10 TRUE    0.1409138             \n",
       "    SeassonalTiming\n",
       "318 -1.46422290    \n",
       "388  0.04873804    \n",
       "425  1.10437434    \n",
       "606  1.52961254    \n",
       "630 -1.56805006    "
      ]
     },
     "metadata": {},
     "output_type": "display_data"
    }
   ],
   "source": [
    "df.fireSeasson[df.fireSeasson$'Bimodal' == TRUE, ][1:5,]"
   ]
  },
  {
   "cell_type": "markdown",
   "id": "9551a149-1995-4440-b812-87ab10e23487",
   "metadata": {},
   "source": [
    "Ejemplo de Bimodal"
   ]
  },
  {
   "cell_type": "code",
   "execution_count": 9,
   "id": "f9a617f8-7317-40df-88e6-a96814b2c74b",
   "metadata": {},
   "outputs": [],
   "source": [
    "##escogemos la x de una bimodal\n",
    "x  <- df.fireSeasson[df.fireSeasson$'Bimodal' == TRUE, ][1,]$'coord_x'\n",
    "##escogemos la y de la misma bimodal\n",
    "y  <- df.fireSeasson[df.fireSeasson$'Bimodal' == TRUE, ][1,]$'coord_y'"
   ]
  },
  {
   "cell_type": "code",
   "execution_count": 10,
   "id": "32e85727-930c-40fc-8810-28e7c1682388",
   "metadata": {},
   "outputs": [
    {
     "data": {
      "text/html": [
       "<style>\n",
       ".dl-inline {width: auto; margin:0; padding: 0}\n",
       ".dl-inline>dt, .dl-inline>dd {float: none; width: auto; display: inline-block}\n",
       ".dl-inline>dt::after {content: \":\\0020\"; padding-right: .5ex}\n",
       ".dl-inline>dt:not(:first-of-type) {padding-left: .5ex}\n",
       "</style><dl class=dl-inline><dt>1</dt><dd>0</dd><dt>2</dt><dd>0</dd><dt>3</dt><dd>0</dd><dt>4</dt><dd>2.19537272727273</dd><dt>5</dt><dd>1.53327619047619</dd><dt>6</dt><dd>0</dd><dt>7</dt><dd>1.02218095238095</dd><dt>8</dt><dd>5.62200952380952</dd><dt>9</dt><dd>0</dd><dt>10</dt><dd>0</dd><dt>11</dt><dd>0</dd><dt>12</dt><dd>0</dd></dl>\n"
      ],
      "text/latex": [
       "\\begin{description*}\n",
       "\\item[1] 0\n",
       "\\item[2] 0\n",
       "\\item[3] 0\n",
       "\\item[4] 2.19537272727273\n",
       "\\item[5] 1.53327619047619\n",
       "\\item[6] 0\n",
       "\\item[7] 1.02218095238095\n",
       "\\item[8] 5.62200952380952\n",
       "\\item[9] 0\n",
       "\\item[10] 0\n",
       "\\item[11] 0\n",
       "\\item[12] 0\n",
       "\\end{description*}\n"
      ],
      "text/markdown": [
       "1\n",
       ":   02\n",
       ":   03\n",
       ":   04\n",
       ":   2.195372727272735\n",
       ":   1.533276190476196\n",
       ":   07\n",
       ":   1.022180952380958\n",
       ":   5.622009523809529\n",
       ":   010\n",
       ":   011\n",
       ":   012\n",
       ":   0\n",
       "\n"
      ],
      "text/plain": [
       "       1        2        3        4        5        6        7        8 \n",
       "0.000000 0.000000 0.000000 2.195373 1.533276 0.000000 1.022181 5.622010 \n",
       "       9       10       11       12 \n",
       "0.000000 0.000000 0.000000 0.000000 "
      ]
     },
     "metadata": {},
     "output_type": "display_data"
    },
    {
     "data": {
      "image/png": "[encoded data removed]",
      "text/plain": [
       "Plot with title “Ejemplo de Fire season bimodal”"
      ]
     },
     "metadata": {
      "image/png": {
       "height": 420,
       "width": 420
      }
     },
     "output_type": "display_data"
    }
   ],
   "source": [
    "ejemplo_bimodal <- df.seriesTemporales_conCoords[df.seriesTemporales_conCoords$'coord_x' == x & df.seriesTemporales_conCoords$'coord_y' == y ,]\n",
    "ejemplo_bimodal <- unlist((ejemplo_bimodal[,3:14]))\n",
    "ejemplo_bimodal\n",
    "plot(ejemplo_bimodal,type ='l', main= 'Ejemplo de Fire season bimodal')"
   ]
  },
  {
   "cell_type": "markdown",
   "id": "99db336f-6675-4604-95a8-791e1a166f7a",
   "metadata": {},
   "source": [
    "### Caracterización global de la fire season"
   ]
  },
  {
   "cell_type": "code",
   "execution_count": 11,
   "id": "04d67971-102e-4851-8783-dc83eb3d0126",
   "metadata": {},
   "outputs": [
    {
     "name": "stdout",
     "output_type": "stream",
     "text": [
      "Cantidad de serires con concentración estacionaria baja (menor que 0) =  1895 ( 73.10957 %) \n",
      "Cantidad de serires con concentración estacionaria alta (mayor que 0) =  697 ( 26.89043 %)"
     ]
    }
   ],
   "source": [
    "SeassonalConcentration_low <- df.fireSeasson[df.fireSeasson$'SeassonalConcentration' <0.5, ]\n",
    "SeassonalConcentration_high <- df.fireSeasson[df.fireSeasson$'SeassonalConcentration' >0.5, ]\n",
    "\n",
    "cat('Cantidad de serires con concentración estacionaria baja (menor que 0) = ',nrow(SeassonalConcentration_low) , '(',nrow(SeassonalConcentration_low)/nrow(df.fireSeasson)*100,'%)',\n",
    "    '\\nCantidad de serires con concentración estacionaria alta (mayor que 0) = ',nrow(SeassonalConcentration_high) , '(',nrow(SeassonalConcentration_high)/nrow(df.fireSeasson)*100,'%)')"
   ]
  },
  {
   "cell_type": "markdown",
   "id": "5cf1ede3-23af-4b95-98df-de89db2fdfa1",
   "metadata": {},
   "source": [
    "Ejemplo de Seassonal concentration high"
   ]
  },
  {
   "cell_type": "code",
   "execution_count": 25,
   "id": "9e9d2883-f048-4e9f-a850-3429c58856c8",
   "metadata": {},
   "outputs": [],
   "source": [
    "##escogemos la x de una bimodal\n",
    "x  <- SeassonalConcentration_high$'coord_x'[1]\n",
    "##escogemos la y de la misma bimodal\n",
    "y  <- SeassonalConcentration_high$'coord_y'[1]"
   ]
  },
  {
   "cell_type": "code",
   "execution_count": 26,
   "id": "33a67fca-5858-44a2-a1b7-41788e6c3c88",
   "metadata": {},
   "outputs": [
    {
     "data": {
      "text/html": [
       "<style>\n",
       ".dl-inline {width: auto; margin:0; padding: 0}\n",
       ".dl-inline>dt, .dl-inline>dd {float: none; width: auto; display: inline-block}\n",
       ".dl-inline>dt::after {content: \":\\0020\"; padding-right: .5ex}\n",
       ".dl-inline>dt:not(:first-of-type) {padding-left: .5ex}\n",
       "</style><dl class=dl-inline><dt>1</dt><dd>0</dd><dt>2</dt><dd>0</dd><dt>3</dt><dd>0</dd><dt>4</dt><dd>0</dd><dt>5</dt><dd>0</dd><dt>6</dt><dd>0.255542857142857</dd><dt>7</dt><dd>70.2751333333333</dd><dt>8</dt><dd>17.3771190476191</dd><dt>9</dt><dd>5.11091904761905</dd><dt>10</dt><dd>0</dd><dt>11</dt><dd>0</dd><dt>12</dt><dd>0</dd></dl>\n"
      ],
      "text/latex": [
       "\\begin{description*}\n",
       "\\item[1] 0\n",
       "\\item[2] 0\n",
       "\\item[3] 0\n",
       "\\item[4] 0\n",
       "\\item[5] 0\n",
       "\\item[6] 0.255542857142857\n",
       "\\item[7] 70.2751333333333\n",
       "\\item[8] 17.3771190476191\n",
       "\\item[9] 5.11091904761905\n",
       "\\item[10] 0\n",
       "\\item[11] 0\n",
       "\\item[12] 0\n",
       "\\end{description*}\n"
      ],
      "text/markdown": [
       "1\n",
       ":   02\n",
       ":   03\n",
       ":   04\n",
       ":   05\n",
       ":   06\n",
       ":   0.2555428571428577\n",
       ":   70.27513333333338\n",
       ":   17.37711904761919\n",
       ":   5.1109190476190510\n",
       ":   011\n",
       ":   012\n",
       ":   0\n",
       "\n"
      ],
      "text/plain": [
       "         1          2          3          4          5          6          7 \n",
       " 0.0000000  0.0000000  0.0000000  0.0000000  0.0000000  0.2555429 70.2751333 \n",
       "         8          9         10         11         12 \n",
       "17.3771190  5.1109190  0.0000000  0.0000000  0.0000000 "
      ]
     },
     "metadata": {},
     "output_type": "display_data"
    },
    {
     "data": {
      "image/png": "[encoded data removed]",
      "text/plain": [
       "Plot with title “Ejemplo de concentración alta”"
      ]
     },
     "metadata": {
      "image/png": {
       "height": 420,
       "width": 420
      }
     },
     "output_type": "display_data"
    }
   ],
   "source": [
    "ejemplo_SCH <- df.seriesTemporales_conCoords[df.seriesTemporales_conCoords$'coord_x' == x & df.seriesTemporales_conCoords$'coord_y' == y ,]\n",
    "ejemplo_SCH <- unlist((ejemplo_SCH[,3:14]))\n",
    "ejemplo_SCH\n",
    "plot(ejemplo_SCH,type ='l', main= 'Ejemplo de concentración alta')"
   ]
  },
  {
   "cell_type": "markdown",
   "id": "1b62881b-3359-4b0b-946c-0f0b80a42d71",
   "metadata": {},
   "source": [
    "Ejemplo de Seassona concentration Low"
   ]
  },
  {
   "cell_type": "code",
   "execution_count": 27,
   "id": "1247d582-8517-40e6-8ff2-f9eb4e9aa339",
   "metadata": {},
   "outputs": [],
   "source": [
    "##escogemos la x de una bimodal\n",
    "x  <- SeassonalConcentration_low$'coord_x'[1]\n",
    "##escogemos la y de la misma bimodal\n",
    "y  <- SeassonalConcentration_low$'coord_y'[1]"
   ]
  },
  {
   "cell_type": "code",
   "execution_count": 29,
   "id": "17ea3323-9e7d-4b11-9484-1334dfcde624",
   "metadata": {},
   "outputs": [
    {
     "data": {
      "text/html": [
       "<style>\n",
       ".dl-inline {width: auto; margin:0; padding: 0}\n",
       ".dl-inline>dt, .dl-inline>dd {float: none; width: auto; display: inline-block}\n",
       ".dl-inline>dt::after {content: \":\\0020\"; padding-right: .5ex}\n",
       ".dl-inline>dt:not(:first-of-type) {padding-left: .5ex}\n",
       "</style><dl class=dl-inline><dt>1</dt><dd>0</dd><dt>2</dt><dd>0</dd><dt>3</dt><dd>0</dd><dt>4</dt><dd>0</dd><dt>5</dt><dd>0</dd><dt>6</dt><dd>0</dd><dt>7</dt><dd>0</dd><dt>8</dt><dd>0</dd><dt>9</dt><dd>0</dd><dt>10</dt><dd>0</dd><dt>11</dt><dd>0</dd><dt>12</dt><dd>0</dd></dl>\n"
      ],
      "text/latex": [
       "\\begin{description*}\n",
       "\\item[1] 0\n",
       "\\item[2] 0\n",
       "\\item[3] 0\n",
       "\\item[4] 0\n",
       "\\item[5] 0\n",
       "\\item[6] 0\n",
       "\\item[7] 0\n",
       "\\item[8] 0\n",
       "\\item[9] 0\n",
       "\\item[10] 0\n",
       "\\item[11] 0\n",
       "\\item[12] 0\n",
       "\\end{description*}\n"
      ],
      "text/markdown": [
       "1\n",
       ":   02\n",
       ":   03\n",
       ":   04\n",
       ":   05\n",
       ":   06\n",
       ":   07\n",
       ":   08\n",
       ":   09\n",
       ":   010\n",
       ":   011\n",
       ":   012\n",
       ":   0\n",
       "\n"
      ],
      "text/plain": [
       " 1  2  3  4  5  6  7  8  9 10 11 12 \n",
       " 0  0  0  0  0  0  0  0  0  0  0  0 "
      ]
     },
     "metadata": {},
     "output_type": "display_data"
    },
    {
     "data": {
      "image/png": "[encoded data removed]",
      "text/plain": [
       "Plot with title “Ejemplo de concentración baja”"
      ]
     },
     "metadata": {
      "image/png": {
       "height": 420,
       "width": 420
      }
     },
     "output_type": "display_data"
    }
   ],
   "source": [
    "ejemplo_SCL <- df.seriesTemporales_conCoords[df.seriesTemporales_conCoords$'coord_x' == x & df.seriesTemporales_conCoords$'coord_y' == y ,]\n",
    "ejemplo_SCL <- unlist((ejemplo_SCL[,3:14]))\n",
    "ejemplo_SCL\n",
    "plot(ejemplo_SCL,type ='l', main= 'Ejemplo de concentración baja')"
   ]
  },
  {
   "cell_type": "markdown",
   "id": "2bf09372-7e82-4356-999e-77c374a1dbcd",
   "metadata": {
    "tags": []
   },
   "source": [
    "## Visualizaciones"
   ]
  },
  {
   "cell_type": "code",
   "execution_count": 11,
   "id": "afc1a754-18f5-4322-adf0-31a3af9e698c",
   "metadata": {},
   "outputs": [
    {
     "data": {
      "image/png": "[encoded data removed]",
      "text/plain": [
       "plot without title"
      ]
     },
     "metadata": {
      "image/png": {
       "height": 420,
       "width": 420
      }
     },
     "output_type": "display_data"
    }
   ],
   "source": [
    "bimodalesOrNot_clim <- quantity2clim(quantity = df.fireSeasson$'Bimodal', what = 'bimodales', ref.grid = grid, backperm = NULL)\n",
    "spatialPlot(bimodalesOrNot_clim)"
   ]
  },
  {
   "cell_type": "code",
   "execution_count": 12,
   "id": "5ae9ecca-c78c-4cd0-903c-97a40410daf7",
   "metadata": {
    "tags": []
   },
   "outputs": [
    {
     "data": {
      "image/png": "[encoded data removed]",
      "text/plain": [
       "plot without title"
      ]
     },
     "metadata": {
      "image/png": {
       "height": 420,
       "width": 420
      }
     },
     "output_type": "display_data"
    }
   ],
   "source": [
    "SeassonalConcentration_viz <- quantity2clim(quantity = df.fireSeasson$'SeassonalConcentration', what = 'SeassonalConcentration', ref.grid = grid, backperm = NULL)\n",
    "spatialPlot(SeassonalConcentration_viz)"
   ]
  },
  {
   "cell_type": "code",
   "execution_count": 13,
   "id": "e31b867f-9ba1-45e4-a189-2f22d5c7c560",
   "metadata": {},
   "outputs": [
    {
     "data": {
      "image/png": "[encoded data removed]",
      "text/plain": [
       "plot without title"
      ]
     },
     "metadata": {
      "image/png": {
       "height": 420,
       "width": 420
      }
     },
     "output_type": "display_data"
    }
   ],
   "source": [
    "SeassonalConcentration_viz <- quantity2clim(quantity = df.fireSeasson$'SeassonalTiming', what = 'bimodales', ref.grid = grid, backperm = NULL)\n",
    "spatialPlot(SeassonalConcentration_viz)"
   ]
  },
  {
   "cell_type": "code",
   "execution_count": null,
   "id": "7c8cc991-bd43-4fcd-8232-75141567db9f",
   "metadata": {},
   "outputs": [],
   "source": []
  },
  {
   "cell_type": "code",
   "execution_count": null,
   "id": "95a121e6-8de4-41a3-aca8-aa43c00ef1e0",
   "metadata": {},
   "outputs": [],
   "source": [
    "##relacionar series temporales por FBA para normalizar y poder comparar las series temporales\n",
    "\n",
    "## Area quemada/(FBA * SuperficieDelPixel) => (Area Quemada)/(Area Quemable) para normalizar y comparar series temporales\n",
    "\n",
    "##Hecho esto podemos plotear si es bimodal o no, la concentración,...etc\n",
    "#Si tenemos todo con la misma escala vemos la relación entre dos gridbox que están en diferente spuntos de la tierra\n",
    "#Sabiendo qué gridbox es bidomal, podemos dibujar en un mapa cuáles son bimodales y cuáles no: en el mismo \n",
    "\n",
    "#También podemos dibujar en un mapa, as distintas concentraciones(C) y el timing (P) de cada gridboxes"
   ]
  },
  {
   "cell_type": "markdown",
   "id": "fbaa63e7-eecc-4316-8340-d5c42dbd3155",
   "metadata": {},
   "source": [
    "CONVERTIR DE COORDENADAS ESFERICAS A COORDENADAS CARTESIANAS"
   ]
  }
 ],
 "metadata": {
  "kernelspec": {
   "display_name": "climate4R",
   "language": "R",
   "name": "climate4r"
  },
  "language_info": {
   "codemirror_mode": "r",
   "file_extension": ".r",
   "mimetype": "text/x-r-source",
   "name": "R",
   "pygments_lexer": "r",
   "version": "3.6.3"
  }
 },
 "nbformat": 4,
 "nbformat_minor": 5
}
