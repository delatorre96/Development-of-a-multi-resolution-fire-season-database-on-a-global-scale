{
 "cells": [
  {
   "cell_type": "code",
   "execution_count": 194,
   "id": "8b7a1928-d7b4-44ee-bfc0-27ba5f609b34",
   "metadata": {},
   "outputs": [],
   "source": [
    "library('raster')"
   ]
  },
  {
   "cell_type": "code",
   "execution_count": 195,
   "id": "7cb7aba0-bc19-4344-8566-aa0c9b968456",
   "metadata": {},
   "outputs": [],
   "source": [
    "archivosdf <- list.files(path = '../TFM/3.Datos generados/dataframes', pattern = \"^df_grid_\", full.names = TRUE)"
   ]
  },
  {
   "cell_type": "code",
   "execution_count": null,
   "id": "97b6eae5-ff56-4e96-b237-6be4b5fe8029",
   "metadata": {},
   "outputs": [],
   "source": []
  },
  {
   "cell_type": "code",
   "execution_count": 191,
   "id": "fa8153e5-df8b-4275-925f-602046341b60",
   "metadata": {
    "tags": []
   },
   "outputs": [
    {
     "name": "stderr",
     "output_type": "stream",
     "text": [
      "Warning message in .gd_SetProject(object, ...):\n",
      "“NOT UPDATED FOR PROJ >= 6”\n",
      "Warning message in .gd_SetProject(object, ...):\n",
      "“NOT UPDATED FOR PROJ >= 6”\n",
      "Warning message in .gd_SetProject(object, ...):\n",
      "“NOT UPDATED FOR PROJ >= 6”\n",
      "Warning message in .gd_SetProject(object, ...):\n",
      "“NOT UPDATED FOR PROJ >= 6”\n",
      "Warning message in .gd_SetProject(object, ...):\n",
      "“NOT UPDATED FOR PROJ >= 6”\n",
      "Warning message in .gd_SetProject(object, ...):\n",
      "“NOT UPDATED FOR PROJ >= 6”\n",
      "Warning message in .gd_SetProject(object, ...):\n",
      "“NOT UPDATED FOR PROJ >= 6”\n"
     ]
    }
   ],
   "source": [
    "lista_variables <- c('grid_1','grid_15','grid_2','grid_25','grid_3', 'grid_4','grid_5')\n",
    "for (i in 1:length(archivosdf)){    \n",
    "    df <- get(load(archivosdf[i]))\n",
    "    coords = df[,1:2]\n",
    "    data = df[,4:11]\n",
    "    FireSeassonOrNot <- cbind(coords, df[3])\n",
    "    raster_object <- rasterFromXYZ(FireSeassonOrNot)\n",
    "    for (column in 1:length(data)){\n",
    "        df_toRaster <- cbind(coords, data[column])\n",
    "        dfr  <- rasterFromXYZ(df_toRaster)\n",
    "        raster_object <- stack(raster_object, dfr)\n",
    "    }\n",
    "    #raster_object <- terra::rast(raster_object)\n",
    "    nombre_variable <- lista_variables[i]\n",
    "    ruta_raster <- '../TFM/3.Datos generados/raster/'\n",
    "    ruta_archivo_raster <- paste0(ruta_raster, 'df_raster_',nombre_variable,'.tif')\n",
    "    #terra::writeRaster(raster_object, ruta_archivo_raster, filetype = \"GTiff\", overwrite = TRUE)\n",
    "    writeRaster(raster_object, filename = ruta_archivo_raster, format = \"GTiff\")\n",
    "}"
   ]
  },
  {
   "cell_type": "code",
   "execution_count": 196,
   "id": "54855c31-826f-44e5-a917-361b7def2bb6",
   "metadata": {},
   "outputs": [
    {
     "data": {
      "text/plain": [
       "class      : RasterStack \n",
       "dimensions : 36, 72, 2592, 9  (nrow, ncol, ncell, nlayers)\n",
       "resolution : 5, 5  (x, y)\n",
       "extent     : -180, 180, -90, 90  (xmin, xmax, ymin, ymax)\n",
       "crs        : NA \n",
       "names      : FireSeassonOrNot, main_fire_season_start, main_fire_season_end, secondary//ason_start, secondary_fire_season_end, fireSeassonLength, SeassonalConcentration, SeassonalTiming,       FBA \n",
       "min values :         0.000000,               1.000000,             1.000000,              3.000000,                  3.000000,          1.000000,               0.000000,       -1.570796,  0.000000 \n",
       "max values :         1.000000,              11.000000,            11.000000,             12.000000,                 12.000000,         11.000000,               1.000000,        1.570796,  1.105846 \n"
      ]
     },
     "metadata": {},
     "output_type": "display_data"
    }
   ],
   "source": [
    "raster_object"
   ]
  },
  {
   "cell_type": "code",
   "execution_count": 199,
   "id": "c5c3ace6-f8b6-420a-8223-0462901240cf",
   "metadata": {},
   "outputs": [
    {
     "name": "stdout",
     "output_type": "stream",
     "text": [
      "Error in .local(.Object, ...) : \n",
      "\n"
     ]
    },
    {
     "ename": "ERROR",
     "evalue": "Error in .rasterObjectFromFile(x, band = band, objecttype = \"RasterLayer\", : Cannot create a RasterLayer object from this file. (file does not exist)\n",
     "output_type": "error",
     "traceback": [
      "Error in .rasterObjectFromFile(x, band = band, objecttype = \"RasterLayer\", : Cannot create a RasterLayer object from this file. (file does not exist)\nTraceback:\n",
      "1. raster(\"../raster/df_raster_grid_5.tif\", band = 2)",
      "2. raster(\"../raster/df_raster_grid_5.tif\", band = 2)",
      "3. .local(x, ...)",
      "4. .rasterObjectFromFile(x, band = band, objecttype = \"RasterLayer\", \n .     ...)",
      "5. stop(\"Cannot create a RasterLayer object from this file. (file does not exist)\")"
     ]
    }
   ],
   "source": [
    "obj_ras <- raster('../raster/df_raster_grid_5.tif', band = 2)"
   ]
  },
  {
   "cell_type": "code",
   "execution_count": 200,
   "id": "413d7afd-396a-4719-b830-36f24217673d",
   "metadata": {},
   "outputs": [
    {
     "data": {
      "text/html": [
       "'/home/jovyan/dataframes raster'"
      ],
      "text/latex": [
       "'/home/jovyan/dataframes raster'"
      ],
      "text/markdown": [
       "'/home/jovyan/dataframes raster'"
      ],
      "text/plain": [
       "[1] \"/home/jovyan/dataframes raster\""
      ]
     },
     "metadata": {},
     "output_type": "display_data"
    }
   ],
   "source": [
    "getwd()"
   ]
  },
  {
   "cell_type": "code",
   "execution_count": null,
   "id": "713f6f2c-8c54-4532-9aac-ea86d2f2c784",
   "metadata": {},
   "outputs": [],
   "source": []
  }
 ],
 "metadata": {
  "kernelspec": {
   "display_name": "climate4R",
   "language": "R",
   "name": "climate4r"
  },
  "language_info": {
   "codemirror_mode": "r",
   "file_extension": ".r",
   "mimetype": "text/x-r-source",
   "name": "R",
   "pygments_lexer": "r",
   "version": "3.6.3"
  }
 },
 "nbformat": 4,
 "nbformat_minor": 5
}
