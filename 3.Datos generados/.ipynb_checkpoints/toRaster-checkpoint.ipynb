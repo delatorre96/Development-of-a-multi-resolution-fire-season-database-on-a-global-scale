{
 "cells": [
  {
   "cell_type": "code",
   "execution_count": 76,
   "id": "8b7a1928-d7b4-44ee-bfc0-27ba5f609b34",
   "metadata": {},
   "outputs": [],
   "source": [
    "library('raster')"
   ]
  },
  {
   "cell_type": "code",
   "execution_count": 77,
   "id": "6dc23397-fb48-4c6d-935e-2cd42c14282b",
   "metadata": {},
   "outputs": [],
   "source": [
    "archivosdf <- list.files(path = '../3.Datos generados/dataframes', pattern = \"^df_grid_\", full.names = TRUE)"
   ]
  },
  {
   "cell_type": "code",
   "execution_count": 78,
   "id": "fa8153e5-df8b-4275-925f-602046341b60",
   "metadata": {
    "tags": []
   },
   "outputs": [
    {
     "name": "stderr",
     "output_type": "stream",
     "text": [
      "Warning message in .gd_SetProject(object, ...):\n",
      "“NOT UPDATED FOR PROJ >= 6”\n",
      "Warning message in .gd_SetProject(object, ...):\n",
      "“NOT UPDATED FOR PROJ >= 6”\n",
      "Warning message in .gd_SetProject(object, ...):\n",
      "“NOT UPDATED FOR PROJ >= 6”\n",
      "Warning message in .gd_SetProject(object, ...):\n",
      "“NOT UPDATED FOR PROJ >= 6”\n",
      "Warning message in .gd_SetProject(object, ...):\n",
      "“NOT UPDATED FOR PROJ >= 6”\n",
      "Warning message in .gd_SetProject(object, ...):\n",
      "“NOT UPDATED FOR PROJ >= 6”\n",
      "Warning message in .gd_SetProject(object, ...):\n",
      "“NOT UPDATED FOR PROJ >= 6”\n",
      "Warning message in .gd_SetProject(object, ...):\n",
      "“NOT UPDATED FOR PROJ >= 6”\n"
     ]
    }
   ],
   "source": [
    "lista_variables <- c('grid_05','grid_1','grid_15','grid_2','grid_25','grid_3', 'grid_4','grid_5')\n",
    "grados <- c('0.5', '1', '1.5', '2', '2.5', '3', '4','5')\n",
    "for (i in 1:length(archivosdf)){    \n",
    "    df <- get(load(archivosdf[i]))\n",
    "    coords = df[,1:2]\n",
    "    data = df[,4:11]\n",
    "    FireSeassonOrNot <- cbind(coords, df[3])\n",
    "    raster_object <- rasterFromXYZ(FireSeassonOrNot)\n",
    "    for (column in 1:length(data)){\n",
    "        df_toRaster <- cbind(coords, data[column])\n",
    "        dfr  <- rasterFromXYZ(df_toRaster)\n",
    "        raster_object <- stack(raster_object, dfr)\n",
    "    }\n",
    "    #Ahora vamos con los metadatos:\n",
    "    metadata(raster_object)$title = paste0('Fire Seasson characterization of an earth grid at ',grados[i])\n",
    "    metadata(raster_object)$author = 'Ignacio de la Torre'\n",
    "    metadata(raster_object)$date <- \"2023-09-15\"\n",
    "    metadata(raster_object)$type <- 'Grid data'\n",
    "    metadata(raster_object)$format <- 'Raster'\n",
    "    metadata(raster_object)$description <- \"This raster contains 9 variables in layer format:\\n FsOrNot (int): a binary variable (0,1) that contains information whether a pixel has a fire season or not \\n MainStart (int): Starting month of the fire season \\n MainEnd (int) = Ending month of the fire season \\n SecondStart (int): Start month of a possible secondary fire seasson (if it is bimodal) \\n SecondEnd (int) : End month of the secondary fire seasson \\n Length (int): Months that lasts the fire season \\n C (float): Seasonal concentration of the fire seasson \\n P (float): Seasonal Phase or timming of the fire season \\n FBA (float): Fraction of Burneable Area \\n Look at Hantson, S., D. I. Kelley, A. Arneth, y et al., 2020: Quantitative assessment of fire and vegetation properties in simulations with fire-enabled vegetation models from the Fire Model Intercomparison Project. Geoscientific Model Development, 13, 3299–3318, doi:10.5194/gmd-13-3299-2020 for gather more information of Concentration and Phase. \\n This data structure has been built from the EU Copernicus Program (see more at https://cds.climate.copernicus.eu/cdsapp#!/dataset/satellite-fire-burned-area?tab=overview)\"\n",
    "    #Guardamos el raster\n",
    "    nombre_variable <- lista_variables[i]\n",
    "    ruta_raster <- 'raster/'\n",
    "    ruta_archivo_raster <- paste0(ruta_raster, 'df_raster_',nombre_variable,'.tif')\n",
    "    writeRaster(raster_object, filename = ruta_archivo_raster, format = \"GTiff\")\n",
    "    \n",
    "    ######AÑADIR META DATO ### \n",
    "    ## Se puede añadir códigos para definir cada variable\n",
    "}"
   ]
  },
  {
   "cell_type": "code",
   "execution_count": 56,
   "id": "4d224e9e-ba15-4175-81dc-cb05355f3e3c",
   "metadata": {},
   "outputs": [
    {
     "name": "stdout",
     "output_type": "stream",
     "text": [
      "This raster contains 9 variables in layer format:\n",
      " FsOrNot (int): a binary variable (0,1) that contains information whether a pixel has a fire season or not \n",
      " MainStart (int): Starting month of the fire season \n",
      " MainEnd (int) = Ending month of the fire season \n",
      " SecondStart (int): Start month of a possible secondary fire seasson (if it is bimodal) \n",
      " SecondEnd (int) : End month of the secondary fire seasson \n",
      " Length (int): Months that lasts the fire season \n",
      " C (float): Seasonal concentration of the fire seasson \n",
      " P (float): Seasonal Phase or timming of the fire season \n",
      " FBA (float): Fraction of Burneable Area \n",
      " Look at Hantson, S., D. I. Kelley, A. Arneth, y et al., 2020: Quantitative assessment of fire and vegetation properties in simulations with fire-enabled vegetation models from the Fire Model Intercomparison Project. Geoscientific Model Development, 13, 3299–3318, doi:10.5194/gmd-13-3299-2020 for gather more information of Concentration and Phase. \n",
      " \n",
      " This data structure has been built from the EU Copernicus Program (see more at https://cds.climate.copernicus.eu/cdsapp#!/dataset/satellite-fire-burned-area?tab=overview)"
     ]
    }
   ],
   "source": [
    "cat(\"This raster contains 9 variables in layer format:\\n FsOrNot (int): a binary variable (0,1) that contains information whether a pixel has a fire season or not \\n MainStart (int): Starting month of the fire season \\n MainEnd (int) = Ending month of the fire season \\n SecondStart (int): Start month of a possible secondary fire seasson (if it is bimodal) \\n SecondEnd (int) : End month of the secondary fire seasson \\n Length (int): Months that lasts the fire season \\n C (float): Seasonal concentration of the fire seasson \\n P (float): Seasonal Phase or timming of the fire season \\n FBA (float): Fraction of Burneable Area \\n Look at Hantson, S., D. I. Kelley, A. Arneth, y et al., 2020: Quantitative assessment of fire and vegetation properties in simulations with fire-enabled vegetation models from the Fire Model Intercomparison Project. Geoscientific Model Development, 13, 3299–3318, doi:10.5194/gmd-13-3299-2020 for gather more information of Concentration and Phase. \\n This data structure has been built from the EU Copernicus Program (see more at https://cds.climate.copernicus.eu/cdsapp#!/dataset/satellite-fire-burned-area?tab=overview)\")"
   ]
  },
  {
   "cell_type": "code",
   "execution_count": null,
   "id": "334d1cd3-c80c-4950-92e2-1dbed9a2837a",
   "metadata": {},
   "outputs": [],
   "source": []
  }
 ],
 "metadata": {
  "kernelspec": {
   "display_name": "climate4R",
   "language": "R",
   "name": "climate4r"
  },
  "language_info": {
   "codemirror_mode": "r",
   "file_extension": ".r",
   "mimetype": "text/x-r-source",
   "name": "R",
   "pygments_lexer": "r",
   "version": "3.6.3"
  }
 },
 "nbformat": 4,
 "nbformat_minor": 5
}
