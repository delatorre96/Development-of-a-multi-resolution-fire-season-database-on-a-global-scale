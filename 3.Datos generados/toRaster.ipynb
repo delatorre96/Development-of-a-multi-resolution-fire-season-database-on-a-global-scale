{
 "cells": [
  {
   "cell_type": "code",
   "execution_count": 1,
   "id": "8b7a1928-d7b4-44ee-bfc0-27ba5f609b34",
   "metadata": {},
   "outputs": [
    {
     "name": "stderr",
     "output_type": "stream",
     "text": [
      "Loading required package: sp\n",
      "\n"
     ]
    }
   ],
   "source": [
    "library('raster')"
   ]
  },
  {
   "cell_type": "code",
   "execution_count": 97,
   "id": "7cb7aba0-bc19-4344-8566-aa0c9b968456",
   "metadata": {},
   "outputs": [],
   "source": [
    "archivosdf <- list.files(path = '../TFM/3.Datos generados/dataframes', pattern = \"^df_grid_\", full.names = TRUE)"
   ]
  },
  {
   "cell_type": "code",
   "execution_count": 191,
   "id": "fa8153e5-df8b-4275-925f-602046341b60",
   "metadata": {
    "tags": []
   },
   "outputs": [
    {
     "name": "stderr",
     "output_type": "stream",
     "text": [
      "Warning message in .gd_SetProject(object, ...):\n",
      "“NOT UPDATED FOR PROJ >= 6”\n",
      "Warning message in .gd_SetProject(object, ...):\n",
      "“NOT UPDATED FOR PROJ >= 6”\n",
      "Warning message in .gd_SetProject(object, ...):\n",
      "“NOT UPDATED FOR PROJ >= 6”\n",
      "Warning message in .gd_SetProject(object, ...):\n",
      "“NOT UPDATED FOR PROJ >= 6”\n",
      "Warning message in .gd_SetProject(object, ...):\n",
      "“NOT UPDATED FOR PROJ >= 6”\n",
      "Warning message in .gd_SetProject(object, ...):\n",
      "“NOT UPDATED FOR PROJ >= 6”\n",
      "Warning message in .gd_SetProject(object, ...):\n",
      "“NOT UPDATED FOR PROJ >= 6”\n"
     ]
    }
   ],
   "source": [
    "lista_variables <- c('grid_1','grid_15','grid_2','grid_25','grid_3', 'grid_4','grid_5')\n",
    "for (i in 1:length(archivosdf)){    \n",
    "    df <- get(load(archivosdf[i]))\n",
    "    coords = df[,1:2]\n",
    "    data = df[,4:11]\n",
    "    FireSeassonOrNot <- cbind(coords, df[3])\n",
    "    raster_object <- rasterFromXYZ(FireSeassonOrNot)\n",
    "    for (column in 1:length(data)){\n",
    "        df_toRaster <- cbind(coords, data[column])\n",
    "        dfr  <- rasterFromXYZ(df_toRaster)\n",
    "        raster_object <- stack(raster_object, dfr)\n",
    "    }\n",
    "    #raster_object <- terra::rast(raster_object)\n",
    "    nombre_variable <- lista_variables[i]\n",
    "    ruta_raster <- '../TFM/3.Datos generados/raster/'\n",
    "    ruta_archivo_raster <- paste0(ruta_raster, 'df_raster_',nombre_variable,'.tif')\n",
    "    #terra::writeRaster(raster_object, ruta_archivo_raster, filetype = \"GTiff\", overwrite = TRUE)\n",
    "    writeRaster(raster_object, filename = ruta_archivo_raster, format = \"GTiff\")\n",
    "}"
   ]
  }
 ],
 "metadata": {
  "kernelspec": {
   "display_name": "climate4R",
   "language": "R",
   "name": "climate4r"
  },
  "language_info": {
   "codemirror_mode": "r",
   "file_extension": ".r",
   "mimetype": "text/x-r-source",
   "name": "R",
   "pygments_lexer": "r",
   "version": "3.6.3"
  }
 },
 "nbformat": 4,
 "nbformat_minor": 5
}
